{
 "cells": [
  {
   "cell_type": "markdown",
   "metadata": {},
   "source": [
    "# Data Preprocessing"
   ]
  },
  {
   "cell_type": "code",
   "execution_count": 1621,
   "metadata": {},
   "outputs": [],
   "source": [
    "# Importing the libraries\n",
    "import numpy as np\n",
    "import matplotlib.pyplot as plt\n",
    "import pandas as pd"
   ]
  },
  {
   "cell_type": "code",
   "execution_count": 1622,
   "metadata": {},
   "outputs": [],
   "source": [
    "# Importing the dataset\n",
    "df = pd.read_csv('data_di.csv', sep=',', parse_dates = ['policy_bind_date','incident_date'], dayfirst = True)"
   ]
  },
  {
   "cell_type": "code",
   "execution_count": 1623,
   "metadata": {},
   "outputs": [
    {
     "data": {
      "text/html": [
       "<div>\n",
       "<style scoped>\n",
       "    .dataframe tbody tr th:only-of-type {\n",
       "        vertical-align: middle;\n",
       "    }\n",
       "\n",
       "    .dataframe tbody tr th {\n",
       "        vertical-align: top;\n",
       "    }\n",
       "\n",
       "    .dataframe thead th {\n",
       "        text-align: right;\n",
       "    }\n",
       "</style>\n",
       "<table border=\"1\" class=\"dataframe\">\n",
       "  <thead>\n",
       "    <tr style=\"text-align: right;\">\n",
       "      <th></th>\n",
       "      <th>months_as_customer</th>\n",
       "      <th>age</th>\n",
       "      <th>policy_number</th>\n",
       "      <th>policy_bind_date</th>\n",
       "      <th>policy_state</th>\n",
       "      <th>policy_csl</th>\n",
       "      <th>policy_deductable</th>\n",
       "      <th>policy_annual_premium</th>\n",
       "      <th>umbrella_limit</th>\n",
       "      <th>insured_zip</th>\n",
       "      <th>...</th>\n",
       "      <th>witnesses</th>\n",
       "      <th>police_report_available</th>\n",
       "      <th>total_claim_amount</th>\n",
       "      <th>injury_claim</th>\n",
       "      <th>property_claim</th>\n",
       "      <th>vehicle_claim</th>\n",
       "      <th>auto_make</th>\n",
       "      <th>auto_model</th>\n",
       "      <th>auto_year</th>\n",
       "      <th>fraud_reported</th>\n",
       "    </tr>\n",
       "  </thead>\n",
       "  <tbody>\n",
       "    <tr>\n",
       "      <th>0</th>\n",
       "      <td>328</td>\n",
       "      <td>48</td>\n",
       "      <td>521585</td>\n",
       "      <td>2014-10-17</td>\n",
       "      <td>OH</td>\n",
       "      <td>250/500</td>\n",
       "      <td>1000</td>\n",
       "      <td>1406.91</td>\n",
       "      <td>0</td>\n",
       "      <td>466132</td>\n",
       "      <td>...</td>\n",
       "      <td>2</td>\n",
       "      <td>YES</td>\n",
       "      <td>71610</td>\n",
       "      <td>6510</td>\n",
       "      <td>13020</td>\n",
       "      <td>52080</td>\n",
       "      <td>Saab</td>\n",
       "      <td>92x</td>\n",
       "      <td>2004</td>\n",
       "      <td>Y</td>\n",
       "    </tr>\n",
       "    <tr>\n",
       "      <th>1</th>\n",
       "      <td>228</td>\n",
       "      <td>42</td>\n",
       "      <td>342868</td>\n",
       "      <td>2006-06-27</td>\n",
       "      <td>IN</td>\n",
       "      <td>250/500</td>\n",
       "      <td>2000</td>\n",
       "      <td>1197.22</td>\n",
       "      <td>5000000</td>\n",
       "      <td>468176</td>\n",
       "      <td>...</td>\n",
       "      <td>0</td>\n",
       "      <td>?</td>\n",
       "      <td>5070</td>\n",
       "      <td>780</td>\n",
       "      <td>780</td>\n",
       "      <td>3510</td>\n",
       "      <td>Mercedes</td>\n",
       "      <td>E400</td>\n",
       "      <td>2007</td>\n",
       "      <td>Y</td>\n",
       "    </tr>\n",
       "    <tr>\n",
       "      <th>2</th>\n",
       "      <td>134</td>\n",
       "      <td>29</td>\n",
       "      <td>687698</td>\n",
       "      <td>2000-09-06</td>\n",
       "      <td>OH</td>\n",
       "      <td>100/300</td>\n",
       "      <td>2000</td>\n",
       "      <td>1413.14</td>\n",
       "      <td>5000000</td>\n",
       "      <td>430632</td>\n",
       "      <td>...</td>\n",
       "      <td>3</td>\n",
       "      <td>NO</td>\n",
       "      <td>34650</td>\n",
       "      <td>7700</td>\n",
       "      <td>3850</td>\n",
       "      <td>23100</td>\n",
       "      <td>Dodge</td>\n",
       "      <td>RAM</td>\n",
       "      <td>2007</td>\n",
       "      <td>N</td>\n",
       "    </tr>\n",
       "    <tr>\n",
       "      <th>3</th>\n",
       "      <td>256</td>\n",
       "      <td>41</td>\n",
       "      <td>227811</td>\n",
       "      <td>1990-05-25</td>\n",
       "      <td>IL</td>\n",
       "      <td>250/500</td>\n",
       "      <td>2000</td>\n",
       "      <td>1415.74</td>\n",
       "      <td>6000000</td>\n",
       "      <td>608117</td>\n",
       "      <td>...</td>\n",
       "      <td>2</td>\n",
       "      <td>NO</td>\n",
       "      <td>63400</td>\n",
       "      <td>6340</td>\n",
       "      <td>6340</td>\n",
       "      <td>50720</td>\n",
       "      <td>Chevrolet</td>\n",
       "      <td>Tahoe</td>\n",
       "      <td>2014</td>\n",
       "      <td>Y</td>\n",
       "    </tr>\n",
       "    <tr>\n",
       "      <th>4</th>\n",
       "      <td>228</td>\n",
       "      <td>44</td>\n",
       "      <td>367455</td>\n",
       "      <td>2014-06-06</td>\n",
       "      <td>IL</td>\n",
       "      <td>500/1000</td>\n",
       "      <td>1000</td>\n",
       "      <td>1583.91</td>\n",
       "      <td>6000000</td>\n",
       "      <td>610706</td>\n",
       "      <td>...</td>\n",
       "      <td>1</td>\n",
       "      <td>NO</td>\n",
       "      <td>6500</td>\n",
       "      <td>1300</td>\n",
       "      <td>650</td>\n",
       "      <td>4550</td>\n",
       "      <td>Accura</td>\n",
       "      <td>RSX</td>\n",
       "      <td>2009</td>\n",
       "      <td>N</td>\n",
       "    </tr>\n",
       "    <tr>\n",
       "      <th>...</th>\n",
       "      <td>...</td>\n",
       "      <td>...</td>\n",
       "      <td>...</td>\n",
       "      <td>...</td>\n",
       "      <td>...</td>\n",
       "      <td>...</td>\n",
       "      <td>...</td>\n",
       "      <td>...</td>\n",
       "      <td>...</td>\n",
       "      <td>...</td>\n",
       "      <td>...</td>\n",
       "      <td>...</td>\n",
       "      <td>...</td>\n",
       "      <td>...</td>\n",
       "      <td>...</td>\n",
       "      <td>...</td>\n",
       "      <td>...</td>\n",
       "      <td>...</td>\n",
       "      <td>...</td>\n",
       "      <td>...</td>\n",
       "      <td>...</td>\n",
       "    </tr>\n",
       "    <tr>\n",
       "      <th>995</th>\n",
       "      <td>3</td>\n",
       "      <td>38</td>\n",
       "      <td>941851</td>\n",
       "      <td>1991-07-16</td>\n",
       "      <td>OH</td>\n",
       "      <td>500/1000</td>\n",
       "      <td>1000</td>\n",
       "      <td>1310.80</td>\n",
       "      <td>0</td>\n",
       "      <td>431289</td>\n",
       "      <td>...</td>\n",
       "      <td>1</td>\n",
       "      <td>?</td>\n",
       "      <td>87200</td>\n",
       "      <td>17440</td>\n",
       "      <td>8720</td>\n",
       "      <td>61040</td>\n",
       "      <td>Honda</td>\n",
       "      <td>Accord</td>\n",
       "      <td>2006</td>\n",
       "      <td>N</td>\n",
       "    </tr>\n",
       "    <tr>\n",
       "      <th>996</th>\n",
       "      <td>285</td>\n",
       "      <td>41</td>\n",
       "      <td>186934</td>\n",
       "      <td>2014-01-05</td>\n",
       "      <td>IL</td>\n",
       "      <td>100/300</td>\n",
       "      <td>1000</td>\n",
       "      <td>1436.79</td>\n",
       "      <td>0</td>\n",
       "      <td>608177</td>\n",
       "      <td>...</td>\n",
       "      <td>3</td>\n",
       "      <td>?</td>\n",
       "      <td>108480</td>\n",
       "      <td>18080</td>\n",
       "      <td>18080</td>\n",
       "      <td>72320</td>\n",
       "      <td>Volkswagen</td>\n",
       "      <td>Passat</td>\n",
       "      <td>2015</td>\n",
       "      <td>N</td>\n",
       "    </tr>\n",
       "    <tr>\n",
       "      <th>997</th>\n",
       "      <td>130</td>\n",
       "      <td>34</td>\n",
       "      <td>918516</td>\n",
       "      <td>2003-02-17</td>\n",
       "      <td>OH</td>\n",
       "      <td>250/500</td>\n",
       "      <td>500</td>\n",
       "      <td>1383.49</td>\n",
       "      <td>3000000</td>\n",
       "      <td>442797</td>\n",
       "      <td>...</td>\n",
       "      <td>3</td>\n",
       "      <td>YES</td>\n",
       "      <td>67500</td>\n",
       "      <td>7500</td>\n",
       "      <td>7500</td>\n",
       "      <td>52500</td>\n",
       "      <td>Suburu</td>\n",
       "      <td>Impreza</td>\n",
       "      <td>1996</td>\n",
       "      <td>N</td>\n",
       "    </tr>\n",
       "    <tr>\n",
       "      <th>998</th>\n",
       "      <td>458</td>\n",
       "      <td>62</td>\n",
       "      <td>533940</td>\n",
       "      <td>2011-11-18</td>\n",
       "      <td>IL</td>\n",
       "      <td>500/1000</td>\n",
       "      <td>2000</td>\n",
       "      <td>1356.92</td>\n",
       "      <td>5000000</td>\n",
       "      <td>441714</td>\n",
       "      <td>...</td>\n",
       "      <td>1</td>\n",
       "      <td>YES</td>\n",
       "      <td>46980</td>\n",
       "      <td>5220</td>\n",
       "      <td>5220</td>\n",
       "      <td>36540</td>\n",
       "      <td>Audi</td>\n",
       "      <td>A5</td>\n",
       "      <td>1998</td>\n",
       "      <td>N</td>\n",
       "    </tr>\n",
       "    <tr>\n",
       "      <th>999</th>\n",
       "      <td>456</td>\n",
       "      <td>60</td>\n",
       "      <td>556080</td>\n",
       "      <td>1996-11-11</td>\n",
       "      <td>OH</td>\n",
       "      <td>250/500</td>\n",
       "      <td>1000</td>\n",
       "      <td>766.19</td>\n",
       "      <td>0</td>\n",
       "      <td>612260</td>\n",
       "      <td>...</td>\n",
       "      <td>3</td>\n",
       "      <td>?</td>\n",
       "      <td>5060</td>\n",
       "      <td>460</td>\n",
       "      <td>920</td>\n",
       "      <td>3680</td>\n",
       "      <td>Mercedes</td>\n",
       "      <td>E400</td>\n",
       "      <td>2007</td>\n",
       "      <td>N</td>\n",
       "    </tr>\n",
       "  </tbody>\n",
       "</table>\n",
       "<p>1000 rows × 39 columns</p>\n",
       "</div>"
      ],
      "text/plain": [
       "     months_as_customer  age  policy_number policy_bind_date policy_state  \\\n",
       "0                   328   48         521585       2014-10-17           OH   \n",
       "1                   228   42         342868       2006-06-27           IN   \n",
       "2                   134   29         687698       2000-09-06           OH   \n",
       "3                   256   41         227811       1990-05-25           IL   \n",
       "4                   228   44         367455       2014-06-06           IL   \n",
       "..                  ...  ...            ...              ...          ...   \n",
       "995                   3   38         941851       1991-07-16           OH   \n",
       "996                 285   41         186934       2014-01-05           IL   \n",
       "997                 130   34         918516       2003-02-17           OH   \n",
       "998                 458   62         533940       2011-11-18           IL   \n",
       "999                 456   60         556080       1996-11-11           OH   \n",
       "\n",
       "    policy_csl  policy_deductable  policy_annual_premium  umbrella_limit  \\\n",
       "0      250/500               1000                1406.91               0   \n",
       "1      250/500               2000                1197.22         5000000   \n",
       "2      100/300               2000                1413.14         5000000   \n",
       "3      250/500               2000                1415.74         6000000   \n",
       "4     500/1000               1000                1583.91         6000000   \n",
       "..         ...                ...                    ...             ...   \n",
       "995   500/1000               1000                1310.80               0   \n",
       "996    100/300               1000                1436.79               0   \n",
       "997    250/500                500                1383.49         3000000   \n",
       "998   500/1000               2000                1356.92         5000000   \n",
       "999    250/500               1000                 766.19               0   \n",
       "\n",
       "     insured_zip  ... witnesses police_report_available total_claim_amount  \\\n",
       "0         466132  ...         2                     YES              71610   \n",
       "1         468176  ...         0                       ?               5070   \n",
       "2         430632  ...         3                      NO              34650   \n",
       "3         608117  ...         2                      NO              63400   \n",
       "4         610706  ...         1                      NO               6500   \n",
       "..           ...  ...       ...                     ...                ...   \n",
       "995       431289  ...         1                       ?              87200   \n",
       "996       608177  ...         3                       ?             108480   \n",
       "997       442797  ...         3                     YES              67500   \n",
       "998       441714  ...         1                     YES              46980   \n",
       "999       612260  ...         3                       ?               5060   \n",
       "\n",
       "    injury_claim property_claim  vehicle_claim   auto_make auto_model  \\\n",
       "0           6510          13020          52080        Saab        92x   \n",
       "1            780            780           3510    Mercedes       E400   \n",
       "2           7700           3850          23100       Dodge        RAM   \n",
       "3           6340           6340          50720   Chevrolet      Tahoe   \n",
       "4           1300            650           4550      Accura        RSX   \n",
       "..           ...            ...            ...         ...        ...   \n",
       "995        17440           8720          61040       Honda     Accord   \n",
       "996        18080          18080          72320  Volkswagen     Passat   \n",
       "997         7500           7500          52500      Suburu    Impreza   \n",
       "998         5220           5220          36540        Audi         A5   \n",
       "999          460            920           3680    Mercedes       E400   \n",
       "\n",
       "    auto_year fraud_reported  \n",
       "0        2004              Y  \n",
       "1        2007              Y  \n",
       "2        2007              N  \n",
       "3        2014              Y  \n",
       "4        2009              N  \n",
       "..        ...            ...  \n",
       "995      2006              N  \n",
       "996      2015              N  \n",
       "997      1996              N  \n",
       "998      1998              N  \n",
       "999      2007              N  \n",
       "\n",
       "[1000 rows x 39 columns]"
      ]
     },
     "execution_count": 1623,
     "metadata": {},
     "output_type": "execute_result"
    }
   ],
   "source": [
    "df"
   ]
  },
  {
   "cell_type": "code",
   "execution_count": 1624,
   "metadata": {},
   "outputs": [
    {
     "name": "stdout",
     "output_type": "stream",
     "text": [
      "<class 'pandas.core.frame.DataFrame'>\n",
      "RangeIndex: 1000 entries, 0 to 999\n",
      "Data columns (total 39 columns):\n",
      " #   Column                       Non-Null Count  Dtype         \n",
      "---  ------                       --------------  -----         \n",
      " 0   months_as_customer           1000 non-null   int64         \n",
      " 1   age                          1000 non-null   int64         \n",
      " 2   policy_number                1000 non-null   int64         \n",
      " 3   policy_bind_date             1000 non-null   datetime64[ns]\n",
      " 4   policy_state                 1000 non-null   object        \n",
      " 5   policy_csl                   1000 non-null   object        \n",
      " 6   policy_deductable            1000 non-null   int64         \n",
      " 7   policy_annual_premium        1000 non-null   float64       \n",
      " 8   umbrella_limit               1000 non-null   int64         \n",
      " 9   insured_zip                  1000 non-null   int64         \n",
      " 10  insured_sex                  1000 non-null   object        \n",
      " 11  insured_education_level      1000 non-null   object        \n",
      " 12  insured_occupation           1000 non-null   object        \n",
      " 13  insured_hobbies              1000 non-null   object        \n",
      " 14  insured_relationship         1000 non-null   object        \n",
      " 15  capital-gains                1000 non-null   int64         \n",
      " 16  capital-loss                 1000 non-null   int64         \n",
      " 17  incident_date                1000 non-null   datetime64[ns]\n",
      " 18  incident_type                1000 non-null   object        \n",
      " 19  collision_type               1000 non-null   object        \n",
      " 20  incident_severity            1000 non-null   object        \n",
      " 21  authorities_contacted        1000 non-null   object        \n",
      " 22  incident_state               1000 non-null   object        \n",
      " 23  incident_city                1000 non-null   object        \n",
      " 24  incident_location            1000 non-null   object        \n",
      " 25  incident_hour_of_the_day     1000 non-null   int64         \n",
      " 26  number_of_vehicles_involved  1000 non-null   int64         \n",
      " 27  property_damage              1000 non-null   object        \n",
      " 28  bodily_injuries              1000 non-null   int64         \n",
      " 29  witnesses                    1000 non-null   int64         \n",
      " 30  police_report_available      1000 non-null   object        \n",
      " 31  total_claim_amount           1000 non-null   int64         \n",
      " 32  injury_claim                 1000 non-null   int64         \n",
      " 33  property_claim               1000 non-null   int64         \n",
      " 34  vehicle_claim                1000 non-null   int64         \n",
      " 35  auto_make                    1000 non-null   object        \n",
      " 36  auto_model                   1000 non-null   object        \n",
      " 37  auto_year                    1000 non-null   int64         \n",
      " 38  fraud_reported               1000 non-null   object        \n",
      "dtypes: datetime64[ns](2), float64(1), int64(17), object(19)\n",
      "memory usage: 304.8+ KB\n"
     ]
    }
   ],
   "source": [
    "df.info()"
   ]
  },
  {
   "cell_type": "markdown",
   "metadata": {},
   "source": [
    "Заменяю знак \"?\" на идентификатор пропущенного значения."
   ]
  },
  {
   "cell_type": "code",
   "execution_count": 1625,
   "metadata": {},
   "outputs": [
    {
     "name": "stdout",
     "output_type": "stream",
     "text": [
      "<class 'pandas.core.frame.DataFrame'>\n",
      "RangeIndex: 1000 entries, 0 to 999\n",
      "Data columns (total 39 columns):\n",
      " #   Column                       Non-Null Count  Dtype         \n",
      "---  ------                       --------------  -----         \n",
      " 0   months_as_customer           1000 non-null   int64         \n",
      " 1   age                          1000 non-null   int64         \n",
      " 2   policy_number                1000 non-null   int64         \n",
      " 3   policy_bind_date             1000 non-null   datetime64[ns]\n",
      " 4   policy_state                 1000 non-null   object        \n",
      " 5   policy_csl                   1000 non-null   object        \n",
      " 6   policy_deductable            1000 non-null   int64         \n",
      " 7   policy_annual_premium        1000 non-null   float64       \n",
      " 8   umbrella_limit               1000 non-null   int64         \n",
      " 9   insured_zip                  1000 non-null   int64         \n",
      " 10  insured_sex                  1000 non-null   object        \n",
      " 11  insured_education_level      1000 non-null   object        \n",
      " 12  insured_occupation           1000 non-null   object        \n",
      " 13  insured_hobbies              1000 non-null   object        \n",
      " 14  insured_relationship         1000 non-null   object        \n",
      " 15  capital-gains                1000 non-null   int64         \n",
      " 16  capital-loss                 1000 non-null   int64         \n",
      " 17  incident_date                1000 non-null   datetime64[ns]\n",
      " 18  incident_type                1000 non-null   object        \n",
      " 19  collision_type               822 non-null    object        \n",
      " 20  incident_severity            1000 non-null   object        \n",
      " 21  authorities_contacted        1000 non-null   object        \n",
      " 22  incident_state               1000 non-null   object        \n",
      " 23  incident_city                1000 non-null   object        \n",
      " 24  incident_location            1000 non-null   object        \n",
      " 25  incident_hour_of_the_day     1000 non-null   int64         \n",
      " 26  number_of_vehicles_involved  1000 non-null   int64         \n",
      " 27  property_damage              640 non-null    object        \n",
      " 28  bodily_injuries              1000 non-null   int64         \n",
      " 29  witnesses                    1000 non-null   int64         \n",
      " 30  police_report_available      657 non-null    object        \n",
      " 31  total_claim_amount           1000 non-null   int64         \n",
      " 32  injury_claim                 1000 non-null   int64         \n",
      " 33  property_claim               1000 non-null   int64         \n",
      " 34  vehicle_claim                1000 non-null   int64         \n",
      " 35  auto_make                    1000 non-null   object        \n",
      " 36  auto_model                   1000 non-null   object        \n",
      " 37  auto_year                    1000 non-null   int64         \n",
      " 38  fraud_reported               1000 non-null   object        \n",
      "dtypes: datetime64[ns](2), float64(1), int64(17), object(19)\n",
      "memory usage: 304.8+ KB\n"
     ]
    }
   ],
   "source": [
    "df = df.replace('?',np.NaN)\n",
    "df.info()"
   ]
  },
  {
   "cell_type": "markdown",
   "metadata": {},
   "source": [
    "Делаю проверку на количество уникальных значений по переменным"
   ]
  },
  {
   "cell_type": "code",
   "execution_count": 1626,
   "metadata": {},
   "outputs": [
    {
     "data": {
      "text/plain": [
       "months_as_customer              391\n",
       "age                              46\n",
       "policy_number                  1000\n",
       "policy_bind_date                951\n",
       "policy_state                      3\n",
       "policy_csl                        3\n",
       "policy_deductable                 3\n",
       "policy_annual_premium           991\n",
       "umbrella_limit                   11\n",
       "insured_zip                     995\n",
       "insured_sex                       2\n",
       "insured_education_level           7\n",
       "insured_occupation               14\n",
       "insured_hobbies                  20\n",
       "insured_relationship              6\n",
       "capital-gains                   338\n",
       "capital-loss                    354\n",
       "incident_date                    60\n",
       "incident_type                     4\n",
       "collision_type                    4\n",
       "incident_severity                 4\n",
       "authorities_contacted             5\n",
       "incident_state                    7\n",
       "incident_city                     7\n",
       "incident_location              1000\n",
       "incident_hour_of_the_day         24\n",
       "number_of_vehicles_involved       4\n",
       "property_damage                   3\n",
       "bodily_injuries                   3\n",
       "witnesses                         4\n",
       "police_report_available           3\n",
       "total_claim_amount              763\n",
       "injury_claim                    638\n",
       "property_claim                  626\n",
       "vehicle_claim                   726\n",
       "auto_make                        14\n",
       "auto_model                       39\n",
       "auto_year                        21\n",
       "fraud_reported                    2\n",
       "dtype: int64"
      ]
     },
     "execution_count": 1626,
     "metadata": {},
     "output_type": "execute_result"
    }
   ],
   "source": [
    "df.apply(lambda x: len(x.unique()))\n",
    "#df.nunique()"
   ]
  },
  {
   "cell_type": "markdown",
   "metadata": {},
   "source": [
    "Удаляю переменные, которые сожержат большое кол-во уникальныз значений и являются неинформативными."
   ]
  },
  {
   "cell_type": "code",
   "execution_count": 1627,
   "metadata": {},
   "outputs": [
    {
     "data": {
      "text/html": [
       "<div>\n",
       "<style scoped>\n",
       "    .dataframe tbody tr th:only-of-type {\n",
       "        vertical-align: middle;\n",
       "    }\n",
       "\n",
       "    .dataframe tbody tr th {\n",
       "        vertical-align: top;\n",
       "    }\n",
       "\n",
       "    .dataframe thead th {\n",
       "        text-align: right;\n",
       "    }\n",
       "</style>\n",
       "<table border=\"1\" class=\"dataframe\">\n",
       "  <thead>\n",
       "    <tr style=\"text-align: right;\">\n",
       "      <th></th>\n",
       "      <th>months_as_customer</th>\n",
       "      <th>age</th>\n",
       "      <th>policy_state</th>\n",
       "      <th>policy_csl</th>\n",
       "      <th>policy_deductable</th>\n",
       "      <th>policy_annual_premium</th>\n",
       "      <th>umbrella_limit</th>\n",
       "      <th>insured_sex</th>\n",
       "      <th>insured_education_level</th>\n",
       "      <th>insured_occupation</th>\n",
       "      <th>...</th>\n",
       "      <th>witnesses</th>\n",
       "      <th>police_report_available</th>\n",
       "      <th>total_claim_amount</th>\n",
       "      <th>injury_claim</th>\n",
       "      <th>property_claim</th>\n",
       "      <th>vehicle_claim</th>\n",
       "      <th>auto_make</th>\n",
       "      <th>auto_model</th>\n",
       "      <th>auto_year</th>\n",
       "      <th>fraud_reported</th>\n",
       "    </tr>\n",
       "  </thead>\n",
       "  <tbody>\n",
       "    <tr>\n",
       "      <th>0</th>\n",
       "      <td>328</td>\n",
       "      <td>48</td>\n",
       "      <td>OH</td>\n",
       "      <td>250/500</td>\n",
       "      <td>1000</td>\n",
       "      <td>1406.91</td>\n",
       "      <td>0</td>\n",
       "      <td>MALE</td>\n",
       "      <td>MD</td>\n",
       "      <td>craft-repair</td>\n",
       "      <td>...</td>\n",
       "      <td>2</td>\n",
       "      <td>YES</td>\n",
       "      <td>71610</td>\n",
       "      <td>6510</td>\n",
       "      <td>13020</td>\n",
       "      <td>52080</td>\n",
       "      <td>Saab</td>\n",
       "      <td>92x</td>\n",
       "      <td>2004</td>\n",
       "      <td>Y</td>\n",
       "    </tr>\n",
       "    <tr>\n",
       "      <th>1</th>\n",
       "      <td>228</td>\n",
       "      <td>42</td>\n",
       "      <td>IN</td>\n",
       "      <td>250/500</td>\n",
       "      <td>2000</td>\n",
       "      <td>1197.22</td>\n",
       "      <td>5000000</td>\n",
       "      <td>MALE</td>\n",
       "      <td>MD</td>\n",
       "      <td>machine-op-inspct</td>\n",
       "      <td>...</td>\n",
       "      <td>0</td>\n",
       "      <td>NaN</td>\n",
       "      <td>5070</td>\n",
       "      <td>780</td>\n",
       "      <td>780</td>\n",
       "      <td>3510</td>\n",
       "      <td>Mercedes</td>\n",
       "      <td>E400</td>\n",
       "      <td>2007</td>\n",
       "      <td>Y</td>\n",
       "    </tr>\n",
       "    <tr>\n",
       "      <th>2</th>\n",
       "      <td>134</td>\n",
       "      <td>29</td>\n",
       "      <td>OH</td>\n",
       "      <td>100/300</td>\n",
       "      <td>2000</td>\n",
       "      <td>1413.14</td>\n",
       "      <td>5000000</td>\n",
       "      <td>FEMALE</td>\n",
       "      <td>PhD</td>\n",
       "      <td>sales</td>\n",
       "      <td>...</td>\n",
       "      <td>3</td>\n",
       "      <td>NO</td>\n",
       "      <td>34650</td>\n",
       "      <td>7700</td>\n",
       "      <td>3850</td>\n",
       "      <td>23100</td>\n",
       "      <td>Dodge</td>\n",
       "      <td>RAM</td>\n",
       "      <td>2007</td>\n",
       "      <td>N</td>\n",
       "    </tr>\n",
       "    <tr>\n",
       "      <th>3</th>\n",
       "      <td>256</td>\n",
       "      <td>41</td>\n",
       "      <td>IL</td>\n",
       "      <td>250/500</td>\n",
       "      <td>2000</td>\n",
       "      <td>1415.74</td>\n",
       "      <td>6000000</td>\n",
       "      <td>FEMALE</td>\n",
       "      <td>PhD</td>\n",
       "      <td>armed-forces</td>\n",
       "      <td>...</td>\n",
       "      <td>2</td>\n",
       "      <td>NO</td>\n",
       "      <td>63400</td>\n",
       "      <td>6340</td>\n",
       "      <td>6340</td>\n",
       "      <td>50720</td>\n",
       "      <td>Chevrolet</td>\n",
       "      <td>Tahoe</td>\n",
       "      <td>2014</td>\n",
       "      <td>Y</td>\n",
       "    </tr>\n",
       "    <tr>\n",
       "      <th>4</th>\n",
       "      <td>228</td>\n",
       "      <td>44</td>\n",
       "      <td>IL</td>\n",
       "      <td>500/1000</td>\n",
       "      <td>1000</td>\n",
       "      <td>1583.91</td>\n",
       "      <td>6000000</td>\n",
       "      <td>MALE</td>\n",
       "      <td>Associate</td>\n",
       "      <td>sales</td>\n",
       "      <td>...</td>\n",
       "      <td>1</td>\n",
       "      <td>NO</td>\n",
       "      <td>6500</td>\n",
       "      <td>1300</td>\n",
       "      <td>650</td>\n",
       "      <td>4550</td>\n",
       "      <td>Accura</td>\n",
       "      <td>RSX</td>\n",
       "      <td>2009</td>\n",
       "      <td>N</td>\n",
       "    </tr>\n",
       "  </tbody>\n",
       "</table>\n",
       "<p>5 rows × 34 columns</p>\n",
       "</div>"
      ],
      "text/plain": [
       "   months_as_customer  age policy_state policy_csl  policy_deductable  \\\n",
       "0                 328   48           OH    250/500               1000   \n",
       "1                 228   42           IN    250/500               2000   \n",
       "2                 134   29           OH    100/300               2000   \n",
       "3                 256   41           IL    250/500               2000   \n",
       "4                 228   44           IL   500/1000               1000   \n",
       "\n",
       "   policy_annual_premium  umbrella_limit insured_sex insured_education_level  \\\n",
       "0                1406.91               0        MALE                      MD   \n",
       "1                1197.22         5000000        MALE                      MD   \n",
       "2                1413.14         5000000      FEMALE                     PhD   \n",
       "3                1415.74         6000000      FEMALE                     PhD   \n",
       "4                1583.91         6000000        MALE               Associate   \n",
       "\n",
       "  insured_occupation  ... witnesses police_report_available  \\\n",
       "0       craft-repair  ...         2                     YES   \n",
       "1  machine-op-inspct  ...         0                     NaN   \n",
       "2              sales  ...         3                      NO   \n",
       "3       armed-forces  ...         2                      NO   \n",
       "4              sales  ...         1                      NO   \n",
       "\n",
       "   total_claim_amount  injury_claim property_claim vehicle_claim  auto_make  \\\n",
       "0               71610          6510          13020         52080       Saab   \n",
       "1                5070           780            780          3510   Mercedes   \n",
       "2               34650          7700           3850         23100      Dodge   \n",
       "3               63400          6340           6340         50720  Chevrolet   \n",
       "4                6500          1300            650          4550     Accura   \n",
       "\n",
       "  auto_model auto_year fraud_reported  \n",
       "0        92x      2004              Y  \n",
       "1       E400      2007              Y  \n",
       "2        RAM      2007              N  \n",
       "3      Tahoe      2014              Y  \n",
       "4        RSX      2009              N  \n",
       "\n",
       "[5 rows x 34 columns]"
      ]
     },
     "execution_count": 1627,
     "metadata": {},
     "output_type": "execute_result"
    }
   ],
   "source": [
    "df = df.drop(['insured_zip','policy_number','incident_location','policy_bind_date','incident_date'], axis='columns', inplace=False)\n",
    "df.head(5)"
   ]
  },
  {
   "cell_type": "code",
   "execution_count": 1628,
   "metadata": {},
   "outputs": [
    {
     "name": "stdout",
     "output_type": "stream",
     "text": [
      "<class 'pandas.core.frame.DataFrame'>\n",
      "RangeIndex: 1000 entries, 0 to 999\n",
      "Data columns (total 34 columns):\n",
      " #   Column                       Non-Null Count  Dtype  \n",
      "---  ------                       --------------  -----  \n",
      " 0   months_as_customer           1000 non-null   int64  \n",
      " 1   age                          1000 non-null   int64  \n",
      " 2   policy_state                 1000 non-null   object \n",
      " 3   policy_csl                   1000 non-null   object \n",
      " 4   policy_deductable            1000 non-null   int64  \n",
      " 5   policy_annual_premium        1000 non-null   float64\n",
      " 6   umbrella_limit               1000 non-null   int64  \n",
      " 7   insured_sex                  1000 non-null   object \n",
      " 8   insured_education_level      1000 non-null   object \n",
      " 9   insured_occupation           1000 non-null   object \n",
      " 10  insured_hobbies              1000 non-null   object \n",
      " 11  insured_relationship         1000 non-null   object \n",
      " 12  capital-gains                1000 non-null   int64  \n",
      " 13  capital-loss                 1000 non-null   int64  \n",
      " 14  incident_type                1000 non-null   object \n",
      " 15  collision_type               822 non-null    object \n",
      " 16  incident_severity            1000 non-null   object \n",
      " 17  authorities_contacted        1000 non-null   object \n",
      " 18  incident_state               1000 non-null   object \n",
      " 19  incident_city                1000 non-null   object \n",
      " 20  incident_hour_of_the_day     1000 non-null   int64  \n",
      " 21  number_of_vehicles_involved  1000 non-null   int64  \n",
      " 22  property_damage              640 non-null    object \n",
      " 23  bodily_injuries              1000 non-null   int64  \n",
      " 24  witnesses                    1000 non-null   int64  \n",
      " 25  police_report_available      657 non-null    object \n",
      " 26  total_claim_amount           1000 non-null   int64  \n",
      " 27  injury_claim                 1000 non-null   int64  \n",
      " 28  property_claim               1000 non-null   int64  \n",
      " 29  vehicle_claim                1000 non-null   int64  \n",
      " 30  auto_make                    1000 non-null   object \n",
      " 31  auto_model                   1000 non-null   object \n",
      " 32  auto_year                    1000 non-null   int64  \n",
      " 33  fraud_reported               1000 non-null   object \n",
      "dtypes: float64(1), int64(15), object(18)\n",
      "memory usage: 265.8+ KB\n"
     ]
    }
   ],
   "source": [
    "df.info()"
   ]
  },
  {
   "cell_type": "code",
   "execution_count": 1629,
   "metadata": {},
   "outputs": [
    {
     "data": {
      "text/html": [
       "<div>\n",
       "<style scoped>\n",
       "    .dataframe tbody tr th:only-of-type {\n",
       "        vertical-align: middle;\n",
       "    }\n",
       "\n",
       "    .dataframe tbody tr th {\n",
       "        vertical-align: top;\n",
       "    }\n",
       "\n",
       "    .dataframe thead th {\n",
       "        text-align: right;\n",
       "    }\n",
       "</style>\n",
       "<table border=\"1\" class=\"dataframe\">\n",
       "  <thead>\n",
       "    <tr style=\"text-align: right;\">\n",
       "      <th></th>\n",
       "      <th>Total</th>\n",
       "      <th>Percent</th>\n",
       "    </tr>\n",
       "  </thead>\n",
       "  <tbody>\n",
       "    <tr>\n",
       "      <th>property_damage</th>\n",
       "      <td>360</td>\n",
       "      <td>0.360</td>\n",
       "    </tr>\n",
       "    <tr>\n",
       "      <th>police_report_available</th>\n",
       "      <td>343</td>\n",
       "      <td>0.343</td>\n",
       "    </tr>\n",
       "    <tr>\n",
       "      <th>collision_type</th>\n",
       "      <td>178</td>\n",
       "      <td>0.178</td>\n",
       "    </tr>\n",
       "    <tr>\n",
       "      <th>fraud_reported</th>\n",
       "      <td>0</td>\n",
       "      <td>0.000</td>\n",
       "    </tr>\n",
       "    <tr>\n",
       "      <th>insured_education_level</th>\n",
       "      <td>0</td>\n",
       "      <td>0.000</td>\n",
       "    </tr>\n",
       "    <tr>\n",
       "      <th>capital-loss</th>\n",
       "      <td>0</td>\n",
       "      <td>0.000</td>\n",
       "    </tr>\n",
       "    <tr>\n",
       "      <th>capital-gains</th>\n",
       "      <td>0</td>\n",
       "      <td>0.000</td>\n",
       "    </tr>\n",
       "    <tr>\n",
       "      <th>insured_relationship</th>\n",
       "      <td>0</td>\n",
       "      <td>0.000</td>\n",
       "    </tr>\n",
       "    <tr>\n",
       "      <th>insured_hobbies</th>\n",
       "      <td>0</td>\n",
       "      <td>0.000</td>\n",
       "    </tr>\n",
       "    <tr>\n",
       "      <th>insured_occupation</th>\n",
       "      <td>0</td>\n",
       "      <td>0.000</td>\n",
       "    </tr>\n",
       "    <tr>\n",
       "      <th>insured_sex</th>\n",
       "      <td>0</td>\n",
       "      <td>0.000</td>\n",
       "    </tr>\n",
       "    <tr>\n",
       "      <th>umbrella_limit</th>\n",
       "      <td>0</td>\n",
       "      <td>0.000</td>\n",
       "    </tr>\n",
       "    <tr>\n",
       "      <th>policy_annual_premium</th>\n",
       "      <td>0</td>\n",
       "      <td>0.000</td>\n",
       "    </tr>\n",
       "    <tr>\n",
       "      <th>policy_deductable</th>\n",
       "      <td>0</td>\n",
       "      <td>0.000</td>\n",
       "    </tr>\n",
       "    <tr>\n",
       "      <th>policy_csl</th>\n",
       "      <td>0</td>\n",
       "      <td>0.000</td>\n",
       "    </tr>\n",
       "    <tr>\n",
       "      <th>policy_state</th>\n",
       "      <td>0</td>\n",
       "      <td>0.000</td>\n",
       "    </tr>\n",
       "    <tr>\n",
       "      <th>age</th>\n",
       "      <td>0</td>\n",
       "      <td>0.000</td>\n",
       "    </tr>\n",
       "    <tr>\n",
       "      <th>incident_type</th>\n",
       "      <td>0</td>\n",
       "      <td>0.000</td>\n",
       "    </tr>\n",
       "    <tr>\n",
       "      <th>incident_severity</th>\n",
       "      <td>0</td>\n",
       "      <td>0.000</td>\n",
       "    </tr>\n",
       "    <tr>\n",
       "      <th>auto_year</th>\n",
       "      <td>0</td>\n",
       "      <td>0.000</td>\n",
       "    </tr>\n",
       "    <tr>\n",
       "      <th>authorities_contacted</th>\n",
       "      <td>0</td>\n",
       "      <td>0.000</td>\n",
       "    </tr>\n",
       "    <tr>\n",
       "      <th>incident_state</th>\n",
       "      <td>0</td>\n",
       "      <td>0.000</td>\n",
       "    </tr>\n",
       "    <tr>\n",
       "      <th>incident_city</th>\n",
       "      <td>0</td>\n",
       "      <td>0.000</td>\n",
       "    </tr>\n",
       "    <tr>\n",
       "      <th>incident_hour_of_the_day</th>\n",
       "      <td>0</td>\n",
       "      <td>0.000</td>\n",
       "    </tr>\n",
       "    <tr>\n",
       "      <th>number_of_vehicles_involved</th>\n",
       "      <td>0</td>\n",
       "      <td>0.000</td>\n",
       "    </tr>\n",
       "    <tr>\n",
       "      <th>bodily_injuries</th>\n",
       "      <td>0</td>\n",
       "      <td>0.000</td>\n",
       "    </tr>\n",
       "    <tr>\n",
       "      <th>witnesses</th>\n",
       "      <td>0</td>\n",
       "      <td>0.000</td>\n",
       "    </tr>\n",
       "    <tr>\n",
       "      <th>total_claim_amount</th>\n",
       "      <td>0</td>\n",
       "      <td>0.000</td>\n",
       "    </tr>\n",
       "    <tr>\n",
       "      <th>injury_claim</th>\n",
       "      <td>0</td>\n",
       "      <td>0.000</td>\n",
       "    </tr>\n",
       "    <tr>\n",
       "      <th>property_claim</th>\n",
       "      <td>0</td>\n",
       "      <td>0.000</td>\n",
       "    </tr>\n",
       "    <tr>\n",
       "      <th>vehicle_claim</th>\n",
       "      <td>0</td>\n",
       "      <td>0.000</td>\n",
       "    </tr>\n",
       "    <tr>\n",
       "      <th>auto_make</th>\n",
       "      <td>0</td>\n",
       "      <td>0.000</td>\n",
       "    </tr>\n",
       "    <tr>\n",
       "      <th>auto_model</th>\n",
       "      <td>0</td>\n",
       "      <td>0.000</td>\n",
       "    </tr>\n",
       "    <tr>\n",
       "      <th>months_as_customer</th>\n",
       "      <td>0</td>\n",
       "      <td>0.000</td>\n",
       "    </tr>\n",
       "  </tbody>\n",
       "</table>\n",
       "</div>"
      ],
      "text/plain": [
       "                             Total  Percent\n",
       "property_damage                360    0.360\n",
       "police_report_available        343    0.343\n",
       "collision_type                 178    0.178\n",
       "fraud_reported                   0    0.000\n",
       "insured_education_level          0    0.000\n",
       "capital-loss                     0    0.000\n",
       "capital-gains                    0    0.000\n",
       "insured_relationship             0    0.000\n",
       "insured_hobbies                  0    0.000\n",
       "insured_occupation               0    0.000\n",
       "insured_sex                      0    0.000\n",
       "umbrella_limit                   0    0.000\n",
       "policy_annual_premium            0    0.000\n",
       "policy_deductable                0    0.000\n",
       "policy_csl                       0    0.000\n",
       "policy_state                     0    0.000\n",
       "age                              0    0.000\n",
       "incident_type                    0    0.000\n",
       "incident_severity                0    0.000\n",
       "auto_year                        0    0.000\n",
       "authorities_contacted            0    0.000\n",
       "incident_state                   0    0.000\n",
       "incident_city                    0    0.000\n",
       "incident_hour_of_the_day         0    0.000\n",
       "number_of_vehicles_involved      0    0.000\n",
       "bodily_injuries                  0    0.000\n",
       "witnesses                        0    0.000\n",
       "total_claim_amount               0    0.000\n",
       "injury_claim                     0    0.000\n",
       "property_claim                   0    0.000\n",
       "vehicle_claim                    0    0.000\n",
       "auto_make                        0    0.000\n",
       "auto_model                       0    0.000\n",
       "months_as_customer               0    0.000"
      ]
     },
     "execution_count": 1629,
     "metadata": {},
     "output_type": "execute_result"
    }
   ],
   "source": [
    "# Cheking Missing data\n",
    "total = df.isnull().sum().sort_values(ascending=False)\n",
    "percent = (df.isnull().sum()/df.isnull().count()).sort_values(ascending=False)\n",
    "missing_data = pd.concat([total, percent], axis=1, keys=['Total', 'Percent'])\n",
    "missing_data"
   ]
  },
  {
   "cell_type": "markdown",
   "metadata": {},
   "source": [
    "Произвожу замену пропущенных значений по переменным. Для 'property_damage' и 'police_report_available' отсутствие данных можно заменить значением \"NO\". "
   ]
  },
  {
   "cell_type": "code",
   "execution_count": 1630,
   "metadata": {},
   "outputs": [
    {
     "data": {
      "text/plain": [
       "NO     338\n",
       "YES    302\n",
       "Name: property_damage, dtype: int64"
      ]
     },
     "execution_count": 1630,
     "metadata": {},
     "output_type": "execute_result"
    }
   ],
   "source": [
    "df['property_damage'].value_counts()"
   ]
  },
  {
   "cell_type": "code",
   "execution_count": 1631,
   "metadata": {},
   "outputs": [
    {
     "data": {
      "text/plain": [
       "NO     343\n",
       "YES    314\n",
       "Name: police_report_available, dtype: int64"
      ]
     },
     "execution_count": 1631,
     "metadata": {},
     "output_type": "execute_result"
    }
   ],
   "source": [
    "df['police_report_available'].value_counts()"
   ]
  },
  {
   "cell_type": "code",
   "execution_count": 1632,
   "metadata": {},
   "outputs": [
    {
     "data": {
      "text/plain": [
       "Rear Collision     292\n",
       "Side Collision     276\n",
       "Front Collision    254\n",
       "Name: collision_type, dtype: int64"
      ]
     },
     "execution_count": 1632,
     "metadata": {},
     "output_type": "execute_result"
    }
   ],
   "source": [
    "df['collision_type'].value_counts()"
   ]
  },
  {
   "cell_type": "code",
   "execution_count": 1633,
   "metadata": {},
   "outputs": [],
   "source": [
    "df['property_damage'].fillna('NO', inplace = True)"
   ]
  },
  {
   "cell_type": "code",
   "execution_count": 1634,
   "metadata": {},
   "outputs": [
    {
     "data": {
      "text/plain": [
       "NO     698\n",
       "YES    302\n",
       "Name: property_damage, dtype: int64"
      ]
     },
     "execution_count": 1634,
     "metadata": {},
     "output_type": "execute_result"
    }
   ],
   "source": [
    "df['property_damage'].value_counts()"
   ]
  },
  {
   "cell_type": "code",
   "execution_count": 1635,
   "metadata": {},
   "outputs": [],
   "source": [
    "df['police_report_available'].fillna('NO', inplace = True)"
   ]
  },
  {
   "cell_type": "code",
   "execution_count": 1636,
   "metadata": {},
   "outputs": [
    {
     "data": {
      "text/plain": [
       "NO     686\n",
       "YES    314\n",
       "Name: police_report_available, dtype: int64"
      ]
     },
     "execution_count": 1636,
     "metadata": {},
     "output_type": "execute_result"
    }
   ],
   "source": [
    "df['police_report_available'].value_counts()"
   ]
  },
  {
   "cell_type": "markdown",
   "metadata": {},
   "source": [
    "Для 'collision_type' я решаю для пропущенных данных создать отдельное значение \"Unknown\"?, а не заменять наиболее частым."
   ]
  },
  {
   "cell_type": "code",
   "execution_count": 1637,
   "metadata": {},
   "outputs": [],
   "source": [
    "df['collision_type'].fillna('Unknown', inplace = True)"
   ]
  },
  {
   "cell_type": "code",
   "execution_count": 1638,
   "metadata": {},
   "outputs": [
    {
     "data": {
      "text/plain": [
       "Rear Collision     292\n",
       "Side Collision     276\n",
       "Front Collision    254\n",
       "Unknown            178\n",
       "Name: collision_type, dtype: int64"
      ]
     },
     "execution_count": 1638,
     "metadata": {},
     "output_type": "execute_result"
    }
   ],
   "source": [
    "df['collision_type'].value_counts()"
   ]
  },
  {
   "cell_type": "code",
   "execution_count": 1639,
   "metadata": {},
   "outputs": [
    {
     "data": {
      "text/html": [
       "<div>\n",
       "<style scoped>\n",
       "    .dataframe tbody tr th:only-of-type {\n",
       "        vertical-align: middle;\n",
       "    }\n",
       "\n",
       "    .dataframe tbody tr th {\n",
       "        vertical-align: top;\n",
       "    }\n",
       "\n",
       "    .dataframe thead th {\n",
       "        text-align: right;\n",
       "    }\n",
       "</style>\n",
       "<table border=\"1\" class=\"dataframe\">\n",
       "  <thead>\n",
       "    <tr style=\"text-align: right;\">\n",
       "      <th></th>\n",
       "      <th>Total</th>\n",
       "      <th>Percent</th>\n",
       "    </tr>\n",
       "  </thead>\n",
       "  <tbody>\n",
       "    <tr>\n",
       "      <th>fraud_reported</th>\n",
       "      <td>0</td>\n",
       "      <td>0.0</td>\n",
       "    </tr>\n",
       "    <tr>\n",
       "      <th>insured_education_level</th>\n",
       "      <td>0</td>\n",
       "      <td>0.0</td>\n",
       "    </tr>\n",
       "    <tr>\n",
       "      <th>incident_type</th>\n",
       "      <td>0</td>\n",
       "      <td>0.0</td>\n",
       "    </tr>\n",
       "    <tr>\n",
       "      <th>capital-loss</th>\n",
       "      <td>0</td>\n",
       "      <td>0.0</td>\n",
       "    </tr>\n",
       "    <tr>\n",
       "      <th>capital-gains</th>\n",
       "      <td>0</td>\n",
       "      <td>0.0</td>\n",
       "    </tr>\n",
       "    <tr>\n",
       "      <th>insured_relationship</th>\n",
       "      <td>0</td>\n",
       "      <td>0.0</td>\n",
       "    </tr>\n",
       "    <tr>\n",
       "      <th>insured_hobbies</th>\n",
       "      <td>0</td>\n",
       "      <td>0.0</td>\n",
       "    </tr>\n",
       "    <tr>\n",
       "      <th>insured_occupation</th>\n",
       "      <td>0</td>\n",
       "      <td>0.0</td>\n",
       "    </tr>\n",
       "    <tr>\n",
       "      <th>insured_sex</th>\n",
       "      <td>0</td>\n",
       "      <td>0.0</td>\n",
       "    </tr>\n",
       "    <tr>\n",
       "      <th>auto_year</th>\n",
       "      <td>0</td>\n",
       "      <td>0.0</td>\n",
       "    </tr>\n",
       "    <tr>\n",
       "      <th>umbrella_limit</th>\n",
       "      <td>0</td>\n",
       "      <td>0.0</td>\n",
       "    </tr>\n",
       "    <tr>\n",
       "      <th>policy_annual_premium</th>\n",
       "      <td>0</td>\n",
       "      <td>0.0</td>\n",
       "    </tr>\n",
       "    <tr>\n",
       "      <th>policy_deductable</th>\n",
       "      <td>0</td>\n",
       "      <td>0.0</td>\n",
       "    </tr>\n",
       "    <tr>\n",
       "      <th>policy_csl</th>\n",
       "      <td>0</td>\n",
       "      <td>0.0</td>\n",
       "    </tr>\n",
       "    <tr>\n",
       "      <th>policy_state</th>\n",
       "      <td>0</td>\n",
       "      <td>0.0</td>\n",
       "    </tr>\n",
       "    <tr>\n",
       "      <th>age</th>\n",
       "      <td>0</td>\n",
       "      <td>0.0</td>\n",
       "    </tr>\n",
       "    <tr>\n",
       "      <th>collision_type</th>\n",
       "      <td>0</td>\n",
       "      <td>0.0</td>\n",
       "    </tr>\n",
       "    <tr>\n",
       "      <th>incident_severity</th>\n",
       "      <td>0</td>\n",
       "      <td>0.0</td>\n",
       "    </tr>\n",
       "    <tr>\n",
       "      <th>authorities_contacted</th>\n",
       "      <td>0</td>\n",
       "      <td>0.0</td>\n",
       "    </tr>\n",
       "    <tr>\n",
       "      <th>incident_state</th>\n",
       "      <td>0</td>\n",
       "      <td>0.0</td>\n",
       "    </tr>\n",
       "    <tr>\n",
       "      <th>incident_city</th>\n",
       "      <td>0</td>\n",
       "      <td>0.0</td>\n",
       "    </tr>\n",
       "    <tr>\n",
       "      <th>incident_hour_of_the_day</th>\n",
       "      <td>0</td>\n",
       "      <td>0.0</td>\n",
       "    </tr>\n",
       "    <tr>\n",
       "      <th>number_of_vehicles_involved</th>\n",
       "      <td>0</td>\n",
       "      <td>0.0</td>\n",
       "    </tr>\n",
       "    <tr>\n",
       "      <th>property_damage</th>\n",
       "      <td>0</td>\n",
       "      <td>0.0</td>\n",
       "    </tr>\n",
       "    <tr>\n",
       "      <th>bodily_injuries</th>\n",
       "      <td>0</td>\n",
       "      <td>0.0</td>\n",
       "    </tr>\n",
       "    <tr>\n",
       "      <th>witnesses</th>\n",
       "      <td>0</td>\n",
       "      <td>0.0</td>\n",
       "    </tr>\n",
       "    <tr>\n",
       "      <th>police_report_available</th>\n",
       "      <td>0</td>\n",
       "      <td>0.0</td>\n",
       "    </tr>\n",
       "    <tr>\n",
       "      <th>total_claim_amount</th>\n",
       "      <td>0</td>\n",
       "      <td>0.0</td>\n",
       "    </tr>\n",
       "    <tr>\n",
       "      <th>injury_claim</th>\n",
       "      <td>0</td>\n",
       "      <td>0.0</td>\n",
       "    </tr>\n",
       "    <tr>\n",
       "      <th>property_claim</th>\n",
       "      <td>0</td>\n",
       "      <td>0.0</td>\n",
       "    </tr>\n",
       "    <tr>\n",
       "      <th>vehicle_claim</th>\n",
       "      <td>0</td>\n",
       "      <td>0.0</td>\n",
       "    </tr>\n",
       "    <tr>\n",
       "      <th>auto_make</th>\n",
       "      <td>0</td>\n",
       "      <td>0.0</td>\n",
       "    </tr>\n",
       "    <tr>\n",
       "      <th>auto_model</th>\n",
       "      <td>0</td>\n",
       "      <td>0.0</td>\n",
       "    </tr>\n",
       "    <tr>\n",
       "      <th>months_as_customer</th>\n",
       "      <td>0</td>\n",
       "      <td>0.0</td>\n",
       "    </tr>\n",
       "  </tbody>\n",
       "</table>\n",
       "</div>"
      ],
      "text/plain": [
       "                             Total  Percent\n",
       "fraud_reported                   0      0.0\n",
       "insured_education_level          0      0.0\n",
       "incident_type                    0      0.0\n",
       "capital-loss                     0      0.0\n",
       "capital-gains                    0      0.0\n",
       "insured_relationship             0      0.0\n",
       "insured_hobbies                  0      0.0\n",
       "insured_occupation               0      0.0\n",
       "insured_sex                      0      0.0\n",
       "auto_year                        0      0.0\n",
       "umbrella_limit                   0      0.0\n",
       "policy_annual_premium            0      0.0\n",
       "policy_deductable                0      0.0\n",
       "policy_csl                       0      0.0\n",
       "policy_state                     0      0.0\n",
       "age                              0      0.0\n",
       "collision_type                   0      0.0\n",
       "incident_severity                0      0.0\n",
       "authorities_contacted            0      0.0\n",
       "incident_state                   0      0.0\n",
       "incident_city                    0      0.0\n",
       "incident_hour_of_the_day         0      0.0\n",
       "number_of_vehicles_involved      0      0.0\n",
       "property_damage                  0      0.0\n",
       "bodily_injuries                  0      0.0\n",
       "witnesses                        0      0.0\n",
       "police_report_available          0      0.0\n",
       "total_claim_amount               0      0.0\n",
       "injury_claim                     0      0.0\n",
       "property_claim                   0      0.0\n",
       "vehicle_claim                    0      0.0\n",
       "auto_make                        0      0.0\n",
       "auto_model                       0      0.0\n",
       "months_as_customer               0      0.0"
      ]
     },
     "execution_count": 1639,
     "metadata": {},
     "output_type": "execute_result"
    }
   ],
   "source": [
    "# Re-Cheking Missing data\n",
    "total = df.isnull().sum().sort_values(ascending=False)\n",
    "percent = (df.isnull().sum()/df.isnull().count()).sort_values(ascending=False)\n",
    "missing_data = pd.concat([total, percent], axis=1, keys=['Total', 'Percent'])\n",
    "missing_data"
   ]
  },
  {
   "cell_type": "markdown",
   "metadata": {},
   "source": [
    "Вместо переменной 'auto_year', указывающей на год автомобиля, создаю 'auto_age', которая будет указывать на количество лет авто."
   ]
  },
  {
   "cell_type": "code",
   "execution_count": 1641,
   "metadata": {},
   "outputs": [
    {
     "data": {
      "text/plain": [
       "0    11\n",
       "1     8\n",
       "2     8\n",
       "3     1\n",
       "4     6\n",
       "Name: auto_age, dtype: int64"
      ]
     },
     "execution_count": 1641,
     "metadata": {},
     "output_type": "execute_result"
    }
   ],
   "source": [
    "df['auto_age'] = 2015 - df['auto_year'] # Deriving the age of the vehicle based on the year value \n",
    "df['auto_age'].head()"
   ]
  },
  {
   "cell_type": "code",
   "execution_count": 1642,
   "metadata": {},
   "outputs": [],
   "source": [
    "# Features distribution\n",
    "#import seaborn as sns\n",
    "#sns.set()\n",
    "#sns.pairplot(df, size = 4.5)\n",
    "#plt.show();"
   ]
  },
  {
   "cell_type": "code",
   "execution_count": 1643,
   "metadata": {},
   "outputs": [],
   "source": [
    "# Log Transformations for Skewed Distributions\n",
    "#df[[]] = np.log(df[[]])\n",
    "\n",
    "#import seaborn as sns\n",
    "#sns.set()\n",
    "#sns.pairplot(df)"
   ]
  },
  {
   "cell_type": "code",
   "execution_count": 1644,
   "metadata": {},
   "outputs": [],
   "source": [
    "# Function Outliers\n",
    "def outliers(df):\n",
    "    num_var = list(df._get_numeric_data().columns)\n",
    "    for col_names in num_var:\n",
    "        df[col_names] = df[col_names].apply(lambda y: df[col_names].mean()-3*df[col_names].std() \n",
    "                            if y < df[col_names].mean()-3*df[col_names].std() else y)\n",
    "        df[col_names] = df[col_names].apply(lambda y: df[col_names].mean()+3*df[col_names].std() \n",
    "                            if y > df[col_names].mean()+3*df[col_names].std() else y)\n",
    "    return(df)"
   ]
  },
  {
   "cell_type": "code",
   "execution_count": 1645,
   "metadata": {},
   "outputs": [
    {
     "data": {
      "text/html": [
       "<div>\n",
       "<style scoped>\n",
       "    .dataframe tbody tr th:only-of-type {\n",
       "        vertical-align: middle;\n",
       "    }\n",
       "\n",
       "    .dataframe tbody tr th {\n",
       "        vertical-align: top;\n",
       "    }\n",
       "\n",
       "    .dataframe thead th {\n",
       "        text-align: right;\n",
       "    }\n",
       "</style>\n",
       "<table border=\"1\" class=\"dataframe\">\n",
       "  <thead>\n",
       "    <tr style=\"text-align: right;\">\n",
       "      <th></th>\n",
       "      <th>months_as_customer</th>\n",
       "      <th>age</th>\n",
       "      <th>policy_deductable</th>\n",
       "      <th>policy_annual_premium</th>\n",
       "      <th>umbrella_limit</th>\n",
       "      <th>capital-gains</th>\n",
       "      <th>capital-loss</th>\n",
       "      <th>incident_hour_of_the_day</th>\n",
       "      <th>number_of_vehicles_involved</th>\n",
       "      <th>bodily_injuries</th>\n",
       "      <th>witnesses</th>\n",
       "      <th>total_claim_amount</th>\n",
       "      <th>injury_claim</th>\n",
       "      <th>property_claim</th>\n",
       "      <th>vehicle_claim</th>\n",
       "      <th>auto_year</th>\n",
       "      <th>auto_age</th>\n",
       "    </tr>\n",
       "  </thead>\n",
       "  <tbody>\n",
       "    <tr>\n",
       "      <th>count</th>\n",
       "      <td>1000.000000</td>\n",
       "      <td>1000.000000</td>\n",
       "      <td>1000.000000</td>\n",
       "      <td>1000.000000</td>\n",
       "      <td>1.000000e+03</td>\n",
       "      <td>1000.000000</td>\n",
       "      <td>1000.000000</td>\n",
       "      <td>1000.000000</td>\n",
       "      <td>1000.00000</td>\n",
       "      <td>1000.000000</td>\n",
       "      <td>1000.000000</td>\n",
       "      <td>1000.00000</td>\n",
       "      <td>1000.000000</td>\n",
       "      <td>1000.000000</td>\n",
       "      <td>1000.000000</td>\n",
       "      <td>1000.000000</td>\n",
       "      <td>1000.000000</td>\n",
       "    </tr>\n",
       "    <tr>\n",
       "      <th>mean</th>\n",
       "      <td>203.954000</td>\n",
       "      <td>38.948000</td>\n",
       "      <td>1136.000000</td>\n",
       "      <td>1256.476176</td>\n",
       "      <td>1.091898e+06</td>\n",
       "      <td>25126.100000</td>\n",
       "      <td>-26793.700000</td>\n",
       "      <td>11.644000</td>\n",
       "      <td>1.83900</td>\n",
       "      <td>0.992000</td>\n",
       "      <td>1.487000</td>\n",
       "      <td>52761.94000</td>\n",
       "      <td>7433.420000</td>\n",
       "      <td>7397.773749</td>\n",
       "      <td>37928.950000</td>\n",
       "      <td>2005.103000</td>\n",
       "      <td>9.897000</td>\n",
       "    </tr>\n",
       "    <tr>\n",
       "      <th>std</th>\n",
       "      <td>115.113174</td>\n",
       "      <td>9.140287</td>\n",
       "      <td>611.864673</td>\n",
       "      <td>243.570287</td>\n",
       "      <td>2.266996e+06</td>\n",
       "      <td>27872.187708</td>\n",
       "      <td>28104.096686</td>\n",
       "      <td>6.951373</td>\n",
       "      <td>1.01888</td>\n",
       "      <td>0.820127</td>\n",
       "      <td>1.111335</td>\n",
       "      <td>26401.53319</td>\n",
       "      <td>4880.951853</td>\n",
       "      <td>4818.993582</td>\n",
       "      <td>18886.252893</td>\n",
       "      <td>6.015861</td>\n",
       "      <td>6.015861</td>\n",
       "    </tr>\n",
       "    <tr>\n",
       "      <th>min</th>\n",
       "      <td>0.000000</td>\n",
       "      <td>19.000000</td>\n",
       "      <td>500.000000</td>\n",
       "      <td>523.903965</td>\n",
       "      <td>-1.000000e+06</td>\n",
       "      <td>0.000000</td>\n",
       "      <td>-111100.000000</td>\n",
       "      <td>0.000000</td>\n",
       "      <td>1.00000</td>\n",
       "      <td>0.000000</td>\n",
       "      <td>0.000000</td>\n",
       "      <td>100.00000</td>\n",
       "      <td>0.000000</td>\n",
       "      <td>0.000000</td>\n",
       "      <td>70.000000</td>\n",
       "      <td>1995.000000</td>\n",
       "      <td>0.000000</td>\n",
       "    </tr>\n",
       "    <tr>\n",
       "      <th>25%</th>\n",
       "      <td>115.750000</td>\n",
       "      <td>32.000000</td>\n",
       "      <td>500.000000</td>\n",
       "      <td>1089.607500</td>\n",
       "      <td>0.000000e+00</td>\n",
       "      <td>0.000000</td>\n",
       "      <td>-51500.000000</td>\n",
       "      <td>6.000000</td>\n",
       "      <td>1.00000</td>\n",
       "      <td>0.000000</td>\n",
       "      <td>1.000000</td>\n",
       "      <td>41812.50000</td>\n",
       "      <td>4295.000000</td>\n",
       "      <td>4445.000000</td>\n",
       "      <td>30292.500000</td>\n",
       "      <td>2000.000000</td>\n",
       "      <td>5.000000</td>\n",
       "    </tr>\n",
       "    <tr>\n",
       "      <th>50%</th>\n",
       "      <td>199.500000</td>\n",
       "      <td>38.000000</td>\n",
       "      <td>1000.000000</td>\n",
       "      <td>1257.200000</td>\n",
       "      <td>0.000000e+00</td>\n",
       "      <td>0.000000</td>\n",
       "      <td>-23250.000000</td>\n",
       "      <td>12.000000</td>\n",
       "      <td>1.00000</td>\n",
       "      <td>1.000000</td>\n",
       "      <td>1.000000</td>\n",
       "      <td>58055.00000</td>\n",
       "      <td>6775.000000</td>\n",
       "      <td>6750.000000</td>\n",
       "      <td>42100.000000</td>\n",
       "      <td>2005.000000</td>\n",
       "      <td>10.000000</td>\n",
       "    </tr>\n",
       "    <tr>\n",
       "      <th>75%</th>\n",
       "      <td>276.250000</td>\n",
       "      <td>44.000000</td>\n",
       "      <td>2000.000000</td>\n",
       "      <td>1415.695000</td>\n",
       "      <td>0.000000e+00</td>\n",
       "      <td>51025.000000</td>\n",
       "      <td>0.000000</td>\n",
       "      <td>17.000000</td>\n",
       "      <td>3.00000</td>\n",
       "      <td>2.000000</td>\n",
       "      <td>2.000000</td>\n",
       "      <td>70592.50000</td>\n",
       "      <td>11305.000000</td>\n",
       "      <td>10885.000000</td>\n",
       "      <td>50822.500000</td>\n",
       "      <td>2010.000000</td>\n",
       "      <td>15.000000</td>\n",
       "    </tr>\n",
       "    <tr>\n",
       "      <th>max</th>\n",
       "      <td>479.000000</td>\n",
       "      <td>64.000000</td>\n",
       "      <td>2000.000000</td>\n",
       "      <td>1987.807651</td>\n",
       "      <td>7.993220e+06</td>\n",
       "      <td>100500.000000</td>\n",
       "      <td>0.000000</td>\n",
       "      <td>23.000000</td>\n",
       "      <td>4.00000</td>\n",
       "      <td>2.000000</td>\n",
       "      <td>3.000000</td>\n",
       "      <td>114920.00000</td>\n",
       "      <td>21450.000000</td>\n",
       "      <td>21873.748536</td>\n",
       "      <td>79560.000000</td>\n",
       "      <td>2015.000000</td>\n",
       "      <td>20.000000</td>\n",
       "    </tr>\n",
       "  </tbody>\n",
       "</table>\n",
       "</div>"
      ],
      "text/plain": [
       "       months_as_customer          age  policy_deductable  \\\n",
       "count         1000.000000  1000.000000        1000.000000   \n",
       "mean           203.954000    38.948000        1136.000000   \n",
       "std            115.113174     9.140287         611.864673   \n",
       "min              0.000000    19.000000         500.000000   \n",
       "25%            115.750000    32.000000         500.000000   \n",
       "50%            199.500000    38.000000        1000.000000   \n",
       "75%            276.250000    44.000000        2000.000000   \n",
       "max            479.000000    64.000000        2000.000000   \n",
       "\n",
       "       policy_annual_premium  umbrella_limit  capital-gains   capital-loss  \\\n",
       "count            1000.000000    1.000000e+03    1000.000000    1000.000000   \n",
       "mean             1256.476176    1.091898e+06   25126.100000  -26793.700000   \n",
       "std               243.570287    2.266996e+06   27872.187708   28104.096686   \n",
       "min               523.903965   -1.000000e+06       0.000000 -111100.000000   \n",
       "25%              1089.607500    0.000000e+00       0.000000  -51500.000000   \n",
       "50%              1257.200000    0.000000e+00       0.000000  -23250.000000   \n",
       "75%              1415.695000    0.000000e+00   51025.000000       0.000000   \n",
       "max              1987.807651    7.993220e+06  100500.000000       0.000000   \n",
       "\n",
       "       incident_hour_of_the_day  number_of_vehicles_involved  bodily_injuries  \\\n",
       "count               1000.000000                   1000.00000      1000.000000   \n",
       "mean                  11.644000                      1.83900         0.992000   \n",
       "std                    6.951373                      1.01888         0.820127   \n",
       "min                    0.000000                      1.00000         0.000000   \n",
       "25%                    6.000000                      1.00000         0.000000   \n",
       "50%                   12.000000                      1.00000         1.000000   \n",
       "75%                   17.000000                      3.00000         2.000000   \n",
       "max                   23.000000                      4.00000         2.000000   \n",
       "\n",
       "         witnesses  total_claim_amount  injury_claim  property_claim  \\\n",
       "count  1000.000000          1000.00000   1000.000000     1000.000000   \n",
       "mean      1.487000         52761.94000   7433.420000     7397.773749   \n",
       "std       1.111335         26401.53319   4880.951853     4818.993582   \n",
       "min       0.000000           100.00000      0.000000        0.000000   \n",
       "25%       1.000000         41812.50000   4295.000000     4445.000000   \n",
       "50%       1.000000         58055.00000   6775.000000     6750.000000   \n",
       "75%       2.000000         70592.50000  11305.000000    10885.000000   \n",
       "max       3.000000        114920.00000  21450.000000    21873.748536   \n",
       "\n",
       "       vehicle_claim    auto_year     auto_age  \n",
       "count    1000.000000  1000.000000  1000.000000  \n",
       "mean    37928.950000  2005.103000     9.897000  \n",
       "std     18886.252893     6.015861     6.015861  \n",
       "min        70.000000  1995.000000     0.000000  \n",
       "25%     30292.500000  2000.000000     5.000000  \n",
       "50%     42100.000000  2005.000000    10.000000  \n",
       "75%     50822.500000  2010.000000    15.000000  \n",
       "max     79560.000000  2015.000000    20.000000  "
      ]
     },
     "execution_count": 1645,
     "metadata": {},
     "output_type": "execute_result"
    }
   ],
   "source": [
    "# Outliers\n",
    "df = outliers(df)\n",
    "df.describe()"
   ]
  },
  {
   "cell_type": "code",
   "execution_count": 1646,
   "metadata": {},
   "outputs": [
    {
     "data": {
      "text/html": [
       "<div>\n",
       "<style scoped>\n",
       "    .dataframe tbody tr th:only-of-type {\n",
       "        vertical-align: middle;\n",
       "    }\n",
       "\n",
       "    .dataframe tbody tr th {\n",
       "        vertical-align: top;\n",
       "    }\n",
       "\n",
       "    .dataframe thead th {\n",
       "        text-align: right;\n",
       "    }\n",
       "</style>\n",
       "<table border=\"1\" class=\"dataframe\">\n",
       "  <thead>\n",
       "    <tr style=\"text-align: right;\">\n",
       "      <th></th>\n",
       "      <th>months_as_customer</th>\n",
       "      <th>age</th>\n",
       "      <th>policy_state</th>\n",
       "      <th>policy_csl</th>\n",
       "      <th>policy_deductable</th>\n",
       "      <th>policy_annual_premium</th>\n",
       "      <th>umbrella_limit</th>\n",
       "      <th>insured_sex</th>\n",
       "      <th>insured_education_level</th>\n",
       "      <th>insured_occupation</th>\n",
       "      <th>...</th>\n",
       "      <th>police_report_available</th>\n",
       "      <th>total_claim_amount</th>\n",
       "      <th>injury_claim</th>\n",
       "      <th>property_claim</th>\n",
       "      <th>vehicle_claim</th>\n",
       "      <th>auto_make</th>\n",
       "      <th>auto_model</th>\n",
       "      <th>auto_year</th>\n",
       "      <th>fraud_reported</th>\n",
       "      <th>auto_age</th>\n",
       "    </tr>\n",
       "  </thead>\n",
       "  <tbody>\n",
       "    <tr>\n",
       "      <th>0</th>\n",
       "      <td>328</td>\n",
       "      <td>48</td>\n",
       "      <td>OH</td>\n",
       "      <td>250/500</td>\n",
       "      <td>1000</td>\n",
       "      <td>1406.91</td>\n",
       "      <td>0.0</td>\n",
       "      <td>MALE</td>\n",
       "      <td>MD</td>\n",
       "      <td>craft-repair</td>\n",
       "      <td>...</td>\n",
       "      <td>YES</td>\n",
       "      <td>71610</td>\n",
       "      <td>6510</td>\n",
       "      <td>13020.0</td>\n",
       "      <td>52080</td>\n",
       "      <td>Saab</td>\n",
       "      <td>92x</td>\n",
       "      <td>2004</td>\n",
       "      <td>Y</td>\n",
       "      <td>11</td>\n",
       "    </tr>\n",
       "    <tr>\n",
       "      <th>1</th>\n",
       "      <td>228</td>\n",
       "      <td>42</td>\n",
       "      <td>IN</td>\n",
       "      <td>250/500</td>\n",
       "      <td>2000</td>\n",
       "      <td>1197.22</td>\n",
       "      <td>5000000.0</td>\n",
       "      <td>MALE</td>\n",
       "      <td>MD</td>\n",
       "      <td>machine-op-inspct</td>\n",
       "      <td>...</td>\n",
       "      <td>NO</td>\n",
       "      <td>5070</td>\n",
       "      <td>780</td>\n",
       "      <td>780.0</td>\n",
       "      <td>3510</td>\n",
       "      <td>Mercedes</td>\n",
       "      <td>E400</td>\n",
       "      <td>2007</td>\n",
       "      <td>Y</td>\n",
       "      <td>8</td>\n",
       "    </tr>\n",
       "    <tr>\n",
       "      <th>2</th>\n",
       "      <td>134</td>\n",
       "      <td>29</td>\n",
       "      <td>OH</td>\n",
       "      <td>100/300</td>\n",
       "      <td>2000</td>\n",
       "      <td>1413.14</td>\n",
       "      <td>5000000.0</td>\n",
       "      <td>FEMALE</td>\n",
       "      <td>PhD</td>\n",
       "      <td>sales</td>\n",
       "      <td>...</td>\n",
       "      <td>NO</td>\n",
       "      <td>34650</td>\n",
       "      <td>7700</td>\n",
       "      <td>3850.0</td>\n",
       "      <td>23100</td>\n",
       "      <td>Dodge</td>\n",
       "      <td>RAM</td>\n",
       "      <td>2007</td>\n",
       "      <td>N</td>\n",
       "      <td>8</td>\n",
       "    </tr>\n",
       "    <tr>\n",
       "      <th>3</th>\n",
       "      <td>256</td>\n",
       "      <td>41</td>\n",
       "      <td>IL</td>\n",
       "      <td>250/500</td>\n",
       "      <td>2000</td>\n",
       "      <td>1415.74</td>\n",
       "      <td>6000000.0</td>\n",
       "      <td>FEMALE</td>\n",
       "      <td>PhD</td>\n",
       "      <td>armed-forces</td>\n",
       "      <td>...</td>\n",
       "      <td>NO</td>\n",
       "      <td>63400</td>\n",
       "      <td>6340</td>\n",
       "      <td>6340.0</td>\n",
       "      <td>50720</td>\n",
       "      <td>Chevrolet</td>\n",
       "      <td>Tahoe</td>\n",
       "      <td>2014</td>\n",
       "      <td>Y</td>\n",
       "      <td>1</td>\n",
       "    </tr>\n",
       "    <tr>\n",
       "      <th>4</th>\n",
       "      <td>228</td>\n",
       "      <td>44</td>\n",
       "      <td>IL</td>\n",
       "      <td>500/1000</td>\n",
       "      <td>1000</td>\n",
       "      <td>1583.91</td>\n",
       "      <td>6000000.0</td>\n",
       "      <td>MALE</td>\n",
       "      <td>Associate</td>\n",
       "      <td>sales</td>\n",
       "      <td>...</td>\n",
       "      <td>NO</td>\n",
       "      <td>6500</td>\n",
       "      <td>1300</td>\n",
       "      <td>650.0</td>\n",
       "      <td>4550</td>\n",
       "      <td>Accura</td>\n",
       "      <td>RSX</td>\n",
       "      <td>2009</td>\n",
       "      <td>N</td>\n",
       "      <td>6</td>\n",
       "    </tr>\n",
       "    <tr>\n",
       "      <th>...</th>\n",
       "      <td>...</td>\n",
       "      <td>...</td>\n",
       "      <td>...</td>\n",
       "      <td>...</td>\n",
       "      <td>...</td>\n",
       "      <td>...</td>\n",
       "      <td>...</td>\n",
       "      <td>...</td>\n",
       "      <td>...</td>\n",
       "      <td>...</td>\n",
       "      <td>...</td>\n",
       "      <td>...</td>\n",
       "      <td>...</td>\n",
       "      <td>...</td>\n",
       "      <td>...</td>\n",
       "      <td>...</td>\n",
       "      <td>...</td>\n",
       "      <td>...</td>\n",
       "      <td>...</td>\n",
       "      <td>...</td>\n",
       "      <td>...</td>\n",
       "    </tr>\n",
       "    <tr>\n",
       "      <th>995</th>\n",
       "      <td>3</td>\n",
       "      <td>38</td>\n",
       "      <td>OH</td>\n",
       "      <td>500/1000</td>\n",
       "      <td>1000</td>\n",
       "      <td>1310.80</td>\n",
       "      <td>0.0</td>\n",
       "      <td>FEMALE</td>\n",
       "      <td>Masters</td>\n",
       "      <td>craft-repair</td>\n",
       "      <td>...</td>\n",
       "      <td>NO</td>\n",
       "      <td>87200</td>\n",
       "      <td>17440</td>\n",
       "      <td>8720.0</td>\n",
       "      <td>61040</td>\n",
       "      <td>Honda</td>\n",
       "      <td>Accord</td>\n",
       "      <td>2006</td>\n",
       "      <td>N</td>\n",
       "      <td>9</td>\n",
       "    </tr>\n",
       "    <tr>\n",
       "      <th>996</th>\n",
       "      <td>285</td>\n",
       "      <td>41</td>\n",
       "      <td>IL</td>\n",
       "      <td>100/300</td>\n",
       "      <td>1000</td>\n",
       "      <td>1436.79</td>\n",
       "      <td>0.0</td>\n",
       "      <td>FEMALE</td>\n",
       "      <td>PhD</td>\n",
       "      <td>prof-specialty</td>\n",
       "      <td>...</td>\n",
       "      <td>NO</td>\n",
       "      <td>108480</td>\n",
       "      <td>18080</td>\n",
       "      <td>18080.0</td>\n",
       "      <td>72320</td>\n",
       "      <td>Volkswagen</td>\n",
       "      <td>Passat</td>\n",
       "      <td>2015</td>\n",
       "      <td>N</td>\n",
       "      <td>0</td>\n",
       "    </tr>\n",
       "    <tr>\n",
       "      <th>997</th>\n",
       "      <td>130</td>\n",
       "      <td>34</td>\n",
       "      <td>OH</td>\n",
       "      <td>250/500</td>\n",
       "      <td>500</td>\n",
       "      <td>1383.49</td>\n",
       "      <td>3000000.0</td>\n",
       "      <td>FEMALE</td>\n",
       "      <td>Masters</td>\n",
       "      <td>armed-forces</td>\n",
       "      <td>...</td>\n",
       "      <td>YES</td>\n",
       "      <td>67500</td>\n",
       "      <td>7500</td>\n",
       "      <td>7500.0</td>\n",
       "      <td>52500</td>\n",
       "      <td>Suburu</td>\n",
       "      <td>Impreza</td>\n",
       "      <td>1996</td>\n",
       "      <td>N</td>\n",
       "      <td>19</td>\n",
       "    </tr>\n",
       "    <tr>\n",
       "      <th>998</th>\n",
       "      <td>458</td>\n",
       "      <td>62</td>\n",
       "      <td>IL</td>\n",
       "      <td>500/1000</td>\n",
       "      <td>2000</td>\n",
       "      <td>1356.92</td>\n",
       "      <td>5000000.0</td>\n",
       "      <td>MALE</td>\n",
       "      <td>Associate</td>\n",
       "      <td>handlers-cleaners</td>\n",
       "      <td>...</td>\n",
       "      <td>YES</td>\n",
       "      <td>46980</td>\n",
       "      <td>5220</td>\n",
       "      <td>5220.0</td>\n",
       "      <td>36540</td>\n",
       "      <td>Audi</td>\n",
       "      <td>A5</td>\n",
       "      <td>1998</td>\n",
       "      <td>N</td>\n",
       "      <td>17</td>\n",
       "    </tr>\n",
       "    <tr>\n",
       "      <th>999</th>\n",
       "      <td>456</td>\n",
       "      <td>60</td>\n",
       "      <td>OH</td>\n",
       "      <td>250/500</td>\n",
       "      <td>1000</td>\n",
       "      <td>766.19</td>\n",
       "      <td>0.0</td>\n",
       "      <td>FEMALE</td>\n",
       "      <td>Associate</td>\n",
       "      <td>sales</td>\n",
       "      <td>...</td>\n",
       "      <td>NO</td>\n",
       "      <td>5060</td>\n",
       "      <td>460</td>\n",
       "      <td>920.0</td>\n",
       "      <td>3680</td>\n",
       "      <td>Mercedes</td>\n",
       "      <td>E400</td>\n",
       "      <td>2007</td>\n",
       "      <td>N</td>\n",
       "      <td>8</td>\n",
       "    </tr>\n",
       "  </tbody>\n",
       "</table>\n",
       "<p>1000 rows × 35 columns</p>\n",
       "</div>"
      ],
      "text/plain": [
       "     months_as_customer  age policy_state policy_csl  policy_deductable  \\\n",
       "0                   328   48           OH    250/500               1000   \n",
       "1                   228   42           IN    250/500               2000   \n",
       "2                   134   29           OH    100/300               2000   \n",
       "3                   256   41           IL    250/500               2000   \n",
       "4                   228   44           IL   500/1000               1000   \n",
       "..                  ...  ...          ...        ...                ...   \n",
       "995                   3   38           OH   500/1000               1000   \n",
       "996                 285   41           IL    100/300               1000   \n",
       "997                 130   34           OH    250/500                500   \n",
       "998                 458   62           IL   500/1000               2000   \n",
       "999                 456   60           OH    250/500               1000   \n",
       "\n",
       "     policy_annual_premium  umbrella_limit insured_sex  \\\n",
       "0                  1406.91             0.0        MALE   \n",
       "1                  1197.22       5000000.0        MALE   \n",
       "2                  1413.14       5000000.0      FEMALE   \n",
       "3                  1415.74       6000000.0      FEMALE   \n",
       "4                  1583.91       6000000.0        MALE   \n",
       "..                     ...             ...         ...   \n",
       "995                1310.80             0.0      FEMALE   \n",
       "996                1436.79             0.0      FEMALE   \n",
       "997                1383.49       3000000.0      FEMALE   \n",
       "998                1356.92       5000000.0        MALE   \n",
       "999                 766.19             0.0      FEMALE   \n",
       "\n",
       "    insured_education_level insured_occupation  ... police_report_available  \\\n",
       "0                        MD       craft-repair  ...                     YES   \n",
       "1                        MD  machine-op-inspct  ...                      NO   \n",
       "2                       PhD              sales  ...                      NO   \n",
       "3                       PhD       armed-forces  ...                      NO   \n",
       "4                 Associate              sales  ...                      NO   \n",
       "..                      ...                ...  ...                     ...   \n",
       "995                 Masters       craft-repair  ...                      NO   \n",
       "996                     PhD     prof-specialty  ...                      NO   \n",
       "997                 Masters       armed-forces  ...                     YES   \n",
       "998               Associate  handlers-cleaners  ...                     YES   \n",
       "999               Associate              sales  ...                      NO   \n",
       "\n",
       "    total_claim_amount  injury_claim  property_claim vehicle_claim  \\\n",
       "0                71610          6510         13020.0         52080   \n",
       "1                 5070           780           780.0          3510   \n",
       "2                34650          7700          3850.0         23100   \n",
       "3                63400          6340          6340.0         50720   \n",
       "4                 6500          1300           650.0          4550   \n",
       "..                 ...           ...             ...           ...   \n",
       "995              87200         17440          8720.0         61040   \n",
       "996             108480         18080         18080.0         72320   \n",
       "997              67500          7500          7500.0         52500   \n",
       "998              46980          5220          5220.0         36540   \n",
       "999               5060           460           920.0          3680   \n",
       "\n",
       "      auto_make auto_model auto_year fraud_reported auto_age  \n",
       "0          Saab        92x      2004              Y       11  \n",
       "1      Mercedes       E400      2007              Y        8  \n",
       "2         Dodge        RAM      2007              N        8  \n",
       "3     Chevrolet      Tahoe      2014              Y        1  \n",
       "4        Accura        RSX      2009              N        6  \n",
       "..          ...        ...       ...            ...      ...  \n",
       "995       Honda     Accord      2006              N        9  \n",
       "996  Volkswagen     Passat      2015              N        0  \n",
       "997      Suburu    Impreza      1996              N       19  \n",
       "998        Audi         A5      1998              N       17  \n",
       "999    Mercedes       E400      2007              N        8  \n",
       "\n",
       "[1000 rows x 35 columns]"
      ]
     },
     "execution_count": 1646,
     "metadata": {},
     "output_type": "execute_result"
    }
   ],
   "source": [
    "df"
   ]
  },
  {
   "cell_type": "code",
   "execution_count": 1647,
   "metadata": {},
   "outputs": [
    {
     "name": "stdout",
     "output_type": "stream",
     "text": [
      "<class 'pandas.core.frame.DataFrame'>\n",
      "RangeIndex: 1000 entries, 0 to 999\n",
      "Data columns (total 35 columns):\n",
      " #   Column                       Non-Null Count  Dtype  \n",
      "---  ------                       --------------  -----  \n",
      " 0   months_as_customer           1000 non-null   int64  \n",
      " 1   age                          1000 non-null   int64  \n",
      " 2   policy_state                 1000 non-null   object \n",
      " 3   policy_csl                   1000 non-null   object \n",
      " 4   policy_deductable            1000 non-null   int64  \n",
      " 5   policy_annual_premium        1000 non-null   float64\n",
      " 6   umbrella_limit               1000 non-null   float64\n",
      " 7   insured_sex                  1000 non-null   object \n",
      " 8   insured_education_level      1000 non-null   object \n",
      " 9   insured_occupation           1000 non-null   object \n",
      " 10  insured_hobbies              1000 non-null   object \n",
      " 11  insured_relationship         1000 non-null   object \n",
      " 12  capital-gains                1000 non-null   int64  \n",
      " 13  capital-loss                 1000 non-null   int64  \n",
      " 14  incident_type                1000 non-null   object \n",
      " 15  collision_type               1000 non-null   object \n",
      " 16  incident_severity            1000 non-null   object \n",
      " 17  authorities_contacted        1000 non-null   object \n",
      " 18  incident_state               1000 non-null   object \n",
      " 19  incident_city                1000 non-null   object \n",
      " 20  incident_hour_of_the_day     1000 non-null   int64  \n",
      " 21  number_of_vehicles_involved  1000 non-null   int64  \n",
      " 22  property_damage              1000 non-null   object \n",
      " 23  bodily_injuries              1000 non-null   int64  \n",
      " 24  witnesses                    1000 non-null   int64  \n",
      " 25  police_report_available      1000 non-null   object \n",
      " 26  total_claim_amount           1000 non-null   int64  \n",
      " 27  injury_claim                 1000 non-null   int64  \n",
      " 28  property_claim               1000 non-null   float64\n",
      " 29  vehicle_claim                1000 non-null   int64  \n",
      " 30  auto_make                    1000 non-null   object \n",
      " 31  auto_model                   1000 non-null   object \n",
      " 32  auto_year                    1000 non-null   int64  \n",
      " 33  fraud_reported               1000 non-null   object \n",
      " 34  auto_age                     1000 non-null   int64  \n",
      "dtypes: float64(3), int64(14), object(18)\n",
      "memory usage: 273.6+ KB\n"
     ]
    }
   ],
   "source": [
    "df.info()"
   ]
  },
  {
   "cell_type": "code",
   "execution_count": 1648,
   "metadata": {},
   "outputs": [
    {
     "data": {
      "text/html": [
       "<div>\n",
       "<style scoped>\n",
       "    .dataframe tbody tr th:only-of-type {\n",
       "        vertical-align: middle;\n",
       "    }\n",
       "\n",
       "    .dataframe tbody tr th {\n",
       "        vertical-align: top;\n",
       "    }\n",
       "\n",
       "    .dataframe thead th {\n",
       "        text-align: right;\n",
       "    }\n",
       "</style>\n",
       "<table border=\"1\" class=\"dataframe\">\n",
       "  <thead>\n",
       "    <tr style=\"text-align: right;\">\n",
       "      <th></th>\n",
       "      <th>col</th>\n",
       "      <th>nunique</th>\n",
       "      <th>unique</th>\n",
       "      <th>type</th>\n",
       "    </tr>\n",
       "  </thead>\n",
       "  <tbody>\n",
       "    <tr>\n",
       "      <th>13</th>\n",
       "      <td>property_damage</td>\n",
       "      <td>2</td>\n",
       "      <td>[YES, NO]</td>\n",
       "      <td>object</td>\n",
       "    </tr>\n",
       "    <tr>\n",
       "      <th>0</th>\n",
       "      <td>policy_state</td>\n",
       "      <td>3</td>\n",
       "      <td>[OH, IN, IL]</td>\n",
       "      <td>object</td>\n",
       "    </tr>\n",
       "    <tr>\n",
       "      <th>1</th>\n",
       "      <td>policy_csl</td>\n",
       "      <td>3</td>\n",
       "      <td>[250/500, 100/300, 500/1000]</td>\n",
       "      <td>object</td>\n",
       "    </tr>\n",
       "    <tr>\n",
       "      <th>14</th>\n",
       "      <td>police_report_available</td>\n",
       "      <td>2</td>\n",
       "      <td>[YES, NO]</td>\n",
       "      <td>object</td>\n",
       "    </tr>\n",
       "    <tr>\n",
       "      <th>2</th>\n",
       "      <td>insured_sex</td>\n",
       "      <td>2</td>\n",
       "      <td>[MALE, FEMALE]</td>\n",
       "      <td>object</td>\n",
       "    </tr>\n",
       "    <tr>\n",
       "      <th>6</th>\n",
       "      <td>insured_relationship</td>\n",
       "      <td>6</td>\n",
       "      <td>[husband, other-relative, own-child, unmarried...</td>\n",
       "      <td>object</td>\n",
       "    </tr>\n",
       "    <tr>\n",
       "      <th>4</th>\n",
       "      <td>insured_occupation</td>\n",
       "      <td>14</td>\n",
       "      <td>[craft-repair, machine-op-inspct, sales, armed...</td>\n",
       "      <td>object</td>\n",
       "    </tr>\n",
       "    <tr>\n",
       "      <th>5</th>\n",
       "      <td>insured_hobbies</td>\n",
       "      <td>20</td>\n",
       "      <td>[sleeping, reading, board-games, bungie-jumpin...</td>\n",
       "      <td>object</td>\n",
       "    </tr>\n",
       "    <tr>\n",
       "      <th>3</th>\n",
       "      <td>insured_education_level</td>\n",
       "      <td>7</td>\n",
       "      <td>[MD, PhD, Associate, Masters, High School, Col...</td>\n",
       "      <td>object</td>\n",
       "    </tr>\n",
       "    <tr>\n",
       "      <th>7</th>\n",
       "      <td>incident_type</td>\n",
       "      <td>4</td>\n",
       "      <td>[Single Vehicle Collision, Vehicle Theft, Mult...</td>\n",
       "      <td>object</td>\n",
       "    </tr>\n",
       "    <tr>\n",
       "      <th>11</th>\n",
       "      <td>incident_state</td>\n",
       "      <td>7</td>\n",
       "      <td>[SC, VA, NY, OH, WV, NC, PA]</td>\n",
       "      <td>object</td>\n",
       "    </tr>\n",
       "    <tr>\n",
       "      <th>9</th>\n",
       "      <td>incident_severity</td>\n",
       "      <td>4</td>\n",
       "      <td>[Major Damage, Minor Damage, Total Loss, Trivi...</td>\n",
       "      <td>object</td>\n",
       "    </tr>\n",
       "    <tr>\n",
       "      <th>12</th>\n",
       "      <td>incident_city</td>\n",
       "      <td>7</td>\n",
       "      <td>[Columbus, Riverwood, Arlington, Springfield, ...</td>\n",
       "      <td>object</td>\n",
       "    </tr>\n",
       "    <tr>\n",
       "      <th>17</th>\n",
       "      <td>fraud_reported</td>\n",
       "      <td>2</td>\n",
       "      <td>[Y, N]</td>\n",
       "      <td>object</td>\n",
       "    </tr>\n",
       "    <tr>\n",
       "      <th>8</th>\n",
       "      <td>collision_type</td>\n",
       "      <td>4</td>\n",
       "      <td>[Side Collision, Unknown, Rear Collision, Fron...</td>\n",
       "      <td>object</td>\n",
       "    </tr>\n",
       "    <tr>\n",
       "      <th>16</th>\n",
       "      <td>auto_model</td>\n",
       "      <td>39</td>\n",
       "      <td>[92x, E400, RAM, Tahoe, RSX, 95, Pathfinder, A...</td>\n",
       "      <td>object</td>\n",
       "    </tr>\n",
       "    <tr>\n",
       "      <th>15</th>\n",
       "      <td>auto_make</td>\n",
       "      <td>14</td>\n",
       "      <td>[Saab, Mercedes, Dodge, Chevrolet, Accura, Nis...</td>\n",
       "      <td>object</td>\n",
       "    </tr>\n",
       "    <tr>\n",
       "      <th>10</th>\n",
       "      <td>authorities_contacted</td>\n",
       "      <td>5</td>\n",
       "      <td>[Police, None, Fire, Other, Ambulance]</td>\n",
       "      <td>object</td>\n",
       "    </tr>\n",
       "  </tbody>\n",
       "</table>\n",
       "</div>"
      ],
      "text/plain": [
       "                        col  nunique  \\\n",
       "13          property_damage        2   \n",
       "0              policy_state        3   \n",
       "1                policy_csl        3   \n",
       "14  police_report_available        2   \n",
       "2               insured_sex        2   \n",
       "6      insured_relationship        6   \n",
       "4        insured_occupation       14   \n",
       "5           insured_hobbies       20   \n",
       "3   insured_education_level        7   \n",
       "7             incident_type        4   \n",
       "11           incident_state        7   \n",
       "9         incident_severity        4   \n",
       "12            incident_city        7   \n",
       "17           fraud_reported        2   \n",
       "8            collision_type        4   \n",
       "16               auto_model       39   \n",
       "15                auto_make       14   \n",
       "10    authorities_contacted        5   \n",
       "\n",
       "                                               unique    type  \n",
       "13                                          [YES, NO]  object  \n",
       "0                                        [OH, IN, IL]  object  \n",
       "1                        [250/500, 100/300, 500/1000]  object  \n",
       "14                                          [YES, NO]  object  \n",
       "2                                      [MALE, FEMALE]  object  \n",
       "6   [husband, other-relative, own-child, unmarried...  object  \n",
       "4   [craft-repair, machine-op-inspct, sales, armed...  object  \n",
       "5   [sleeping, reading, board-games, bungie-jumpin...  object  \n",
       "3   [MD, PhD, Associate, Masters, High School, Col...  object  \n",
       "7   [Single Vehicle Collision, Vehicle Theft, Mult...  object  \n",
       "11                       [SC, VA, NY, OH, WV, NC, PA]  object  \n",
       "9   [Major Damage, Minor Damage, Total Loss, Trivi...  object  \n",
       "12  [Columbus, Riverwood, Arlington, Springfield, ...  object  \n",
       "17                                             [Y, N]  object  \n",
       "8   [Side Collision, Unknown, Rear Collision, Fron...  object  \n",
       "16  [92x, E400, RAM, Tahoe, RSX, 95, Pathfinder, A...  object  \n",
       "15  [Saab, Mercedes, Dodge, Chevrolet, Accura, Nis...  object  \n",
       "10             [Police, None, Fire, Other, Ambulance]  object  "
      ]
     },
     "execution_count": 1648,
     "metadata": {},
     "output_type": "execute_result"
    }
   ],
   "source": [
    "# Cheking categorical data\n",
    "dfs = df[['policy_state','policy_csl','insured_sex','insured_education_level','insured_occupation',\n",
    "          'insured_hobbies','insured_relationship','incident_type','collision_type',\n",
    "          'incident_severity','authorities_contacted','incident_state','incident_city','property_damage',\n",
    "          'police_report_available','auto_make','auto_model','fraud_reported']]\n",
    "info = []\n",
    "for column in dfs.columns:\n",
    "        vals = {\"col\": column,\n",
    "                \"nunique\": dfs[column].nunique(),\n",
    "                \"unique\": dfs[column].unique(),\n",
    "                \"type\": dfs[column].dtype\n",
    "               }\n",
    "        info.append(vals)\n",
    "pd.DataFrame(info).sort_values(by = \"col\", ascending = False)"
   ]
  },
  {
   "cell_type": "markdown",
   "metadata": {},
   "source": [
    "Кодирую категориальные переменные с помощью среднего целевого значения. Изначально делала это простым способом, но в таком случае значимыми переменными в базовой модели являются всего 2,точность не намного, но ниже "
   ]
  },
  {
   "cell_type": "code",
   "execution_count": 1649,
   "metadata": {},
   "outputs": [
    {
     "data": {
      "text/plain": [
       "N    753\n",
       "Y    247\n",
       "Name: fraud_reported, dtype: int64"
      ]
     },
     "execution_count": 1649,
     "metadata": {},
     "output_type": "execute_result"
    }
   ],
   "source": [
    "df['fraud_reported'].value_counts()"
   ]
  },
  {
   "cell_type": "code",
   "execution_count": 1650,
   "metadata": {},
   "outputs": [],
   "source": [
    "df['fraud_reported'] = df['fraud_reported'].replace(('Y','N'),(0,1))"
   ]
  },
  {
   "cell_type": "code",
   "execution_count": 1651,
   "metadata": {},
   "outputs": [
    {
     "data": {
      "text/html": [
       "<div>\n",
       "<style scoped>\n",
       "    .dataframe tbody tr th:only-of-type {\n",
       "        vertical-align: middle;\n",
       "    }\n",
       "\n",
       "    .dataframe tbody tr th {\n",
       "        vertical-align: top;\n",
       "    }\n",
       "\n",
       "    .dataframe thead th {\n",
       "        text-align: right;\n",
       "    }\n",
       "</style>\n",
       "<table border=\"1\" class=\"dataframe\">\n",
       "  <thead>\n",
       "    <tr style=\"text-align: right;\">\n",
       "      <th></th>\n",
       "      <th>property_damage</th>\n",
       "      <th>fraud_reported</th>\n",
       "    </tr>\n",
       "  </thead>\n",
       "  <tbody>\n",
       "    <tr>\n",
       "      <th>0</th>\n",
       "      <td>NO</td>\n",
       "      <td>0.757880</td>\n",
       "    </tr>\n",
       "    <tr>\n",
       "      <th>1</th>\n",
       "      <td>YES</td>\n",
       "      <td>0.741722</td>\n",
       "    </tr>\n",
       "  </tbody>\n",
       "</table>\n",
       "</div>"
      ],
      "text/plain": [
       "  property_damage  fraud_reported\n",
       "0              NO        0.757880\n",
       "1             YES        0.741722"
      ]
     },
     "execution_count": 1651,
     "metadata": {},
     "output_type": "execute_result"
    }
   ],
   "source": [
    "df[['property_damage','fraud_reported']].groupby(['property_damage'], \n",
    "                as_index = False).mean().sort_values(by = 'fraud_reported', ascending = False)"
   ]
  },
  {
   "cell_type": "code",
   "execution_count": 1652,
   "metadata": {},
   "outputs": [
    {
     "data": {
      "text/plain": [
       "0.76    698\n",
       "0.74    302\n",
       "Name: property_damage, dtype: int64"
      ]
     },
     "execution_count": 1652,
     "metadata": {},
     "output_type": "execute_result"
    }
   ],
   "source": [
    "df['property_damage'] = df['property_damage'].replace(('NO','YES'),(0.76,0.74))\n",
    "df['property_damage'].value_counts()"
   ]
  },
  {
   "cell_type": "code",
   "execution_count": 1653,
   "metadata": {},
   "outputs": [
    {
     "data": {
      "text/html": [
       "<div>\n",
       "<style scoped>\n",
       "    .dataframe tbody tr th:only-of-type {\n",
       "        vertical-align: middle;\n",
       "    }\n",
       "\n",
       "    .dataframe tbody tr th {\n",
       "        vertical-align: top;\n",
       "    }\n",
       "\n",
       "    .dataframe thead th {\n",
       "        text-align: right;\n",
       "    }\n",
       "</style>\n",
       "<table border=\"1\" class=\"dataframe\">\n",
       "  <thead>\n",
       "    <tr style=\"text-align: right;\">\n",
       "      <th></th>\n",
       "      <th>policy_state</th>\n",
       "      <th>fraud_reported</th>\n",
       "    </tr>\n",
       "  </thead>\n",
       "  <tbody>\n",
       "    <tr>\n",
       "      <th>0</th>\n",
       "      <td>IL</td>\n",
       "      <td>0.772189</td>\n",
       "    </tr>\n",
       "    <tr>\n",
       "      <th>1</th>\n",
       "      <td>IN</td>\n",
       "      <td>0.745161</td>\n",
       "    </tr>\n",
       "    <tr>\n",
       "      <th>2</th>\n",
       "      <td>OH</td>\n",
       "      <td>0.741477</td>\n",
       "    </tr>\n",
       "  </tbody>\n",
       "</table>\n",
       "</div>"
      ],
      "text/plain": [
       "  policy_state  fraud_reported\n",
       "0           IL        0.772189\n",
       "1           IN        0.745161\n",
       "2           OH        0.741477"
      ]
     },
     "execution_count": 1653,
     "metadata": {},
     "output_type": "execute_result"
    }
   ],
   "source": [
    "df[['policy_state','fraud_reported']].groupby(['policy_state'], as_index = False).mean().sort_values(\n",
    "    by = 'fraud_reported', ascending = False)"
   ]
  },
  {
   "cell_type": "code",
   "execution_count": 1654,
   "metadata": {},
   "outputs": [],
   "source": [
    "df['policy_state'] = df['policy_state'].replace(('IL','IN','OH'),(0.77,0.745,0.74))"
   ]
  },
  {
   "cell_type": "code",
   "execution_count": 1655,
   "metadata": {},
   "outputs": [
    {
     "data": {
      "text/html": [
       "<div>\n",
       "<style scoped>\n",
       "    .dataframe tbody tr th:only-of-type {\n",
       "        vertical-align: middle;\n",
       "    }\n",
       "\n",
       "    .dataframe tbody tr th {\n",
       "        vertical-align: top;\n",
       "    }\n",
       "\n",
       "    .dataframe thead th {\n",
       "        text-align: right;\n",
       "    }\n",
       "</style>\n",
       "<table border=\"1\" class=\"dataframe\">\n",
       "  <thead>\n",
       "    <tr style=\"text-align: right;\">\n",
       "      <th></th>\n",
       "      <th>policy_csl</th>\n",
       "      <th>fraud_reported</th>\n",
       "    </tr>\n",
       "  </thead>\n",
       "  <tbody>\n",
       "    <tr>\n",
       "      <th>2</th>\n",
       "      <td>500/1000</td>\n",
       "      <td>0.783333</td>\n",
       "    </tr>\n",
       "    <tr>\n",
       "      <th>0</th>\n",
       "      <td>100/300</td>\n",
       "      <td>0.742120</td>\n",
       "    </tr>\n",
       "    <tr>\n",
       "      <th>1</th>\n",
       "      <td>250/500</td>\n",
       "      <td>0.737892</td>\n",
       "    </tr>\n",
       "  </tbody>\n",
       "</table>\n",
       "</div>"
      ],
      "text/plain": [
       "  policy_csl  fraud_reported\n",
       "2   500/1000        0.783333\n",
       "0    100/300        0.742120\n",
       "1    250/500        0.737892"
      ]
     },
     "execution_count": 1655,
     "metadata": {},
     "output_type": "execute_result"
    }
   ],
   "source": [
    "df[['policy_csl','fraud_reported']].groupby(['policy_csl'], as_index = False).mean().sort_values(\n",
    "    by = 'fraud_reported', ascending = False)"
   ]
  },
  {
   "cell_type": "code",
   "execution_count": 1656,
   "metadata": {},
   "outputs": [],
   "source": [
    "df['policy_csl'] = df['policy_csl'].replace(('500/1000','100/300','250/500'),(0.78,0.74,0.737))"
   ]
  },
  {
   "cell_type": "code",
   "execution_count": 1657,
   "metadata": {},
   "outputs": [
    {
     "data": {
      "text/html": [
       "<div>\n",
       "<style scoped>\n",
       "    .dataframe tbody tr th:only-of-type {\n",
       "        vertical-align: middle;\n",
       "    }\n",
       "\n",
       "    .dataframe tbody tr th {\n",
       "        vertical-align: top;\n",
       "    }\n",
       "\n",
       "    .dataframe thead th {\n",
       "        text-align: right;\n",
       "    }\n",
       "</style>\n",
       "<table border=\"1\" class=\"dataframe\">\n",
       "  <thead>\n",
       "    <tr style=\"text-align: right;\">\n",
       "      <th></th>\n",
       "      <th>police_report_available</th>\n",
       "      <th>fraud_reported</th>\n",
       "    </tr>\n",
       "  </thead>\n",
       "  <tbody>\n",
       "    <tr>\n",
       "      <th>1</th>\n",
       "      <td>YES</td>\n",
       "      <td>0.770701</td>\n",
       "    </tr>\n",
       "    <tr>\n",
       "      <th>0</th>\n",
       "      <td>NO</td>\n",
       "      <td>0.744898</td>\n",
       "    </tr>\n",
       "  </tbody>\n",
       "</table>\n",
       "</div>"
      ],
      "text/plain": [
       "  police_report_available  fraud_reported\n",
       "1                     YES        0.770701\n",
       "0                      NO        0.744898"
      ]
     },
     "execution_count": 1657,
     "metadata": {},
     "output_type": "execute_result"
    }
   ],
   "source": [
    "df[['police_report_available','fraud_reported']].groupby(['police_report_available'], \n",
    "                as_index = False).mean().sort_values(by = 'fraud_reported', ascending = False)"
   ]
  },
  {
   "cell_type": "code",
   "execution_count": 1658,
   "metadata": {},
   "outputs": [],
   "source": [
    "df['police_report_available'] = df['police_report_available'].replace(('NO','YES'),(0.74,0.77))"
   ]
  },
  {
   "cell_type": "code",
   "execution_count": 1659,
   "metadata": {},
   "outputs": [
    {
     "data": {
      "text/html": [
       "<div>\n",
       "<style scoped>\n",
       "    .dataframe tbody tr th:only-of-type {\n",
       "        vertical-align: middle;\n",
       "    }\n",
       "\n",
       "    .dataframe tbody tr th {\n",
       "        vertical-align: top;\n",
       "    }\n",
       "\n",
       "    .dataframe thead th {\n",
       "        text-align: right;\n",
       "    }\n",
       "</style>\n",
       "<table border=\"1\" class=\"dataframe\">\n",
       "  <thead>\n",
       "    <tr style=\"text-align: right;\">\n",
       "      <th></th>\n",
       "      <th>insured_sex</th>\n",
       "      <th>fraud_reported</th>\n",
       "    </tr>\n",
       "  </thead>\n",
       "  <tbody>\n",
       "    <tr>\n",
       "      <th>0</th>\n",
       "      <td>FEMALE</td>\n",
       "      <td>0.765363</td>\n",
       "    </tr>\n",
       "    <tr>\n",
       "      <th>1</th>\n",
       "      <td>MALE</td>\n",
       "      <td>0.738661</td>\n",
       "    </tr>\n",
       "  </tbody>\n",
       "</table>\n",
       "</div>"
      ],
      "text/plain": [
       "  insured_sex  fraud_reported\n",
       "0      FEMALE        0.765363\n",
       "1        MALE        0.738661"
      ]
     },
     "execution_count": 1659,
     "metadata": {},
     "output_type": "execute_result"
    }
   ],
   "source": [
    "df[['insured_sex','fraud_reported']].groupby(['insured_sex'], as_index = False).mean().sort_values(\n",
    "    by = 'fraud_reported', ascending = False)"
   ]
  },
  {
   "cell_type": "code",
   "execution_count": 1660,
   "metadata": {},
   "outputs": [],
   "source": [
    "df['insured_sex'] = df['insured_sex'].replace(('FEMALE','MALE'),(0.77,0.74))"
   ]
  },
  {
   "cell_type": "code",
   "execution_count": 1661,
   "metadata": {},
   "outputs": [
    {
     "data": {
      "text/html": [
       "<div>\n",
       "<style scoped>\n",
       "    .dataframe tbody tr th:only-of-type {\n",
       "        vertical-align: middle;\n",
       "    }\n",
       "\n",
       "    .dataframe tbody tr th {\n",
       "        vertical-align: top;\n",
       "    }\n",
       "\n",
       "    .dataframe thead th {\n",
       "        text-align: right;\n",
       "    }\n",
       "</style>\n",
       "<table border=\"1\" class=\"dataframe\">\n",
       "  <thead>\n",
       "    <tr style=\"text-align: right;\">\n",
       "      <th></th>\n",
       "      <th>insured_relationship</th>\n",
       "      <th>fraud_reported</th>\n",
       "    </tr>\n",
       "  </thead>\n",
       "  <tbody>\n",
       "    <tr>\n",
       "      <th>0</th>\n",
       "      <td>husband</td>\n",
       "      <td>0.794118</td>\n",
       "    </tr>\n",
       "    <tr>\n",
       "      <th>3</th>\n",
       "      <td>own-child</td>\n",
       "      <td>0.786885</td>\n",
       "    </tr>\n",
       "    <tr>\n",
       "      <th>4</th>\n",
       "      <td>unmarried</td>\n",
       "      <td>0.758865</td>\n",
       "    </tr>\n",
       "    <tr>\n",
       "      <th>1</th>\n",
       "      <td>not-in-family</td>\n",
       "      <td>0.741379</td>\n",
       "    </tr>\n",
       "    <tr>\n",
       "      <th>5</th>\n",
       "      <td>wife</td>\n",
       "      <td>0.729032</td>\n",
       "    </tr>\n",
       "    <tr>\n",
       "      <th>2</th>\n",
       "      <td>other-relative</td>\n",
       "      <td>0.706215</td>\n",
       "    </tr>\n",
       "  </tbody>\n",
       "</table>\n",
       "</div>"
      ],
      "text/plain": [
       "  insured_relationship  fraud_reported\n",
       "0              husband        0.794118\n",
       "3            own-child        0.786885\n",
       "4            unmarried        0.758865\n",
       "1        not-in-family        0.741379\n",
       "5                 wife        0.729032\n",
       "2       other-relative        0.706215"
      ]
     },
     "execution_count": 1661,
     "metadata": {},
     "output_type": "execute_result"
    }
   ],
   "source": [
    "df[['insured_relationship','fraud_reported']].groupby(['insured_relationship'], \n",
    "                as_index = False).mean().sort_values(by = 'fraud_reported', ascending = False)"
   ]
  },
  {
   "cell_type": "code",
   "execution_count": 1662,
   "metadata": {},
   "outputs": [],
   "source": [
    "df['insured_relationship'] = df['insured_relationship'].replace(('husband','own-child','unmarried',\n",
    "                                        'not-in-family','wife','other-relative'),(0.79,0.786,0.76,0.74,0.73,0.706))"
   ]
  },
  {
   "cell_type": "code",
   "execution_count": 1663,
   "metadata": {},
   "outputs": [
    {
     "data": {
      "text/html": [
       "<div>\n",
       "<style scoped>\n",
       "    .dataframe tbody tr th:only-of-type {\n",
       "        vertical-align: middle;\n",
       "    }\n",
       "\n",
       "    .dataframe tbody tr th {\n",
       "        vertical-align: top;\n",
       "    }\n",
       "\n",
       "    .dataframe thead th {\n",
       "        text-align: right;\n",
       "    }\n",
       "</style>\n",
       "<table border=\"1\" class=\"dataframe\">\n",
       "  <thead>\n",
       "    <tr style=\"text-align: right;\">\n",
       "      <th></th>\n",
       "      <th>insured_occupation</th>\n",
       "      <th>fraud_reported</th>\n",
       "    </tr>\n",
       "  </thead>\n",
       "  <tbody>\n",
       "    <tr>\n",
       "      <th>7</th>\n",
       "      <td>other-service</td>\n",
       "      <td>0.830986</td>\n",
       "    </tr>\n",
       "    <tr>\n",
       "      <th>8</th>\n",
       "      <td>priv-house-serv</td>\n",
       "      <td>0.830986</td>\n",
       "    </tr>\n",
       "    <tr>\n",
       "      <th>0</th>\n",
       "      <td>adm-clerical</td>\n",
       "      <td>0.830769</td>\n",
       "    </tr>\n",
       "    <tr>\n",
       "      <th>5</th>\n",
       "      <td>handlers-cleaners</td>\n",
       "      <td>0.796296</td>\n",
       "    </tr>\n",
       "    <tr>\n",
       "      <th>9</th>\n",
       "      <td>prof-specialty</td>\n",
       "      <td>0.788235</td>\n",
       "    </tr>\n",
       "    <tr>\n",
       "      <th>10</th>\n",
       "      <td>protective-serv</td>\n",
       "      <td>0.777778</td>\n",
       "    </tr>\n",
       "    <tr>\n",
       "      <th>6</th>\n",
       "      <td>machine-op-inspct</td>\n",
       "      <td>0.763441</td>\n",
       "    </tr>\n",
       "    <tr>\n",
       "      <th>1</th>\n",
       "      <td>armed-forces</td>\n",
       "      <td>0.753623</td>\n",
       "    </tr>\n",
       "    <tr>\n",
       "      <th>11</th>\n",
       "      <td>sales</td>\n",
       "      <td>0.723684</td>\n",
       "    </tr>\n",
       "    <tr>\n",
       "      <th>12</th>\n",
       "      <td>tech-support</td>\n",
       "      <td>0.717949</td>\n",
       "    </tr>\n",
       "    <tr>\n",
       "      <th>13</th>\n",
       "      <td>transport-moving</td>\n",
       "      <td>0.708333</td>\n",
       "    </tr>\n",
       "    <tr>\n",
       "      <th>2</th>\n",
       "      <td>craft-repair</td>\n",
       "      <td>0.702703</td>\n",
       "    </tr>\n",
       "    <tr>\n",
       "      <th>4</th>\n",
       "      <td>farming-fishing</td>\n",
       "      <td>0.698113</td>\n",
       "    </tr>\n",
       "    <tr>\n",
       "      <th>3</th>\n",
       "      <td>exec-managerial</td>\n",
       "      <td>0.631579</td>\n",
       "    </tr>\n",
       "  </tbody>\n",
       "</table>\n",
       "</div>"
      ],
      "text/plain": [
       "   insured_occupation  fraud_reported\n",
       "7       other-service        0.830986\n",
       "8     priv-house-serv        0.830986\n",
       "0        adm-clerical        0.830769\n",
       "5   handlers-cleaners        0.796296\n",
       "9      prof-specialty        0.788235\n",
       "10    protective-serv        0.777778\n",
       "6   machine-op-inspct        0.763441\n",
       "1        armed-forces        0.753623\n",
       "11              sales        0.723684\n",
       "12       tech-support        0.717949\n",
       "13   transport-moving        0.708333\n",
       "2        craft-repair        0.702703\n",
       "4     farming-fishing        0.698113\n",
       "3     exec-managerial        0.631579"
      ]
     },
     "execution_count": 1663,
     "metadata": {},
     "output_type": "execute_result"
    }
   ],
   "source": [
    "df[['insured_occupation','fraud_reported']].groupby(['insured_occupation'], \n",
    "                as_index = False).mean().sort_values(by = 'fraud_reported', ascending = False)"
   ]
  },
  {
   "cell_type": "code",
   "execution_count": 1664,
   "metadata": {},
   "outputs": [],
   "source": [
    "df['insured_occupation'] = df['insured_occupation'].replace(('other-service','priv-house-serv',\n",
    "                        'adm-clerical','handlers-cleaners','prof-specialty','protective-serv',\n",
    "                'machine-op-inspct','armed-forces','sales','tech-support','transport-moving','craft-repair',\n",
    "                    'farming-fishing','exec-managerial'),(0.83, 0.83,0.83, 0.796,0.788,0.77,0.76,0.75,0.72,0.717,\n",
    "                                                          0.708,0.70,0.698,0.63))"
   ]
  },
  {
   "cell_type": "code",
   "execution_count": 1665,
   "metadata": {},
   "outputs": [
    {
     "data": {
      "text/html": [
       "<div>\n",
       "<style scoped>\n",
       "    .dataframe tbody tr th:only-of-type {\n",
       "        vertical-align: middle;\n",
       "    }\n",
       "\n",
       "    .dataframe tbody tr th {\n",
       "        vertical-align: top;\n",
       "    }\n",
       "\n",
       "    .dataframe thead th {\n",
       "        text-align: right;\n",
       "    }\n",
       "</style>\n",
       "<table border=\"1\" class=\"dataframe\">\n",
       "  <thead>\n",
       "    <tr style=\"text-align: right;\">\n",
       "      <th></th>\n",
       "      <th>insured_hobbies</th>\n",
       "      <th>fraud_reported</th>\n",
       "    </tr>\n",
       "  </thead>\n",
       "  <tbody>\n",
       "    <tr>\n",
       "      <th>4</th>\n",
       "      <td>camping</td>\n",
       "      <td>0.909091</td>\n",
       "    </tr>\n",
       "    <tr>\n",
       "      <th>11</th>\n",
       "      <td>kayaking</td>\n",
       "      <td>0.907407</td>\n",
       "    </tr>\n",
       "    <tr>\n",
       "      <th>9</th>\n",
       "      <td>golf</td>\n",
       "      <td>0.890909</td>\n",
       "    </tr>\n",
       "    <tr>\n",
       "      <th>7</th>\n",
       "      <td>dancing</td>\n",
       "      <td>0.883721</td>\n",
       "    </tr>\n",
       "    <tr>\n",
       "      <th>3</th>\n",
       "      <td>bungie-jumping</td>\n",
       "      <td>0.839286</td>\n",
       "    </tr>\n",
       "    <tr>\n",
       "      <th>12</th>\n",
       "      <td>movies</td>\n",
       "      <td>0.836364</td>\n",
       "    </tr>\n",
       "    <tr>\n",
       "      <th>1</th>\n",
       "      <td>basketball</td>\n",
       "      <td>0.823529</td>\n",
       "    </tr>\n",
       "    <tr>\n",
       "      <th>8</th>\n",
       "      <td>exercise</td>\n",
       "      <td>0.807018</td>\n",
       "    </tr>\n",
       "    <tr>\n",
       "      <th>17</th>\n",
       "      <td>sleeping</td>\n",
       "      <td>0.804878</td>\n",
       "    </tr>\n",
       "    <tr>\n",
       "      <th>18</th>\n",
       "      <td>video-games</td>\n",
       "      <td>0.800000</td>\n",
       "    </tr>\n",
       "    <tr>\n",
       "      <th>16</th>\n",
       "      <td>skydiving</td>\n",
       "      <td>0.775510</td>\n",
       "    </tr>\n",
       "    <tr>\n",
       "      <th>13</th>\n",
       "      <td>paintball</td>\n",
       "      <td>0.771930</td>\n",
       "    </tr>\n",
       "    <tr>\n",
       "      <th>10</th>\n",
       "      <td>hiking</td>\n",
       "      <td>0.769231</td>\n",
       "    </tr>\n",
       "    <tr>\n",
       "      <th>0</th>\n",
       "      <td>base-jumping</td>\n",
       "      <td>0.734694</td>\n",
       "    </tr>\n",
       "    <tr>\n",
       "      <th>15</th>\n",
       "      <td>reading</td>\n",
       "      <td>0.734375</td>\n",
       "    </tr>\n",
       "    <tr>\n",
       "      <th>14</th>\n",
       "      <td>polo</td>\n",
       "      <td>0.723404</td>\n",
       "    </tr>\n",
       "    <tr>\n",
       "      <th>2</th>\n",
       "      <td>board-games</td>\n",
       "      <td>0.708333</td>\n",
       "    </tr>\n",
       "    <tr>\n",
       "      <th>19</th>\n",
       "      <td>yachting</td>\n",
       "      <td>0.698113</td>\n",
       "    </tr>\n",
       "    <tr>\n",
       "      <th>6</th>\n",
       "      <td>cross-fit</td>\n",
       "      <td>0.257143</td>\n",
       "    </tr>\n",
       "    <tr>\n",
       "      <th>5</th>\n",
       "      <td>chess</td>\n",
       "      <td>0.173913</td>\n",
       "    </tr>\n",
       "  </tbody>\n",
       "</table>\n",
       "</div>"
      ],
      "text/plain": [
       "   insured_hobbies  fraud_reported\n",
       "4          camping        0.909091\n",
       "11        kayaking        0.907407\n",
       "9             golf        0.890909\n",
       "7          dancing        0.883721\n",
       "3   bungie-jumping        0.839286\n",
       "12          movies        0.836364\n",
       "1       basketball        0.823529\n",
       "8         exercise        0.807018\n",
       "17        sleeping        0.804878\n",
       "18     video-games        0.800000\n",
       "16       skydiving        0.775510\n",
       "13       paintball        0.771930\n",
       "10          hiking        0.769231\n",
       "0     base-jumping        0.734694\n",
       "15         reading        0.734375\n",
       "14            polo        0.723404\n",
       "2      board-games        0.708333\n",
       "19        yachting        0.698113\n",
       "6        cross-fit        0.257143\n",
       "5            chess        0.173913"
      ]
     },
     "execution_count": 1665,
     "metadata": {},
     "output_type": "execute_result"
    }
   ],
   "source": [
    "df[['insured_hobbies','fraud_reported']].groupby(['insured_hobbies'], \n",
    "                as_index = False).mean().sort_values(by = 'fraud_reported', ascending = False)"
   ]
  },
  {
   "cell_type": "code",
   "execution_count": 1666,
   "metadata": {},
   "outputs": [],
   "source": [
    "df['insured_hobbies'] = df['insured_hobbies'].replace(('camping', 'kayaking', 'golf','dancing',\n",
    "        'bungie-jumping','movies', 'basketball','exercise','sleeping','video-games','skydiving','paintball',\n",
    "            'hiking','base-jumping','reading','polo','board-games','yachting', 'cross-fit','chess'),(0.91, 0.907,\n",
    "                0.89, 0.88,0.84,0.836,0.82,0.807,0.805,0.80,0.78,0.77,0.769,0.73,0.73,0.72,0.708,0.698,0.26,0.17))"
   ]
  },
  {
   "cell_type": "code",
   "execution_count": 1667,
   "metadata": {},
   "outputs": [
    {
     "data": {
      "text/html": [
       "<div>\n",
       "<style scoped>\n",
       "    .dataframe tbody tr th:only-of-type {\n",
       "        vertical-align: middle;\n",
       "    }\n",
       "\n",
       "    .dataframe tbody tr th {\n",
       "        vertical-align: top;\n",
       "    }\n",
       "\n",
       "    .dataframe thead th {\n",
       "        text-align: right;\n",
       "    }\n",
       "</style>\n",
       "<table border=\"1\" class=\"dataframe\">\n",
       "  <thead>\n",
       "    <tr style=\"text-align: right;\">\n",
       "      <th></th>\n",
       "      <th>insured_education_level</th>\n",
       "      <th>fraud_reported</th>\n",
       "    </tr>\n",
       "  </thead>\n",
       "  <tbody>\n",
       "    <tr>\n",
       "      <th>5</th>\n",
       "      <td>Masters</td>\n",
       "      <td>0.776224</td>\n",
       "    </tr>\n",
       "    <tr>\n",
       "      <th>2</th>\n",
       "      <td>High School</td>\n",
       "      <td>0.775000</td>\n",
       "    </tr>\n",
       "    <tr>\n",
       "      <th>0</th>\n",
       "      <td>Associate</td>\n",
       "      <td>0.765517</td>\n",
       "    </tr>\n",
       "    <tr>\n",
       "      <th>3</th>\n",
       "      <td>JD</td>\n",
       "      <td>0.739130</td>\n",
       "    </tr>\n",
       "    <tr>\n",
       "      <th>1</th>\n",
       "      <td>College</td>\n",
       "      <td>0.737705</td>\n",
       "    </tr>\n",
       "    <tr>\n",
       "      <th>4</th>\n",
       "      <td>MD</td>\n",
       "      <td>0.736111</td>\n",
       "    </tr>\n",
       "    <tr>\n",
       "      <th>6</th>\n",
       "      <td>PhD</td>\n",
       "      <td>0.736000</td>\n",
       "    </tr>\n",
       "  </tbody>\n",
       "</table>\n",
       "</div>"
      ],
      "text/plain": [
       "  insured_education_level  fraud_reported\n",
       "5                 Masters        0.776224\n",
       "2             High School        0.775000\n",
       "0               Associate        0.765517\n",
       "3                      JD        0.739130\n",
       "1                 College        0.737705\n",
       "4                      MD        0.736111\n",
       "6                     PhD        0.736000"
      ]
     },
     "execution_count": 1667,
     "metadata": {},
     "output_type": "execute_result"
    }
   ],
   "source": [
    "df[['insured_education_level','fraud_reported']].groupby(['insured_education_level'], \n",
    "                as_index = False).mean().sort_values(by = 'fraud_reported', ascending = False)"
   ]
  },
  {
   "cell_type": "code",
   "execution_count": 1668,
   "metadata": {},
   "outputs": [],
   "source": [
    "df['insured_education_level'] = df['insured_education_level'].replace(('Masters', 'High School','Associate',\n",
    "                                        'JD','College', 'MD','PhD'),(0.776,0.77,0.766,0.74,0.737,0.736,0.736))"
   ]
  },
  {
   "cell_type": "code",
   "execution_count": 1669,
   "metadata": {},
   "outputs": [
    {
     "data": {
      "text/html": [
       "<div>\n",
       "<style scoped>\n",
       "    .dataframe tbody tr th:only-of-type {\n",
       "        vertical-align: middle;\n",
       "    }\n",
       "\n",
       "    .dataframe tbody tr th {\n",
       "        vertical-align: top;\n",
       "    }\n",
       "\n",
       "    .dataframe thead th {\n",
       "        text-align: right;\n",
       "    }\n",
       "</style>\n",
       "<table border=\"1\" class=\"dataframe\">\n",
       "  <thead>\n",
       "    <tr style=\"text-align: right;\">\n",
       "      <th></th>\n",
       "      <th>incident_type</th>\n",
       "      <th>fraud_reported</th>\n",
       "    </tr>\n",
       "  </thead>\n",
       "  <tbody>\n",
       "    <tr>\n",
       "      <th>3</th>\n",
       "      <td>Vehicle Theft</td>\n",
       "      <td>0.914894</td>\n",
       "    </tr>\n",
       "    <tr>\n",
       "      <th>1</th>\n",
       "      <td>Parked Car</td>\n",
       "      <td>0.904762</td>\n",
       "    </tr>\n",
       "    <tr>\n",
       "      <th>0</th>\n",
       "      <td>Multi-vehicle Collision</td>\n",
       "      <td>0.727924</td>\n",
       "    </tr>\n",
       "    <tr>\n",
       "      <th>2</th>\n",
       "      <td>Single Vehicle Collision</td>\n",
       "      <td>0.709677</td>\n",
       "    </tr>\n",
       "  </tbody>\n",
       "</table>\n",
       "</div>"
      ],
      "text/plain": [
       "              incident_type  fraud_reported\n",
       "3             Vehicle Theft        0.914894\n",
       "1                Parked Car        0.904762\n",
       "0   Multi-vehicle Collision        0.727924\n",
       "2  Single Vehicle Collision        0.709677"
      ]
     },
     "execution_count": 1669,
     "metadata": {},
     "output_type": "execute_result"
    }
   ],
   "source": [
    "df[['incident_type','fraud_reported']].groupby(['incident_type'], \n",
    "                as_index = False).mean().sort_values(by = 'fraud_reported', ascending = False)"
   ]
  },
  {
   "cell_type": "code",
   "execution_count": 1670,
   "metadata": {},
   "outputs": [],
   "source": [
    "df['incident_type'] = df['incident_type'].replace(('Vehicle Theft','Parked Car','Multi-vehicle Collision',\n",
    "                                'Single Vehicle Collision'),(0.91, 0.90, 0.73,0.71))"
   ]
  },
  {
   "cell_type": "code",
   "execution_count": 1671,
   "metadata": {},
   "outputs": [
    {
     "data": {
      "text/html": [
       "<div>\n",
       "<style scoped>\n",
       "    .dataframe tbody tr th:only-of-type {\n",
       "        vertical-align: middle;\n",
       "    }\n",
       "\n",
       "    .dataframe tbody tr th {\n",
       "        vertical-align: top;\n",
       "    }\n",
       "\n",
       "    .dataframe thead th {\n",
       "        text-align: right;\n",
       "    }\n",
       "</style>\n",
       "<table border=\"1\" class=\"dataframe\">\n",
       "  <thead>\n",
       "    <tr style=\"text-align: right;\">\n",
       "      <th></th>\n",
       "      <th>incident_state</th>\n",
       "      <th>fraud_reported</th>\n",
       "    </tr>\n",
       "  </thead>\n",
       "  <tbody>\n",
       "    <tr>\n",
       "      <th>6</th>\n",
       "      <td>WV</td>\n",
       "      <td>0.820276</td>\n",
       "    </tr>\n",
       "    <tr>\n",
       "      <th>1</th>\n",
       "      <td>NY</td>\n",
       "      <td>0.778626</td>\n",
       "    </tr>\n",
       "    <tr>\n",
       "      <th>5</th>\n",
       "      <td>VA</td>\n",
       "      <td>0.772727</td>\n",
       "    </tr>\n",
       "    <tr>\n",
       "      <th>3</th>\n",
       "      <td>PA</td>\n",
       "      <td>0.733333</td>\n",
       "    </tr>\n",
       "    <tr>\n",
       "      <th>4</th>\n",
       "      <td>SC</td>\n",
       "      <td>0.705645</td>\n",
       "    </tr>\n",
       "    <tr>\n",
       "      <th>0</th>\n",
       "      <td>NC</td>\n",
       "      <td>0.690909</td>\n",
       "    </tr>\n",
       "    <tr>\n",
       "      <th>2</th>\n",
       "      <td>OH</td>\n",
       "      <td>0.565217</td>\n",
       "    </tr>\n",
       "  </tbody>\n",
       "</table>\n",
       "</div>"
      ],
      "text/plain": [
       "  incident_state  fraud_reported\n",
       "6             WV        0.820276\n",
       "1             NY        0.778626\n",
       "5             VA        0.772727\n",
       "3             PA        0.733333\n",
       "4             SC        0.705645\n",
       "0             NC        0.690909\n",
       "2             OH        0.565217"
      ]
     },
     "execution_count": 1671,
     "metadata": {},
     "output_type": "execute_result"
    }
   ],
   "source": [
    "df[['incident_state','fraud_reported']].groupby(['incident_state'], \n",
    "                as_index = False).mean().sort_values(by = 'fraud_reported', ascending = False)"
   ]
  },
  {
   "cell_type": "code",
   "execution_count": 1672,
   "metadata": {},
   "outputs": [],
   "source": [
    "df['incident_state'] = df['incident_state'].replace(('WV','NY','VA','PA','SC','NC','OH'),\n",
    "                                                        (0.82,0.78,0.77,0.73,0.705,0.69,0.565))\n"
   ]
  },
  {
   "cell_type": "code",
   "execution_count": 1673,
   "metadata": {},
   "outputs": [
    {
     "data": {
      "text/html": [
       "<div>\n",
       "<style scoped>\n",
       "    .dataframe tbody tr th:only-of-type {\n",
       "        vertical-align: middle;\n",
       "    }\n",
       "\n",
       "    .dataframe tbody tr th {\n",
       "        vertical-align: top;\n",
       "    }\n",
       "\n",
       "    .dataframe thead th {\n",
       "        text-align: right;\n",
       "    }\n",
       "</style>\n",
       "<table border=\"1\" class=\"dataframe\">\n",
       "  <thead>\n",
       "    <tr style=\"text-align: right;\">\n",
       "      <th></th>\n",
       "      <th>incident_severity</th>\n",
       "      <th>fraud_reported</th>\n",
       "    </tr>\n",
       "  </thead>\n",
       "  <tbody>\n",
       "    <tr>\n",
       "      <th>3</th>\n",
       "      <td>Trivial Damage</td>\n",
       "      <td>0.933333</td>\n",
       "    </tr>\n",
       "    <tr>\n",
       "      <th>1</th>\n",
       "      <td>Minor Damage</td>\n",
       "      <td>0.892655</td>\n",
       "    </tr>\n",
       "    <tr>\n",
       "      <th>2</th>\n",
       "      <td>Total Loss</td>\n",
       "      <td>0.871429</td>\n",
       "    </tr>\n",
       "    <tr>\n",
       "      <th>0</th>\n",
       "      <td>Major Damage</td>\n",
       "      <td>0.394928</td>\n",
       "    </tr>\n",
       "  </tbody>\n",
       "</table>\n",
       "</div>"
      ],
      "text/plain": [
       "  incident_severity  fraud_reported\n",
       "3    Trivial Damage        0.933333\n",
       "1      Minor Damage        0.892655\n",
       "2        Total Loss        0.871429\n",
       "0      Major Damage        0.394928"
      ]
     },
     "execution_count": 1673,
     "metadata": {},
     "output_type": "execute_result"
    }
   ],
   "source": [
    "df[['incident_severity','fraud_reported']].groupby(['incident_severity'], \n",
    "                as_index = False).mean().sort_values(by = 'fraud_reported', ascending = False)"
   ]
  },
  {
   "cell_type": "code",
   "execution_count": 1674,
   "metadata": {},
   "outputs": [],
   "source": [
    "df['incident_severity'] = df['incident_severity'].replace(('Trivial Damage','Minor Damage','Total Loss',\n",
    "                                                              'Major Damage'),(0.93,0.89,0.87,0.39))"
   ]
  },
  {
   "cell_type": "code",
   "execution_count": 1675,
   "metadata": {},
   "outputs": [
    {
     "data": {
      "text/html": [
       "<div>\n",
       "<style scoped>\n",
       "    .dataframe tbody tr th:only-of-type {\n",
       "        vertical-align: middle;\n",
       "    }\n",
       "\n",
       "    .dataframe tbody tr th {\n",
       "        vertical-align: top;\n",
       "    }\n",
       "\n",
       "    .dataframe thead th {\n",
       "        text-align: right;\n",
       "    }\n",
       "</style>\n",
       "<table border=\"1\" class=\"dataframe\">\n",
       "  <thead>\n",
       "    <tr style=\"text-align: right;\">\n",
       "      <th></th>\n",
       "      <th>incident_city</th>\n",
       "      <th>fraud_reported</th>\n",
       "    </tr>\n",
       "  </thead>\n",
       "  <tbody>\n",
       "    <tr>\n",
       "      <th>4</th>\n",
       "      <td>Northbrook</td>\n",
       "      <td>0.778689</td>\n",
       "    </tr>\n",
       "    <tr>\n",
       "      <th>5</th>\n",
       "      <td>Riverwood</td>\n",
       "      <td>0.776119</td>\n",
       "    </tr>\n",
       "    <tr>\n",
       "      <th>3</th>\n",
       "      <td>Northbend</td>\n",
       "      <td>0.765517</td>\n",
       "    </tr>\n",
       "    <tr>\n",
       "      <th>6</th>\n",
       "      <td>Springfield</td>\n",
       "      <td>0.757962</td>\n",
       "    </tr>\n",
       "    <tr>\n",
       "      <th>2</th>\n",
       "      <td>Hillsdale</td>\n",
       "      <td>0.751773</td>\n",
       "    </tr>\n",
       "    <tr>\n",
       "      <th>1</th>\n",
       "      <td>Columbus</td>\n",
       "      <td>0.738255</td>\n",
       "    </tr>\n",
       "    <tr>\n",
       "      <th>0</th>\n",
       "      <td>Arlington</td>\n",
       "      <td>0.710526</td>\n",
       "    </tr>\n",
       "  </tbody>\n",
       "</table>\n",
       "</div>"
      ],
      "text/plain": [
       "  incident_city  fraud_reported\n",
       "4    Northbrook        0.778689\n",
       "5     Riverwood        0.776119\n",
       "3     Northbend        0.765517\n",
       "6   Springfield        0.757962\n",
       "2     Hillsdale        0.751773\n",
       "1      Columbus        0.738255\n",
       "0     Arlington        0.710526"
      ]
     },
     "execution_count": 1675,
     "metadata": {},
     "output_type": "execute_result"
    }
   ],
   "source": [
    "df[['incident_city','fraud_reported']].groupby(['incident_city'], \n",
    "                as_index = False).mean().sort_values(by = 'fraud_reported', ascending = False)"
   ]
  },
  {
   "cell_type": "code",
   "execution_count": 1676,
   "metadata": {},
   "outputs": [],
   "source": [
    "df['incident_city'] = df['incident_city'].replace(('Northbrook','Riverwood','Northbend','Springfield',\n",
    "                                    'Hillsdale','Columbus','Arlington'),(0.778,0.776,0.765,0.757,0.75,0.74,0.71))"
   ]
  },
  {
   "cell_type": "code",
   "execution_count": 1677,
   "metadata": {},
   "outputs": [
    {
     "data": {
      "text/html": [
       "<div>\n",
       "<style scoped>\n",
       "    .dataframe tbody tr th:only-of-type {\n",
       "        vertical-align: middle;\n",
       "    }\n",
       "\n",
       "    .dataframe tbody tr th {\n",
       "        vertical-align: top;\n",
       "    }\n",
       "\n",
       "    .dataframe thead th {\n",
       "        text-align: right;\n",
       "    }\n",
       "</style>\n",
       "<table border=\"1\" class=\"dataframe\">\n",
       "  <thead>\n",
       "    <tr style=\"text-align: right;\">\n",
       "      <th></th>\n",
       "      <th>collision_type</th>\n",
       "      <th>fraud_reported</th>\n",
       "    </tr>\n",
       "  </thead>\n",
       "  <tbody>\n",
       "    <tr>\n",
       "      <th>3</th>\n",
       "      <td>Unknown</td>\n",
       "      <td>0.910112</td>\n",
       "    </tr>\n",
       "    <tr>\n",
       "      <th>2</th>\n",
       "      <td>Side Collision</td>\n",
       "      <td>0.746377</td>\n",
       "    </tr>\n",
       "    <tr>\n",
       "      <th>0</th>\n",
       "      <td>Front Collision</td>\n",
       "      <td>0.724409</td>\n",
       "    </tr>\n",
       "    <tr>\n",
       "      <th>1</th>\n",
       "      <td>Rear Collision</td>\n",
       "      <td>0.688356</td>\n",
       "    </tr>\n",
       "  </tbody>\n",
       "</table>\n",
       "</div>"
      ],
      "text/plain": [
       "    collision_type  fraud_reported\n",
       "3          Unknown        0.910112\n",
       "2   Side Collision        0.746377\n",
       "0  Front Collision        0.724409\n",
       "1   Rear Collision        0.688356"
      ]
     },
     "execution_count": 1677,
     "metadata": {},
     "output_type": "execute_result"
    }
   ],
   "source": [
    "df[['collision_type','fraud_reported']].groupby(['collision_type'], \n",
    "                as_index = False).mean().sort_values(by = 'fraud_reported', ascending = False)"
   ]
  },
  {
   "cell_type": "code",
   "execution_count": 1678,
   "metadata": {},
   "outputs": [],
   "source": [
    "df['collision_type'] = df['collision_type'].replace(('Unknown','Side Collision', 'Front Collision','Rear Collision'),\n",
    "                                                        (0.91,0.746,0.724,0.688))"
   ]
  },
  {
   "cell_type": "code",
   "execution_count": 1679,
   "metadata": {},
   "outputs": [
    {
     "data": {
      "text/html": [
       "<div>\n",
       "<style scoped>\n",
       "    .dataframe tbody tr th:only-of-type {\n",
       "        vertical-align: middle;\n",
       "    }\n",
       "\n",
       "    .dataframe tbody tr th {\n",
       "        vertical-align: top;\n",
       "    }\n",
       "\n",
       "    .dataframe thead th {\n",
       "        text-align: right;\n",
       "    }\n",
       "</style>\n",
       "<table border=\"1\" class=\"dataframe\">\n",
       "  <thead>\n",
       "    <tr style=\"text-align: right;\">\n",
       "      <th></th>\n",
       "      <th>auto_model</th>\n",
       "      <th>fraud_reported</th>\n",
       "    </tr>\n",
       "  </thead>\n",
       "  <tbody>\n",
       "    <tr>\n",
       "      <th>0</th>\n",
       "      <td>3 Series</td>\n",
       "      <td>0.944444</td>\n",
       "    </tr>\n",
       "    <tr>\n",
       "      <th>31</th>\n",
       "      <td>RSX</td>\n",
       "      <td>0.916667</td>\n",
       "    </tr>\n",
       "    <tr>\n",
       "      <th>25</th>\n",
       "      <td>Malibu</td>\n",
       "      <td>0.900000</td>\n",
       "    </tr>\n",
       "    <tr>\n",
       "      <th>36</th>\n",
       "      <td>Wrangler</td>\n",
       "      <td>0.880952</td>\n",
       "    </tr>\n",
       "    <tr>\n",
       "      <th>29</th>\n",
       "      <td>Pathfinder</td>\n",
       "      <td>0.870968</td>\n",
       "    </tr>\n",
       "    <tr>\n",
       "      <th>35</th>\n",
       "      <td>Ultima</td>\n",
       "      <td>0.869565</td>\n",
       "    </tr>\n",
       "    <tr>\n",
       "      <th>9</th>\n",
       "      <td>Camry</td>\n",
       "      <td>0.857143</td>\n",
       "    </tr>\n",
       "    <tr>\n",
       "      <th>11</th>\n",
       "      <td>Corolla</td>\n",
       "      <td>0.850000</td>\n",
       "    </tr>\n",
       "    <tr>\n",
       "      <th>8</th>\n",
       "      <td>CRV</td>\n",
       "      <td>0.850000</td>\n",
       "    </tr>\n",
       "    <tr>\n",
       "      <th>21</th>\n",
       "      <td>Legacy</td>\n",
       "      <td>0.843750</td>\n",
       "    </tr>\n",
       "    <tr>\n",
       "      <th>27</th>\n",
       "      <td>Neon</td>\n",
       "      <td>0.837838</td>\n",
       "    </tr>\n",
       "    <tr>\n",
       "      <th>3</th>\n",
       "      <td>95</td>\n",
       "      <td>0.814815</td>\n",
       "    </tr>\n",
       "    <tr>\n",
       "      <th>33</th>\n",
       "      <td>TL</td>\n",
       "      <td>0.800000</td>\n",
       "    </tr>\n",
       "    <tr>\n",
       "      <th>2</th>\n",
       "      <td>93</td>\n",
       "      <td>0.800000</td>\n",
       "    </tr>\n",
       "    <tr>\n",
       "      <th>23</th>\n",
       "      <td>MDX</td>\n",
       "      <td>0.777778</td>\n",
       "    </tr>\n",
       "    <tr>\n",
       "      <th>6</th>\n",
       "      <td>Accord</td>\n",
       "      <td>0.769231</td>\n",
       "    </tr>\n",
       "    <tr>\n",
       "      <th>17</th>\n",
       "      <td>Grand Cherokee</td>\n",
       "      <td>0.760000</td>\n",
       "    </tr>\n",
       "    <tr>\n",
       "      <th>13</th>\n",
       "      <td>Escape</td>\n",
       "      <td>0.750000</td>\n",
       "    </tr>\n",
       "    <tr>\n",
       "      <th>12</th>\n",
       "      <td>E400</td>\n",
       "      <td>0.740741</td>\n",
       "    </tr>\n",
       "    <tr>\n",
       "      <th>4</th>\n",
       "      <td>A3</td>\n",
       "      <td>0.729730</td>\n",
       "    </tr>\n",
       "    <tr>\n",
       "      <th>18</th>\n",
       "      <td>Highlander</td>\n",
       "      <td>0.727273</td>\n",
       "    </tr>\n",
       "    <tr>\n",
       "      <th>28</th>\n",
       "      <td>Passat</td>\n",
       "      <td>0.727273</td>\n",
       "    </tr>\n",
       "    <tr>\n",
       "      <th>1</th>\n",
       "      <td>92x</td>\n",
       "      <td>0.714286</td>\n",
       "    </tr>\n",
       "    <tr>\n",
       "      <th>20</th>\n",
       "      <td>Jetta</td>\n",
       "      <td>0.714286</td>\n",
       "    </tr>\n",
       "    <tr>\n",
       "      <th>16</th>\n",
       "      <td>Fusion</td>\n",
       "      <td>0.714286</td>\n",
       "    </tr>\n",
       "    <tr>\n",
       "      <th>15</th>\n",
       "      <td>Forrestor</td>\n",
       "      <td>0.714286</td>\n",
       "    </tr>\n",
       "    <tr>\n",
       "      <th>26</th>\n",
       "      <td>Maxima</td>\n",
       "      <td>0.708333</td>\n",
       "    </tr>\n",
       "    <tr>\n",
       "      <th>19</th>\n",
       "      <td>Impreza</td>\n",
       "      <td>0.700000</td>\n",
       "    </tr>\n",
       "    <tr>\n",
       "      <th>37</th>\n",
       "      <td>X5</td>\n",
       "      <td>0.695652</td>\n",
       "    </tr>\n",
       "    <tr>\n",
       "      <th>30</th>\n",
       "      <td>RAM</td>\n",
       "      <td>0.674419</td>\n",
       "    </tr>\n",
       "    <tr>\n",
       "      <th>22</th>\n",
       "      <td>M5</td>\n",
       "      <td>0.666667</td>\n",
       "    </tr>\n",
       "    <tr>\n",
       "      <th>5</th>\n",
       "      <td>A5</td>\n",
       "      <td>0.656250</td>\n",
       "    </tr>\n",
       "    <tr>\n",
       "      <th>10</th>\n",
       "      <td>Civic</td>\n",
       "      <td>0.636364</td>\n",
       "    </tr>\n",
       "    <tr>\n",
       "      <th>14</th>\n",
       "      <td>F150</td>\n",
       "      <td>0.629630</td>\n",
       "    </tr>\n",
       "    <tr>\n",
       "      <th>34</th>\n",
       "      <td>Tahoe</td>\n",
       "      <td>0.625000</td>\n",
       "    </tr>\n",
       "    <tr>\n",
       "      <th>7</th>\n",
       "      <td>C300</td>\n",
       "      <td>0.611111</td>\n",
       "    </tr>\n",
       "    <tr>\n",
       "      <th>24</th>\n",
       "      <td>ML350</td>\n",
       "      <td>0.600000</td>\n",
       "    </tr>\n",
       "    <tr>\n",
       "      <th>32</th>\n",
       "      <td>Silverado</td>\n",
       "      <td>0.590909</td>\n",
       "    </tr>\n",
       "    <tr>\n",
       "      <th>38</th>\n",
       "      <td>X6</td>\n",
       "      <td>0.562500</td>\n",
       "    </tr>\n",
       "  </tbody>\n",
       "</table>\n",
       "</div>"
      ],
      "text/plain": [
       "        auto_model  fraud_reported\n",
       "0         3 Series        0.944444\n",
       "31             RSX        0.916667\n",
       "25          Malibu        0.900000\n",
       "36        Wrangler        0.880952\n",
       "29      Pathfinder        0.870968\n",
       "35          Ultima        0.869565\n",
       "9            Camry        0.857143\n",
       "11         Corolla        0.850000\n",
       "8              CRV        0.850000\n",
       "21          Legacy        0.843750\n",
       "27            Neon        0.837838\n",
       "3               95        0.814815\n",
       "33              TL        0.800000\n",
       "2               93        0.800000\n",
       "23             MDX        0.777778\n",
       "6           Accord        0.769231\n",
       "17  Grand Cherokee        0.760000\n",
       "13          Escape        0.750000\n",
       "12            E400        0.740741\n",
       "4               A3        0.729730\n",
       "18      Highlander        0.727273\n",
       "28          Passat        0.727273\n",
       "1              92x        0.714286\n",
       "20           Jetta        0.714286\n",
       "16          Fusion        0.714286\n",
       "15       Forrestor        0.714286\n",
       "26          Maxima        0.708333\n",
       "19         Impreza        0.700000\n",
       "37              X5        0.695652\n",
       "30             RAM        0.674419\n",
       "22              M5        0.666667\n",
       "5               A5        0.656250\n",
       "10           Civic        0.636364\n",
       "14            F150        0.629630\n",
       "34           Tahoe        0.625000\n",
       "7             C300        0.611111\n",
       "24           ML350        0.600000\n",
       "32       Silverado        0.590909\n",
       "38              X6        0.562500"
      ]
     },
     "execution_count": 1679,
     "metadata": {},
     "output_type": "execute_result"
    }
   ],
   "source": [
    "df[['auto_model','fraud_reported']].groupby(['auto_model'], \n",
    "                as_index = False).mean().sort_values(by = 'fraud_reported', ascending = False)"
   ]
  },
  {
   "cell_type": "code",
   "execution_count": 1680,
   "metadata": {},
   "outputs": [],
   "source": [
    "df['auto_model'] = df['auto_model'].replace(('3 Series','RSX','Malibu','Wrangler','Pathfinder','Ultima','Camry',\n",
    "                'Corolla','CRV','Legacy','Neon','95','TL','93','MDX','Accord','Grand Cherokee','Escape','E400',\n",
    "            'A3','Highlander','Passat','92x','Jetta','Fusion','Forrestor','Maxima','Impreza','X5','RAM','M5','A5',\n",
    "                'Civic','F150','Tahoe','C300','ML350','Silverado','X6'),\n",
    "                (0.95,0.91, 0.90,0.88,0.87,0.86,0.855,0.85,0.85,0.84,0.83,0.81,0.80,0.80,0.78,0.77,0.76,0.75,0.74,\n",
    "                 0.73,0.72,0.72,0.71,0.71,0.71,0.71,0.70,0.70,0.69,0.67,0.66,0.65,0.64,0.63,0.62,0.61,0.60,0.59,0.56))"
   ]
  },
  {
   "cell_type": "code",
   "execution_count": 1681,
   "metadata": {},
   "outputs": [
    {
     "data": {
      "text/plain": [
       "0.710    112\n",
       "0.720     55\n",
       "0.800     45\n",
       "0.700     44\n",
       "0.670     43\n",
       "0.880     42\n",
       "0.850     40\n",
       "0.830     37\n",
       "0.730     37\n",
       "0.780     36\n",
       "0.650     32\n",
       "0.840     32\n",
       "0.870     31\n",
       "0.900     30\n",
       "0.855     28\n",
       "0.810     27\n",
       "0.630     27\n",
       "0.740     27\n",
       "0.760     25\n",
       "0.750     24\n",
       "0.620     24\n",
       "0.690     23\n",
       "0.860     23\n",
       "0.640     22\n",
       "0.590     22\n",
       "0.600     20\n",
       "0.610     18\n",
       "0.950     18\n",
       "0.560     16\n",
       "0.660     15\n",
       "0.770     13\n",
       "0.910     12\n",
       "Name: auto_model, dtype: int64"
      ]
     },
     "execution_count": 1681,
     "metadata": {},
     "output_type": "execute_result"
    }
   ],
   "source": [
    "df['auto_model'].value_counts()"
   ]
  },
  {
   "cell_type": "code",
   "execution_count": 1682,
   "metadata": {},
   "outputs": [
    {
     "data": {
      "text/html": [
       "<div>\n",
       "<style scoped>\n",
       "    .dataframe tbody tr th:only-of-type {\n",
       "        vertical-align: middle;\n",
       "    }\n",
       "\n",
       "    .dataframe tbody tr th {\n",
       "        vertical-align: top;\n",
       "    }\n",
       "\n",
       "    .dataframe thead th {\n",
       "        text-align: right;\n",
       "    }\n",
       "</style>\n",
       "<table border=\"1\" class=\"dataframe\">\n",
       "  <thead>\n",
       "    <tr style=\"text-align: right;\">\n",
       "      <th></th>\n",
       "      <th>auto_make</th>\n",
       "      <th>fraud_reported</th>\n",
       "    </tr>\n",
       "  </thead>\n",
       "  <tbody>\n",
       "    <tr>\n",
       "      <th>7</th>\n",
       "      <td>Jeep</td>\n",
       "      <td>0.835821</td>\n",
       "    </tr>\n",
       "    <tr>\n",
       "      <th>9</th>\n",
       "      <td>Nissan</td>\n",
       "      <td>0.820513</td>\n",
       "    </tr>\n",
       "    <tr>\n",
       "      <th>12</th>\n",
       "      <td>Toyota</td>\n",
       "      <td>0.814286</td>\n",
       "    </tr>\n",
       "    <tr>\n",
       "      <th>0</th>\n",
       "      <td>Accura</td>\n",
       "      <td>0.808824</td>\n",
       "    </tr>\n",
       "    <tr>\n",
       "      <th>10</th>\n",
       "      <td>Saab</td>\n",
       "      <td>0.775000</td>\n",
       "    </tr>\n",
       "    <tr>\n",
       "      <th>11</th>\n",
       "      <td>Suburu</td>\n",
       "      <td>0.762500</td>\n",
       "    </tr>\n",
       "    <tr>\n",
       "      <th>4</th>\n",
       "      <td>Dodge</td>\n",
       "      <td>0.750000</td>\n",
       "    </tr>\n",
       "    <tr>\n",
       "      <th>6</th>\n",
       "      <td>Honda</td>\n",
       "      <td>0.745455</td>\n",
       "    </tr>\n",
       "    <tr>\n",
       "      <th>3</th>\n",
       "      <td>Chevrolet</td>\n",
       "      <td>0.723684</td>\n",
       "    </tr>\n",
       "    <tr>\n",
       "      <th>2</th>\n",
       "      <td>BMW</td>\n",
       "      <td>0.722222</td>\n",
       "    </tr>\n",
       "    <tr>\n",
       "      <th>13</th>\n",
       "      <td>Volkswagen</td>\n",
       "      <td>0.720588</td>\n",
       "    </tr>\n",
       "    <tr>\n",
       "      <th>1</th>\n",
       "      <td>Audi</td>\n",
       "      <td>0.695652</td>\n",
       "    </tr>\n",
       "    <tr>\n",
       "      <th>5</th>\n",
       "      <td>Ford</td>\n",
       "      <td>0.694444</td>\n",
       "    </tr>\n",
       "    <tr>\n",
       "      <th>8</th>\n",
       "      <td>Mercedes</td>\n",
       "      <td>0.661538</td>\n",
       "    </tr>\n",
       "  </tbody>\n",
       "</table>\n",
       "</div>"
      ],
      "text/plain": [
       "     auto_make  fraud_reported\n",
       "7         Jeep        0.835821\n",
       "9       Nissan        0.820513\n",
       "12      Toyota        0.814286\n",
       "0       Accura        0.808824\n",
       "10        Saab        0.775000\n",
       "11      Suburu        0.762500\n",
       "4        Dodge        0.750000\n",
       "6        Honda        0.745455\n",
       "3    Chevrolet        0.723684\n",
       "2          BMW        0.722222\n",
       "13  Volkswagen        0.720588\n",
       "1         Audi        0.695652\n",
       "5         Ford        0.694444\n",
       "8     Mercedes        0.661538"
      ]
     },
     "execution_count": 1682,
     "metadata": {},
     "output_type": "execute_result"
    }
   ],
   "source": [
    "df[['auto_make','fraud_reported']].groupby(['auto_make'], \n",
    "                as_index = False).mean().sort_values(by = 'fraud_reported', ascending = False)"
   ]
  },
  {
   "cell_type": "code",
   "execution_count": 1683,
   "metadata": {},
   "outputs": [],
   "source": [
    "df['auto_make'] = df['auto_make'].replace(('Jeep','Nissan','Toyota','Accura','Saab','Suburu',\n",
    "                                'Dodge','Honda','Chevrolet','BMW','Volkswagen','Audi','Ford','Mercedes'),\n",
    "                                              (0.84,0.82,0.81,0.80,0.775,0.76,0.75,0.745,0.72,0.72,0.72,0.695,0.694,0.66))"
   ]
  },
  {
   "cell_type": "code",
   "execution_count": 1684,
   "metadata": {},
   "outputs": [
    {
     "data": {
      "text/html": [
       "<div>\n",
       "<style scoped>\n",
       "    .dataframe tbody tr th:only-of-type {\n",
       "        vertical-align: middle;\n",
       "    }\n",
       "\n",
       "    .dataframe tbody tr th {\n",
       "        vertical-align: top;\n",
       "    }\n",
       "\n",
       "    .dataframe thead th {\n",
       "        text-align: right;\n",
       "    }\n",
       "</style>\n",
       "<table border=\"1\" class=\"dataframe\">\n",
       "  <thead>\n",
       "    <tr style=\"text-align: right;\">\n",
       "      <th></th>\n",
       "      <th>authorities_contacted</th>\n",
       "      <th>fraud_reported</th>\n",
       "    </tr>\n",
       "  </thead>\n",
       "  <tbody>\n",
       "    <tr>\n",
       "      <th>2</th>\n",
       "      <td>None</td>\n",
       "      <td>0.934066</td>\n",
       "    </tr>\n",
       "    <tr>\n",
       "      <th>4</th>\n",
       "      <td>Police</td>\n",
       "      <td>0.791096</td>\n",
       "    </tr>\n",
       "    <tr>\n",
       "      <th>1</th>\n",
       "      <td>Fire</td>\n",
       "      <td>0.730942</td>\n",
       "    </tr>\n",
       "    <tr>\n",
       "      <th>0</th>\n",
       "      <td>Ambulance</td>\n",
       "      <td>0.709184</td>\n",
       "    </tr>\n",
       "    <tr>\n",
       "      <th>3</th>\n",
       "      <td>Other</td>\n",
       "      <td>0.681818</td>\n",
       "    </tr>\n",
       "  </tbody>\n",
       "</table>\n",
       "</div>"
      ],
      "text/plain": [
       "  authorities_contacted  fraud_reported\n",
       "2                  None        0.934066\n",
       "4                Police        0.791096\n",
       "1                  Fire        0.730942\n",
       "0             Ambulance        0.709184\n",
       "3                 Other        0.681818"
      ]
     },
     "execution_count": 1684,
     "metadata": {},
     "output_type": "execute_result"
    }
   ],
   "source": [
    "df[['authorities_contacted','fraud_reported']].groupby(['authorities_contacted'], \n",
    "                as_index = False).mean().sort_values(by = 'fraud_reported', ascending = False)"
   ]
  },
  {
   "cell_type": "code",
   "execution_count": 1685,
   "metadata": {},
   "outputs": [],
   "source": [
    "df['authorities_contacted'] = df['authorities_contacted'].replace(('None','Police','Fire','Ambulance','Other'),\n",
    "                                                                      (0.93,0.79,0.73,0.71,0.68))"
   ]
  },
  {
   "cell_type": "markdown",
   "metadata": {},
   "source": [
    "Записываю в переменную 'auto_year' значения 'auto_age', зачем удаляюЗаписываю в переменную 'auto_year' значения 'auto_age', зачем удаляюЗаписываю в переменную 'auto_year' значения 'auto_age', зачем удаляю 'auto_age'."
   ]
  },
  {
   "cell_type": "code",
   "execution_count": 1686,
   "metadata": {},
   "outputs": [],
   "source": [
    "df['auto_year'] = df['auto_age']"
   ]
  },
  {
   "cell_type": "code",
   "execution_count": 1687,
   "metadata": {},
   "outputs": [],
   "source": [
    "df = df.drop(['auto_age'], axis='columns', inplace=False)"
   ]
  },
  {
   "cell_type": "code",
   "execution_count": 1688,
   "metadata": {},
   "outputs": [
    {
     "data": {
      "text/html": [
       "<div>\n",
       "<style scoped>\n",
       "    .dataframe tbody tr th:only-of-type {\n",
       "        vertical-align: middle;\n",
       "    }\n",
       "\n",
       "    .dataframe tbody tr th {\n",
       "        vertical-align: top;\n",
       "    }\n",
       "\n",
       "    .dataframe thead th {\n",
       "        text-align: right;\n",
       "    }\n",
       "</style>\n",
       "<table border=\"1\" class=\"dataframe\">\n",
       "  <thead>\n",
       "    <tr style=\"text-align: right;\">\n",
       "      <th></th>\n",
       "      <th>months_as_customer</th>\n",
       "      <th>age</th>\n",
       "      <th>policy_state</th>\n",
       "      <th>policy_csl</th>\n",
       "      <th>policy_deductable</th>\n",
       "      <th>policy_annual_premium</th>\n",
       "      <th>umbrella_limit</th>\n",
       "      <th>insured_sex</th>\n",
       "      <th>insured_education_level</th>\n",
       "      <th>insured_occupation</th>\n",
       "      <th>...</th>\n",
       "      <th>witnesses</th>\n",
       "      <th>police_report_available</th>\n",
       "      <th>total_claim_amount</th>\n",
       "      <th>injury_claim</th>\n",
       "      <th>property_claim</th>\n",
       "      <th>vehicle_claim</th>\n",
       "      <th>auto_make</th>\n",
       "      <th>auto_model</th>\n",
       "      <th>auto_year</th>\n",
       "      <th>fraud_reported</th>\n",
       "    </tr>\n",
       "  </thead>\n",
       "  <tbody>\n",
       "    <tr>\n",
       "      <th>0</th>\n",
       "      <td>328</td>\n",
       "      <td>48</td>\n",
       "      <td>0.740</td>\n",
       "      <td>0.737</td>\n",
       "      <td>1000</td>\n",
       "      <td>1406.91</td>\n",
       "      <td>0.0</td>\n",
       "      <td>0.74</td>\n",
       "      <td>0.736</td>\n",
       "      <td>0.700</td>\n",
       "      <td>...</td>\n",
       "      <td>2</td>\n",
       "      <td>0.77</td>\n",
       "      <td>71610</td>\n",
       "      <td>6510</td>\n",
       "      <td>13020.0</td>\n",
       "      <td>52080</td>\n",
       "      <td>0.775</td>\n",
       "      <td>0.71</td>\n",
       "      <td>11</td>\n",
       "      <td>0</td>\n",
       "    </tr>\n",
       "    <tr>\n",
       "      <th>1</th>\n",
       "      <td>228</td>\n",
       "      <td>42</td>\n",
       "      <td>0.745</td>\n",
       "      <td>0.737</td>\n",
       "      <td>2000</td>\n",
       "      <td>1197.22</td>\n",
       "      <td>5000000.0</td>\n",
       "      <td>0.74</td>\n",
       "      <td>0.736</td>\n",
       "      <td>0.760</td>\n",
       "      <td>...</td>\n",
       "      <td>0</td>\n",
       "      <td>0.74</td>\n",
       "      <td>5070</td>\n",
       "      <td>780</td>\n",
       "      <td>780.0</td>\n",
       "      <td>3510</td>\n",
       "      <td>0.660</td>\n",
       "      <td>0.74</td>\n",
       "      <td>8</td>\n",
       "      <td>0</td>\n",
       "    </tr>\n",
       "    <tr>\n",
       "      <th>2</th>\n",
       "      <td>134</td>\n",
       "      <td>29</td>\n",
       "      <td>0.740</td>\n",
       "      <td>0.740</td>\n",
       "      <td>2000</td>\n",
       "      <td>1413.14</td>\n",
       "      <td>5000000.0</td>\n",
       "      <td>0.77</td>\n",
       "      <td>0.736</td>\n",
       "      <td>0.720</td>\n",
       "      <td>...</td>\n",
       "      <td>3</td>\n",
       "      <td>0.74</td>\n",
       "      <td>34650</td>\n",
       "      <td>7700</td>\n",
       "      <td>3850.0</td>\n",
       "      <td>23100</td>\n",
       "      <td>0.750</td>\n",
       "      <td>0.67</td>\n",
       "      <td>8</td>\n",
       "      <td>1</td>\n",
       "    </tr>\n",
       "    <tr>\n",
       "      <th>3</th>\n",
       "      <td>256</td>\n",
       "      <td>41</td>\n",
       "      <td>0.770</td>\n",
       "      <td>0.737</td>\n",
       "      <td>2000</td>\n",
       "      <td>1415.74</td>\n",
       "      <td>6000000.0</td>\n",
       "      <td>0.77</td>\n",
       "      <td>0.736</td>\n",
       "      <td>0.750</td>\n",
       "      <td>...</td>\n",
       "      <td>2</td>\n",
       "      <td>0.74</td>\n",
       "      <td>63400</td>\n",
       "      <td>6340</td>\n",
       "      <td>6340.0</td>\n",
       "      <td>50720</td>\n",
       "      <td>0.720</td>\n",
       "      <td>0.62</td>\n",
       "      <td>1</td>\n",
       "      <td>0</td>\n",
       "    </tr>\n",
       "    <tr>\n",
       "      <th>4</th>\n",
       "      <td>228</td>\n",
       "      <td>44</td>\n",
       "      <td>0.770</td>\n",
       "      <td>0.780</td>\n",
       "      <td>1000</td>\n",
       "      <td>1583.91</td>\n",
       "      <td>6000000.0</td>\n",
       "      <td>0.74</td>\n",
       "      <td>0.766</td>\n",
       "      <td>0.720</td>\n",
       "      <td>...</td>\n",
       "      <td>1</td>\n",
       "      <td>0.74</td>\n",
       "      <td>6500</td>\n",
       "      <td>1300</td>\n",
       "      <td>650.0</td>\n",
       "      <td>4550</td>\n",
       "      <td>0.800</td>\n",
       "      <td>0.91</td>\n",
       "      <td>6</td>\n",
       "      <td>1</td>\n",
       "    </tr>\n",
       "    <tr>\n",
       "      <th>...</th>\n",
       "      <td>...</td>\n",
       "      <td>...</td>\n",
       "      <td>...</td>\n",
       "      <td>...</td>\n",
       "      <td>...</td>\n",
       "      <td>...</td>\n",
       "      <td>...</td>\n",
       "      <td>...</td>\n",
       "      <td>...</td>\n",
       "      <td>...</td>\n",
       "      <td>...</td>\n",
       "      <td>...</td>\n",
       "      <td>...</td>\n",
       "      <td>...</td>\n",
       "      <td>...</td>\n",
       "      <td>...</td>\n",
       "      <td>...</td>\n",
       "      <td>...</td>\n",
       "      <td>...</td>\n",
       "      <td>...</td>\n",
       "      <td>...</td>\n",
       "    </tr>\n",
       "    <tr>\n",
       "      <th>995</th>\n",
       "      <td>3</td>\n",
       "      <td>38</td>\n",
       "      <td>0.740</td>\n",
       "      <td>0.780</td>\n",
       "      <td>1000</td>\n",
       "      <td>1310.80</td>\n",
       "      <td>0.0</td>\n",
       "      <td>0.77</td>\n",
       "      <td>0.776</td>\n",
       "      <td>0.700</td>\n",
       "      <td>...</td>\n",
       "      <td>1</td>\n",
       "      <td>0.74</td>\n",
       "      <td>87200</td>\n",
       "      <td>17440</td>\n",
       "      <td>8720.0</td>\n",
       "      <td>61040</td>\n",
       "      <td>0.745</td>\n",
       "      <td>0.77</td>\n",
       "      <td>9</td>\n",
       "      <td>1</td>\n",
       "    </tr>\n",
       "    <tr>\n",
       "      <th>996</th>\n",
       "      <td>285</td>\n",
       "      <td>41</td>\n",
       "      <td>0.770</td>\n",
       "      <td>0.740</td>\n",
       "      <td>1000</td>\n",
       "      <td>1436.79</td>\n",
       "      <td>0.0</td>\n",
       "      <td>0.77</td>\n",
       "      <td>0.736</td>\n",
       "      <td>0.788</td>\n",
       "      <td>...</td>\n",
       "      <td>3</td>\n",
       "      <td>0.74</td>\n",
       "      <td>108480</td>\n",
       "      <td>18080</td>\n",
       "      <td>18080.0</td>\n",
       "      <td>72320</td>\n",
       "      <td>0.720</td>\n",
       "      <td>0.72</td>\n",
       "      <td>0</td>\n",
       "      <td>1</td>\n",
       "    </tr>\n",
       "    <tr>\n",
       "      <th>997</th>\n",
       "      <td>130</td>\n",
       "      <td>34</td>\n",
       "      <td>0.740</td>\n",
       "      <td>0.737</td>\n",
       "      <td>500</td>\n",
       "      <td>1383.49</td>\n",
       "      <td>3000000.0</td>\n",
       "      <td>0.77</td>\n",
       "      <td>0.776</td>\n",
       "      <td>0.750</td>\n",
       "      <td>...</td>\n",
       "      <td>3</td>\n",
       "      <td>0.77</td>\n",
       "      <td>67500</td>\n",
       "      <td>7500</td>\n",
       "      <td>7500.0</td>\n",
       "      <td>52500</td>\n",
       "      <td>0.760</td>\n",
       "      <td>0.70</td>\n",
       "      <td>19</td>\n",
       "      <td>1</td>\n",
       "    </tr>\n",
       "    <tr>\n",
       "      <th>998</th>\n",
       "      <td>458</td>\n",
       "      <td>62</td>\n",
       "      <td>0.770</td>\n",
       "      <td>0.780</td>\n",
       "      <td>2000</td>\n",
       "      <td>1356.92</td>\n",
       "      <td>5000000.0</td>\n",
       "      <td>0.74</td>\n",
       "      <td>0.766</td>\n",
       "      <td>0.796</td>\n",
       "      <td>...</td>\n",
       "      <td>1</td>\n",
       "      <td>0.77</td>\n",
       "      <td>46980</td>\n",
       "      <td>5220</td>\n",
       "      <td>5220.0</td>\n",
       "      <td>36540</td>\n",
       "      <td>0.695</td>\n",
       "      <td>0.65</td>\n",
       "      <td>17</td>\n",
       "      <td>1</td>\n",
       "    </tr>\n",
       "    <tr>\n",
       "      <th>999</th>\n",
       "      <td>456</td>\n",
       "      <td>60</td>\n",
       "      <td>0.740</td>\n",
       "      <td>0.737</td>\n",
       "      <td>1000</td>\n",
       "      <td>766.19</td>\n",
       "      <td>0.0</td>\n",
       "      <td>0.77</td>\n",
       "      <td>0.766</td>\n",
       "      <td>0.720</td>\n",
       "      <td>...</td>\n",
       "      <td>3</td>\n",
       "      <td>0.74</td>\n",
       "      <td>5060</td>\n",
       "      <td>460</td>\n",
       "      <td>920.0</td>\n",
       "      <td>3680</td>\n",
       "      <td>0.660</td>\n",
       "      <td>0.74</td>\n",
       "      <td>8</td>\n",
       "      <td>1</td>\n",
       "    </tr>\n",
       "  </tbody>\n",
       "</table>\n",
       "<p>1000 rows × 34 columns</p>\n",
       "</div>"
      ],
      "text/plain": [
       "     months_as_customer  age  policy_state  policy_csl  policy_deductable  \\\n",
       "0                   328   48         0.740       0.737               1000   \n",
       "1                   228   42         0.745       0.737               2000   \n",
       "2                   134   29         0.740       0.740               2000   \n",
       "3                   256   41         0.770       0.737               2000   \n",
       "4                   228   44         0.770       0.780               1000   \n",
       "..                  ...  ...           ...         ...                ...   \n",
       "995                   3   38         0.740       0.780               1000   \n",
       "996                 285   41         0.770       0.740               1000   \n",
       "997                 130   34         0.740       0.737                500   \n",
       "998                 458   62         0.770       0.780               2000   \n",
       "999                 456   60         0.740       0.737               1000   \n",
       "\n",
       "     policy_annual_premium  umbrella_limit  insured_sex  \\\n",
       "0                  1406.91             0.0         0.74   \n",
       "1                  1197.22       5000000.0         0.74   \n",
       "2                  1413.14       5000000.0         0.77   \n",
       "3                  1415.74       6000000.0         0.77   \n",
       "4                  1583.91       6000000.0         0.74   \n",
       "..                     ...             ...          ...   \n",
       "995                1310.80             0.0         0.77   \n",
       "996                1436.79             0.0         0.77   \n",
       "997                1383.49       3000000.0         0.77   \n",
       "998                1356.92       5000000.0         0.74   \n",
       "999                 766.19             0.0         0.77   \n",
       "\n",
       "     insured_education_level  insured_occupation  ...  witnesses  \\\n",
       "0                      0.736               0.700  ...          2   \n",
       "1                      0.736               0.760  ...          0   \n",
       "2                      0.736               0.720  ...          3   \n",
       "3                      0.736               0.750  ...          2   \n",
       "4                      0.766               0.720  ...          1   \n",
       "..                       ...                 ...  ...        ...   \n",
       "995                    0.776               0.700  ...          1   \n",
       "996                    0.736               0.788  ...          3   \n",
       "997                    0.776               0.750  ...          3   \n",
       "998                    0.766               0.796  ...          1   \n",
       "999                    0.766               0.720  ...          3   \n",
       "\n",
       "     police_report_available  total_claim_amount  injury_claim  \\\n",
       "0                       0.77               71610          6510   \n",
       "1                       0.74                5070           780   \n",
       "2                       0.74               34650          7700   \n",
       "3                       0.74               63400          6340   \n",
       "4                       0.74                6500          1300   \n",
       "..                       ...                 ...           ...   \n",
       "995                     0.74               87200         17440   \n",
       "996                     0.74              108480         18080   \n",
       "997                     0.77               67500          7500   \n",
       "998                     0.77               46980          5220   \n",
       "999                     0.74                5060           460   \n",
       "\n",
       "     property_claim  vehicle_claim  auto_make  auto_model  auto_year  \\\n",
       "0           13020.0          52080      0.775        0.71         11   \n",
       "1             780.0           3510      0.660        0.74          8   \n",
       "2            3850.0          23100      0.750        0.67          8   \n",
       "3            6340.0          50720      0.720        0.62          1   \n",
       "4             650.0           4550      0.800        0.91          6   \n",
       "..              ...            ...        ...         ...        ...   \n",
       "995          8720.0          61040      0.745        0.77          9   \n",
       "996         18080.0          72320      0.720        0.72          0   \n",
       "997          7500.0          52500      0.760        0.70         19   \n",
       "998          5220.0          36540      0.695        0.65         17   \n",
       "999           920.0           3680      0.660        0.74          8   \n",
       "\n",
       "     fraud_reported  \n",
       "0                 0  \n",
       "1                 0  \n",
       "2                 1  \n",
       "3                 0  \n",
       "4                 1  \n",
       "..              ...  \n",
       "995               1  \n",
       "996               1  \n",
       "997               1  \n",
       "998               1  \n",
       "999               1  \n",
       "\n",
       "[1000 rows x 34 columns]"
      ]
     },
     "execution_count": 1688,
     "metadata": {},
     "output_type": "execute_result"
    }
   ],
   "source": [
    "df"
   ]
  },
  {
   "cell_type": "code",
   "execution_count": 1213,
   "metadata": {},
   "outputs": [
    {
     "data": {
      "image/png": "[encoded data removed]",
      "text/plain": [
       "<Figure size 1800x1440 with 2 Axes>"
      ]
     },
     "metadata": {
      "needs_background": "light"
     },
     "output_type": "display_data"
    }
   ],
   "source": [
    "# Cheking correlations\n",
    "import seaborn as sns\n",
    "corrmat = df.corr()\n",
    "f, ax = plt.subplots(figsize=(25, 20))\n",
    "sns.heatmap(corrmat, annot=True)\n",
    "plt.show()"
   ]
  },
  {
   "cell_type": "code",
   "execution_count": 1214,
   "metadata": {},
   "outputs": [],
   "source": [
    "# Splitting the dataset into the Training set and Test set\n",
    "X = df.iloc[:, :-1].values\n",
    "y = df.iloc[:, -1].values\n",
    "from sklearn.model_selection import train_test_split\n",
    "X_train, X_test, y_train, y_test = train_test_split(X, y, test_size=0.2, random_state=13)"
   ]
  },
  {
   "cell_type": "code",
   "execution_count": 1215,
   "metadata": {},
   "outputs": [],
   "source": [
    "# Feature Scaling\n",
    "from sklearn.preprocessing import StandardScaler\n",
    "sc_X = StandardScaler().fit(X_train)\n",
    "X_train = sc_X.transform(X_train)\n",
    "X_test = sc_X.transform(X_test)"
   ]
  },
  {
   "cell_type": "markdown",
   "metadata": {},
   "source": [
    "# Logistic Regression"
   ]
  },
  {
   "cell_type": "markdown",
   "metadata": {},
   "source": [
    "Логистическая регрессия от всех переменных:"
   ]
  },
  {
   "cell_type": "code",
   "execution_count": 1216,
   "metadata": {},
   "outputs": [],
   "source": [
    "# Fitting Logistic Regression to the Training set\n",
    "from sklearn.linear_model import LogisticRegression\n",
    "lr = LogisticRegression(random_state = 13).fit(X_train, y_train)"
   ]
  },
  {
   "cell_type": "code",
   "execution_count": 1217,
   "metadata": {},
   "outputs": [
    {
     "data": {
      "text/plain": [
       "0.865"
      ]
     },
     "execution_count": 1217,
     "metadata": {},
     "output_type": "execute_result"
    }
   ],
   "source": [
    "# Predicting the Test set results\n",
    "y_pred = lr.predict(X_test)\n",
    "lr.score(X_test,y_test)"
   ]
  },
  {
   "cell_type": "code",
   "execution_count": 1218,
   "metadata": {},
   "outputs": [
    {
     "name": "stdout",
     "output_type": "stream",
     "text": [
      "[[ 27  17]\n",
      " [ 10 146]]\n"
     ]
    }
   ],
   "source": [
    "# Making the Confusion Matrix\n",
    "from sklearn.metrics import confusion_matrix\n",
    "cm = confusion_matrix(y_test, y_pred)\n",
    "print(cm)"
   ]
  },
  {
   "cell_type": "markdown",
   "metadata": {},
   "source": [
    "10 позитивных случаев распознаны как негативные, 17 негативных распознаны как позитивные."
   ]
  },
  {
   "cell_type": "code",
   "execution_count": 1242,
   "metadata": {},
   "outputs": [
    {
     "data": {
      "text/plain": [
       "0.135"
      ]
     },
     "execution_count": 1242,
     "metadata": {},
     "output_type": "execute_result"
    }
   ],
   "source": [
    "Error_rate = (17+10)/(200)\n",
    "Error_rate"
   ]
  },
  {
   "cell_type": "code",
   "execution_count": 1243,
   "metadata": {},
   "outputs": [
    {
     "data": {
      "text/plain": [
       "0.9358974358974359"
      ]
     },
     "execution_count": 1243,
     "metadata": {},
     "output_type": "execute_result"
    }
   ],
   "source": [
    "Se = 146/(146+10)\n",
    "Se"
   ]
  },
  {
   "cell_type": "code",
   "execution_count": 1244,
   "metadata": {},
   "outputs": [
    {
     "data": {
      "text/plain": [
       "0.6136363636363636"
      ]
     },
     "execution_count": 1244,
     "metadata": {},
     "output_type": "execute_result"
    }
   ],
   "source": [
    "Sp = 27/(27+17)\n",
    "Sp"
   ]
  },
  {
   "cell_type": "markdown",
   "metadata": {},
   "source": [
    "# Logistic Regression2\n",
    "на отобранных переменных"
   ]
  },
  {
   "cell_type": "code",
   "execution_count": 1219,
   "metadata": {},
   "outputs": [
    {
     "name": "stdout",
     "output_type": "stream",
     "text": [
      "Optimization terminated successfully.\n",
      "         Current function value: 0.485421\n",
      "         Iterations 7\n",
      "                         Results: Logit\n",
      "=================================================================\n",
      "Model:              Logit            Pseudo R-squared: 0.143     \n",
      "Dependent Variable: y                AIC:              842.6742  \n",
      "Date:               2021-11-05 19:07 BIC:              997.2663  \n",
      "No. Observations:   800              Log-Likelihood:   -388.34   \n",
      "Df Model:           32               LL-Null:          -453.13   \n",
      "Df Residuals:       767              LLR p-value:      1.0659e-13\n",
      "Converged:          1.0000           Scale:            1.0000    \n",
      "No. Iterations:     7.0000                                       \n",
      "-------------------------------------------------------------------\n",
      "          Coef.    Std.Err.      z      P>|z|     [0.025     0.975]\n",
      "-------------------------------------------------------------------\n",
      "x1       -0.0811     0.2438   -0.3328   0.7393    -0.5590    0.3968\n",
      "x2        0.1700     0.2432    0.6993   0.4844    -0.3065    0.6466\n",
      "x3        0.0235     0.0906    0.2592   0.7955    -0.1541    0.2011\n",
      "x4        0.0722     0.0917    0.7872   0.4312    -0.1075    0.2519\n",
      "x5       -0.0424     0.0916   -0.4627   0.6436    -0.2219    0.1371\n",
      "x6        0.0750     0.0922    0.8134   0.4160    -0.1058    0.2558\n",
      "x7       -0.1183     0.0890   -1.3284   0.1840    -0.2928    0.0562\n",
      "x8        0.0050     0.0905    0.0553   0.9559    -0.1723    0.1823\n",
      "x9        0.0406     0.0904    0.4492   0.6533    -0.1366    0.2179\n",
      "x10       0.2131     0.0921    2.3131   0.0207     0.0325    0.3936\n",
      "x11       1.2072     0.1502    8.0394   0.0000     0.9129    1.5016\n",
      "x12       0.1910     0.0907    2.1072   0.0351     0.0133    0.3687\n",
      "x13       0.0711     0.0912    0.7802   0.4353    -0.1075    0.2498\n",
      "x14       0.0499     0.0902    0.5527   0.5804    -0.1270    0.2267\n",
      "x15      -0.7272     0.3509   -2.0724   0.0382    -1.4149   -0.0395\n",
      "x16       0.7945     0.3117    2.5492   0.0108     0.1836    1.4054\n",
      "x17       1.0609     0.1010   10.5047   0.0000     0.8629    1.2588\n",
      "x18       0.0148     0.1289    0.1145   0.9088    -0.2378    0.2674\n",
      "x19       0.1603     0.0929    1.7253   0.0845    -0.0218    0.3424\n",
      "x20       0.0404     0.0903    0.4471   0.6548    -0.1365    0.2173\n",
      "x21       0.0644     0.0932    0.6905   0.4899    -0.1183    0.2471\n",
      "x22       0.1569     0.1046    1.5002   0.1336    -0.0481    0.3620\n",
      "x23       0.0099     0.0909    0.1087   0.9135    -0.1684    0.1881\n",
      "x24      -0.0327     0.0905   -0.3610   0.7181    -0.2101    0.1448\n",
      "x25      -0.1135     0.0903   -1.2564   0.2090    -0.2905    0.0635\n",
      "x26      -0.0247     0.0906   -0.2728   0.7850    -0.2022    0.1528\n",
      "x27       7.7588    37.0221    0.2096   0.8340   -64.8033   80.3208\n",
      "x28      -1.2590     6.8445   -0.1839   0.8541   -14.6740   12.1560\n",
      "x29      -1.4072     6.7905   -0.2072   0.8358   -14.7164   11.9020\n",
      "x30      -5.6849    26.4619   -0.2148   0.8299   -57.5493   46.1795\n",
      "x31      -0.1078     0.1097   -0.9824   0.3259    -0.3228    0.1073\n",
      "x32       0.3602     0.1137    3.1679   0.0015     0.1373    0.5831\n",
      "x33       0.0428     0.0927    0.4623   0.6439    -0.1388    0.2245\n",
      "=================================================================\n",
      "\n"
     ]
    }
   ],
   "source": [
    "# Baseline model\n",
    "import statsmodels.api as sm\n",
    "lr = sm.Logit(y_train, X_train).fit()\n",
    "print(lr.summary2())"
   ]
  },
  {
   "cell_type": "code",
   "execution_count": 1220,
   "metadata": {},
   "outputs": [
    {
     "name": "stdout",
     "output_type": "stream",
     "text": [
      "8\n",
      "[False  True False False False False False False False  True  True  True\n",
      " False False  True  True  True False False False False False False False\n",
      " False False False False False False False  True False]\n",
      "[ 2  1 17 10 18 11  4 26 13  1  1  1 12 16  1  1  1 20  3  8 21  5 24 15\n",
      "  7 23 19  6 14 25  9  1 22]\n"
     ]
    }
   ],
   "source": [
    "# Automatic Feature Selection\n",
    "from sklearn.feature_selection import RFECV\n",
    "from sklearn.linear_model import LogisticRegression\n",
    "estimator=LogisticRegression(random_state=123)\n",
    "selector=RFECV(estimator, step=1)\n",
    "selector=selector.fit(X_train, y_train)\n",
    "print(selector.n_features_)\n",
    "print(selector.support_)\n",
    "print(selector.ranking_)"
   ]
  },
  {
   "cell_type": "code",
   "execution_count": 1221,
   "metadata": {},
   "outputs": [
    {
     "name": "stdout",
     "output_type": "stream",
     "text": [
      "[1, 9, 10, 11, 14, 15, 16, 31]\n",
      "№\tIndex\tFeature\n",
      "0\t1\tage\n",
      "1\t9\tinsured_occupation\n",
      "2\t10\tinsured_hobbies\n",
      "3\t11\tinsured_relationship\n",
      "4\t14\tincident_type\n",
      "5\t15\tcollision_type\n",
      "6\t16\tincident_severity\n",
      "7\t31\tauto_model\n"
     ]
    }
   ],
   "source": [
    "# Selected Features\n",
    "selected_columns=[]\n",
    "for i in range(len(X_train[0])):\n",
    "    if selector.support_[i]==1:\n",
    "        selected_columns.append(i)\n",
    "print(selected_columns)\n",
    "print('№\\tIndex\\tFeature')\n",
    "i=0\n",
    "for column in selected_columns:\n",
    "    print(str(i)+'\\t'+str(column)+'\\t'+str(df.columns[column]))\n",
    "    i=i+1"
   ]
  },
  {
   "cell_type": "code",
   "execution_count": 1260,
   "metadata": {},
   "outputs": [],
   "source": [
    "# p-value < 3% Features\n",
    "bas_X_train = X_train[:,[9,10,11,14,15,16,31]]\n",
    "bas_X_test = X_test[:,[9,10,11,14,15,16,31]]"
   ]
  },
  {
   "cell_type": "code",
   "execution_count": 1261,
   "metadata": {},
   "outputs": [],
   "source": [
    "#import pickle\n",
    "#obj = {'X_train': X_train, 'X_test': X_test,'y_train': y_train,'y_test': y_test}\n",
    "#output = open('data_7f.pkl', 'wb')\n",
    "#pickle.dump(obj, output, 2)\n",
    "#output.close()"
   ]
  },
  {
   "cell_type": "code",
   "execution_count": 1262,
   "metadata": {},
   "outputs": [],
   "source": [
    "# Fitting Logistic Regression to the Training set\n",
    "from sklearn.linear_model import LogisticRegression\n",
    "bas = LogisticRegression(random_state = 13).fit(bas_X_train, y_train)"
   ]
  },
  {
   "cell_type": "code",
   "execution_count": 1263,
   "metadata": {},
   "outputs": [
    {
     "data": {
      "text/plain": [
       "0.865"
      ]
     },
     "execution_count": 1263,
     "metadata": {},
     "output_type": "execute_result"
    }
   ],
   "source": [
    "# Predicting the Test set results\n",
    "y_bas_pred = bas.predict(bas_X_test)\n",
    "bas.score(bas_X_test,y_test)"
   ]
  },
  {
   "cell_type": "code",
   "execution_count": 1264,
   "metadata": {},
   "outputs": [
    {
     "name": "stdout",
     "output_type": "stream",
     "text": [
      "[[ 28  16]\n",
      " [ 11 145]]\n"
     ]
    }
   ],
   "source": [
    "# Making the Confusion Matrix\n",
    "from sklearn.metrics import confusion_matrix\n",
    "cm = confusion_matrix(y_test, y_bas_pred)\n",
    "print(cm)"
   ]
  },
  {
   "cell_type": "code",
   "execution_count": 1265,
   "metadata": {},
   "outputs": [
    {
     "data": {
      "text/plain": [
       "0.135"
      ]
     },
     "execution_count": 1265,
     "metadata": {},
     "output_type": "execute_result"
    }
   ],
   "source": [
    "Error_rate = (16+11)/(200)\n",
    "Error_rate"
   ]
  },
  {
   "cell_type": "code",
   "execution_count": 1266,
   "metadata": {},
   "outputs": [
    {
     "data": {
      "text/plain": [
       "0.9294871794871795"
      ]
     },
     "execution_count": 1266,
     "metadata": {},
     "output_type": "execute_result"
    }
   ],
   "source": [
    "Se = 145/(145+11)\n",
    "Se"
   ]
  },
  {
   "cell_type": "code",
   "execution_count": 1267,
   "metadata": {},
   "outputs": [
    {
     "data": {
      "text/plain": [
       "0.6363636363636364"
      ]
     },
     "execution_count": 1267,
     "metadata": {},
     "output_type": "execute_result"
    }
   ],
   "source": [
    "Sp = 28/(28+16)\n",
    "Sp"
   ]
  },
  {
   "cell_type": "markdown",
   "metadata": {},
   "source": [
    "# SVM"
   ]
  },
  {
   "cell_type": "code",
   "execution_count": 1278,
   "metadata": {},
   "outputs": [],
   "source": [
    "# Fitting SVM to the Training set (2 variables)\n",
    "from sklearn.svm import SVC\n",
    "svm = SVC(kernel = 'linear', random_state = 10).fit(bas_X_train, y_train)"
   ]
  },
  {
   "cell_type": "code",
   "execution_count": 1279,
   "metadata": {},
   "outputs": [
    {
     "data": {
      "text/plain": [
       "0.9"
      ]
     },
     "execution_count": 1279,
     "metadata": {},
     "output_type": "execute_result"
    }
   ],
   "source": [
    "# Predicting the Test set results\n",
    "svm_pred = svm.predict(bas_X_test)\n",
    "svm.score(bas_X_test,y_test)"
   ]
  },
  {
   "cell_type": "code",
   "execution_count": 1280,
   "metadata": {},
   "outputs": [
    {
     "name": "stdout",
     "output_type": "stream",
     "text": [
      "[[ 38   6]\n",
      " [ 14 142]]\n"
     ]
    }
   ],
   "source": [
    "# Making the Confusion Matrix\n",
    "from sklearn.metrics import confusion_matrix\n",
    "cm = confusion_matrix(y_test, svm_pred)\n",
    "print(cm)"
   ]
  },
  {
   "cell_type": "code",
   "execution_count": 1281,
   "metadata": {},
   "outputs": [
    {
     "data": {
      "text/plain": [
       "0.1"
      ]
     },
     "execution_count": 1281,
     "metadata": {},
     "output_type": "execute_result"
    }
   ],
   "source": [
    "Error_rate = (14+6)/(200)\n",
    "Error_rate"
   ]
  },
  {
   "cell_type": "code",
   "execution_count": 1282,
   "metadata": {},
   "outputs": [
    {
     "data": {
      "text/plain": [
       "0.9102564102564102"
      ]
     },
     "execution_count": 1282,
     "metadata": {},
     "output_type": "execute_result"
    }
   ],
   "source": [
    "Se = 142/(142+14)\n",
    "Se"
   ]
  },
  {
   "cell_type": "code",
   "execution_count": 1283,
   "metadata": {},
   "outputs": [
    {
     "data": {
      "text/plain": [
       "0.7307692307692307"
      ]
     },
     "execution_count": 1283,
     "metadata": {},
     "output_type": "execute_result"
    }
   ],
   "source": [
    "Sp = 38/(38+14)\n",
    "Sp"
   ]
  },
  {
   "cell_type": "markdown",
   "metadata": {},
   "source": [
    "# K-Nearest Neighbors"
   ]
  },
  {
   "cell_type": "code",
   "execution_count": 1288,
   "metadata": {},
   "outputs": [
    {
     "name": "stdout",
     "output_type": "stream",
     "text": [
      "Minimum error:- 0.1 at K = 21\n"
     ]
    },
    {
     "data": {
      "image/png": "[encoded data removed]",
      "text/plain": [
       "<Figure size 720x432 with 1 Axes>"
      ]
     },
     "metadata": {
      "needs_background": "light"
     },
     "output_type": "display_data"
    }
   ],
   "source": [
    "# Optimal K \n",
    "from sklearn.neighbors import KNeighborsClassifier\n",
    "error_rate = []\n",
    "for i in range(1,50):\n",
    "     knn = KNeighborsClassifier(n_neighbors=i)\n",
    "     knn.fit(bas_X_train,y_train)\n",
    "     pred_i = knn.predict(bas_X_test)\n",
    "     error_rate.append(np.mean(pred_i != y_test))\n",
    "\n",
    "plt.figure(figsize=(10,6))\n",
    "plt.plot(range(1,50),error_rate,color='blue', linestyle='dashed', \n",
    "         marker='o',markerfacecolor='red', markersize=10)\n",
    "plt.title('Error Rate vs. K Value')\n",
    "plt.xlabel('K')\n",
    "plt.ylabel('Error Rate')\n",
    "print(\"Minimum error:-\",min(error_rate),\"at K =\",error_rate.index(min(error_rate)))"
   ]
  },
  {
   "cell_type": "code",
   "execution_count": 1289,
   "metadata": {},
   "outputs": [],
   "source": [
    "# Fitting K-NN to the Training set (2 variables)\n",
    "knn = KNeighborsClassifier(n_neighbors = 21, metric = 'minkowski', p = 2).fit(bas_X_train, y_train)"
   ]
  },
  {
   "cell_type": "code",
   "execution_count": 1290,
   "metadata": {},
   "outputs": [
    {
     "data": {
      "text/plain": [
       "0.9"
      ]
     },
     "execution_count": 1290,
     "metadata": {},
     "output_type": "execute_result"
    }
   ],
   "source": [
    "# Predicting the Test set results\n",
    "knn_pred = knn.predict(bas_X_test)\n",
    "knn.score(bas_X_test,y_test).round(2)"
   ]
  },
  {
   "cell_type": "code",
   "execution_count": 1291,
   "metadata": {},
   "outputs": [
    {
     "name": "stdout",
     "output_type": "stream",
     "text": [
      "[[ 32  12]\n",
      " [  9 147]]\n"
     ]
    }
   ],
   "source": [
    "# Making the Confusion Matrix\n",
    "from sklearn.metrics import confusion_matrix\n",
    "cm = confusion_matrix(y_test, knn_pred)\n",
    "print(cm)"
   ]
  },
  {
   "cell_type": "code",
   "execution_count": 1292,
   "metadata": {},
   "outputs": [
    {
     "data": {
      "text/plain": [
       "0.105"
      ]
     },
     "execution_count": 1292,
     "metadata": {},
     "output_type": "execute_result"
    }
   ],
   "source": [
    "Error_rate = (12+9)/(200)\n",
    "Error_rate"
   ]
  },
  {
   "cell_type": "code",
   "execution_count": 1293,
   "metadata": {},
   "outputs": [
    {
     "data": {
      "text/plain": [
       "0.9423076923076923"
      ]
     },
     "execution_count": 1293,
     "metadata": {},
     "output_type": "execute_result"
    }
   ],
   "source": [
    "Se = 147/(147+9)\n",
    "Se"
   ]
  },
  {
   "cell_type": "code",
   "execution_count": 1294,
   "metadata": {},
   "outputs": [
    {
     "data": {
      "text/plain": [
       "0.7272727272727273"
      ]
     },
     "execution_count": 1294,
     "metadata": {},
     "output_type": "execute_result"
    }
   ],
   "source": [
    "Sp = 32/(32+12)\n",
    "Sp"
   ]
  },
  {
   "cell_type": "markdown",
   "metadata": {},
   "source": [
    "# Naive Bayes"
   ]
  },
  {
   "cell_type": "code",
   "execution_count": 1299,
   "metadata": {},
   "outputs": [],
   "source": [
    "# Fitting Naive Bayes to the Training set\n",
    "from sklearn.naive_bayes import GaussianNB\n",
    "nb = GaussianNB().fit(bas_X_train, y_train)"
   ]
  },
  {
   "cell_type": "code",
   "execution_count": 1300,
   "metadata": {},
   "outputs": [
    {
     "data": {
      "text/plain": [
       "0.905"
      ]
     },
     "execution_count": 1300,
     "metadata": {},
     "output_type": "execute_result"
    }
   ],
   "source": [
    "# Predicting the Test set results\n",
    "nb_pred = nb.predict(bas_X_test)\n",
    "nb.score(bas_X_test,y_test)"
   ]
  },
  {
   "cell_type": "code",
   "execution_count": 1301,
   "metadata": {},
   "outputs": [
    {
     "name": "stdout",
     "output_type": "stream",
     "text": [
      "[[ 39   5]\n",
      " [ 14 142]]\n"
     ]
    }
   ],
   "source": [
    "# Making the Confusion Matrix\n",
    "from sklearn.metrics import confusion_matrix\n",
    "cm = confusion_matrix(y_test, nb_pred)\n",
    "print(cm)"
   ]
  },
  {
   "cell_type": "code",
   "execution_count": 1302,
   "metadata": {},
   "outputs": [
    {
     "data": {
      "text/plain": [
       "0.095"
      ]
     },
     "execution_count": 1302,
     "metadata": {},
     "output_type": "execute_result"
    }
   ],
   "source": [
    "Error_rate = (5+14)/(200)\n",
    "Error_rate"
   ]
  },
  {
   "cell_type": "code",
   "execution_count": 1303,
   "metadata": {},
   "outputs": [
    {
     "data": {
      "text/plain": [
       "0.9102564102564102"
      ]
     },
     "execution_count": 1303,
     "metadata": {},
     "output_type": "execute_result"
    }
   ],
   "source": [
    "Se = 142/(142+14)\n",
    "Se"
   ]
  },
  {
   "cell_type": "code",
   "execution_count": 1304,
   "metadata": {},
   "outputs": [
    {
     "data": {
      "text/plain": [
       "0.8863636363636364"
      ]
     },
     "execution_count": 1304,
     "metadata": {},
     "output_type": "execute_result"
    }
   ],
   "source": [
    "Sp = 39/(39+5)\n",
    "Sp"
   ]
  },
  {
   "cell_type": "markdown",
   "metadata": {},
   "source": [
    "# Classification Tree"
   ]
  },
  {
   "cell_type": "code",
   "execution_count": 1324,
   "metadata": {},
   "outputs": [],
   "source": [
    "# Function Max Leaf\n",
    "def max_leaf_nodes(bas_X_train, bas_X_test, y_train, y_test, n):\n",
    "    mse_train = []\n",
    "    mse_test = []\n",
    "    for i in n:\n",
    "        ct = DecisionTreeClassifier(max_leaf_nodes = i, random_state=10).fit(bas_X_train, y_train)\n",
    "        mse_train.append(mean_squared_error(y_train, ct.predict(bas_X_train)))\n",
    "        mse_test.append(mean_squared_error(y_test, ct.predict(bas_X_test)))\n",
    "    fig, ax = plt.subplots(figsize=(8, 4))\n",
    "    ax.plot(n, mse_train, alpha=0.5, color='blue', label='train')\n",
    "    ax.plot(n, mse_test, alpha=0.5, color='red', label='test')\n",
    "    ax.set_ylabel(\"MSE\")\n",
    "    ax.set_xlabel(\"max_leaf_nodes\")"
   ]
  },
  {
   "cell_type": "code",
   "execution_count": 1325,
   "metadata": {},
   "outputs": [
    {
     "data": {
      "image/png": "[encoded data removed]",
      "text/plain": [
       "<Figure size 576x288 with 1 Axes>"
      ]
     },
     "metadata": {
      "needs_background": "light"
     },
     "output_type": "display_data"
    }
   ],
   "source": [
    "# The optimal number of max_leaf_nodes\n",
    "from sklearn.tree import DecisionTreeClassifier\n",
    "from sklearn.metrics import mean_squared_error\n",
    "max_leaf_nodes(bas_X_train, bas_X_test, y_train, y_test, [2, 4, 6, 8, 10])"
   ]
  },
  {
   "cell_type": "code",
   "execution_count": 1342,
   "metadata": {},
   "outputs": [],
   "source": [
    "# Fitting Classification Tree to the Training set (2 variables)\n",
    "ct = DecisionTreeClassifier(max_leaf_nodes = 3, criterion = 'entropy', random_state = 10).fit(bas_X_train, y_train)"
   ]
  },
  {
   "cell_type": "code",
   "execution_count": 1343,
   "metadata": {},
   "outputs": [
    {
     "data": {
      "text/plain": [
       "0.895"
      ]
     },
     "execution_count": 1343,
     "metadata": {},
     "output_type": "execute_result"
    }
   ],
   "source": [
    "# Predicting the Test set results\n",
    "ct_pred = ct.predict(bas_X_test)\n",
    "ct.score(bas_X_test,y_test)"
   ]
  },
  {
   "cell_type": "code",
   "execution_count": 1344,
   "metadata": {},
   "outputs": [
    {
     "name": "stdout",
     "output_type": "stream",
     "text": [
      "[[ 39   5]\n",
      " [ 16 140]]\n"
     ]
    }
   ],
   "source": [
    "# Making the Confusion Matrix\n",
    "from sklearn.metrics import confusion_matrix\n",
    "cm = confusion_matrix(y_test, ct_pred)\n",
    "print(cm)"
   ]
  },
  {
   "cell_type": "code",
   "execution_count": 1453,
   "metadata": {},
   "outputs": [
    {
     "data": {
      "text/plain": [
       "0.105"
      ]
     },
     "execution_count": 1453,
     "metadata": {},
     "output_type": "execute_result"
    }
   ],
   "source": [
    "Error_rate = (5+16)/(200)\n",
    "Error_rate"
   ]
  },
  {
   "cell_type": "code",
   "execution_count": 1454,
   "metadata": {},
   "outputs": [
    {
     "data": {
      "text/plain": [
       "0.8974358974358975"
      ]
     },
     "execution_count": 1454,
     "metadata": {},
     "output_type": "execute_result"
    }
   ],
   "source": [
    "Se = 140/(140+16)\n",
    "Se"
   ]
  },
  {
   "cell_type": "code",
   "execution_count": 1455,
   "metadata": {},
   "outputs": [
    {
     "data": {
      "text/plain": [
       "0.8863636363636364"
      ]
     },
     "execution_count": 1455,
     "metadata": {},
     "output_type": "execute_result"
    }
   ],
   "source": [
    "Sp = 39/(39+5)\n",
    "Sp"
   ]
  },
  {
   "cell_type": "markdown",
   "metadata": {},
   "source": [
    "# Forest"
   ]
  },
  {
   "cell_type": "code",
   "execution_count": 1425,
   "metadata": {},
   "outputs": [],
   "source": [
    "def rf_best_n_estimator(bas_X_train, bas_X_test, y_train, y_test, n):\n",
    "    mse_train = []\n",
    "    mse_test = []\n",
    "    for i in n:\n",
    "        rf = RandomForestClassifier(n_estimators=i, random_state=10).fit(bas_X_train, y_train)\n",
    "        mse_train.append(mean_squared_error(y_train, rf.predict(bas_X_train)))\n",
    "        mse_test.append(mean_squared_error(y_test, rf.predict(bas_X_test)))\n",
    "    fig, ax = plt.subplots(figsize=(8, 4))\n",
    "    ax.plot(n, mse_train, alpha=0.5, color='blue', label='train')\n",
    "    ax.plot(n, mse_test, alpha=0.5, color='red', label='test')\n",
    "    ax.set_ylabel(\"MSE\")\n",
    "    ax.set_xlabel(\"N_estimators\")"
   ]
  },
  {
   "cell_type": "code",
   "execution_count": 1426,
   "metadata": {},
   "outputs": [
    {
     "data": {
      "image/png": "[encoded data removed]",
      "text/plain": [
       "<Figure size 576x288 with 1 Axes>"
      ]
     },
     "metadata": {
      "needs_background": "light"
     },
     "output_type": "display_data"
    }
   ],
   "source": [
    "# The optimal number of trees \n",
    "from sklearn.ensemble import RandomForestClassifier    \n",
    "rf_best_n_estimator(bas_X_train, bas_X_test, y_train, y_test, [2, 5, 10, 15, 20])"
   ]
  },
  {
   "cell_type": "code",
   "execution_count": 1448,
   "metadata": {},
   "outputs": [],
   "source": [
    "def rf_max_leaf_nodes(bas_X_train, bas_X_test, y_train, y_test, n):\n",
    "    mse_train = []\n",
    "    mse_test = []\n",
    "    for i in n:\n",
    "        rf = RandomForestClassifier(n_estimators=8, max_leaf_nodes =i, random_state=10).fit(bas_X_train, y_train)\n",
    "        mse_train.append(mean_squared_error(y_train, rf.predict(bas_X_train)))\n",
    "        mse_test.append(mean_squared_error(y_test, rf.predict(bas_X_test)))\n",
    "    fig, ax = plt.subplots(figsize=(8, 4))\n",
    "    ax.plot(n, mse_train, alpha=0.5, color='blue', label='train')\n",
    "    ax.plot(n, mse_test, alpha=0.5, color='red', label='test')\n",
    "    ax.set_ylabel(\"MSE\")\n",
    "    ax.set_xlabel(\"max_leaf_nodes\")"
   ]
  },
  {
   "cell_type": "code",
   "execution_count": 1449,
   "metadata": {},
   "outputs": [
    {
     "data": {
      "image/png": "[encoded data removed]",
      "text/plain": [
       "<Figure size 576x288 with 1 Axes>"
      ]
     },
     "metadata": {
      "needs_background": "light"
     },
     "output_type": "display_data"
    }
   ],
   "source": [
    "# The optimal number of max_leaf_nodes\n",
    "rf_max_leaf_nodes(bas_X_train, bas_X_test, y_train, y_test, [2, 4, 6, 8, 10])"
   ]
  },
  {
   "cell_type": "code",
   "execution_count": 1450,
   "metadata": {},
   "outputs": [],
   "source": [
    "# Fitting Random Forest to the Training set\n",
    "from sklearn.ensemble import RandomForestClassifier\n",
    "rf = RandomForestClassifier(n_estimators = 8, max_leaf_nodes = 6, random_state = 10).fit(bas_X_train, y_train)"
   ]
  },
  {
   "cell_type": "code",
   "execution_count": 1451,
   "metadata": {},
   "outputs": [
    {
     "data": {
      "text/plain": [
       "0.885"
      ]
     },
     "execution_count": 1451,
     "metadata": {},
     "output_type": "execute_result"
    }
   ],
   "source": [
    "# Predicting the Test set results\n",
    "rf_pred = rf.predict(bas_X_test)\n",
    "rf_pred = (rf_pred > 0.5)\n",
    "rf.score(bas_X_test,y_test)"
   ]
  },
  {
   "cell_type": "code",
   "execution_count": 1452,
   "metadata": {},
   "outputs": [
    {
     "name": "stdout",
     "output_type": "stream",
     "text": [
      "[[ 29  15]\n",
      " [  8 148]]\n"
     ]
    }
   ],
   "source": [
    "# Making the Confusion Matrix\n",
    "from sklearn.metrics import confusion_matrix\n",
    "cm = confusion_matrix(y_test, rf_pred)\n",
    "print(cm)"
   ]
  },
  {
   "cell_type": "code",
   "execution_count": 1456,
   "metadata": {},
   "outputs": [
    {
     "data": {
      "text/plain": [
       "0.115"
      ]
     },
     "execution_count": 1456,
     "metadata": {},
     "output_type": "execute_result"
    }
   ],
   "source": [
    "Error_rate = (15+8)/(200)\n",
    "Error_rate"
   ]
  },
  {
   "cell_type": "code",
   "execution_count": 1457,
   "metadata": {},
   "outputs": [
    {
     "data": {
      "text/plain": [
       "0.9487179487179487"
      ]
     },
     "execution_count": 1457,
     "metadata": {},
     "output_type": "execute_result"
    }
   ],
   "source": [
    "Se = 148/(148+8)\n",
    "Se"
   ]
  },
  {
   "cell_type": "code",
   "execution_count": 1458,
   "metadata": {},
   "outputs": [
    {
     "data": {
      "text/plain": [
       "0.6590909090909091"
      ]
     },
     "execution_count": 1458,
     "metadata": {},
     "output_type": "execute_result"
    }
   ],
   "source": [
    "Sp = 29/(29+15)\n",
    "Sp"
   ]
  },
  {
   "cell_type": "markdown",
   "metadata": {},
   "source": [
    "# Classification Neural Network"
   ]
  },
  {
   "cell_type": "code",
   "execution_count": 1459,
   "metadata": {},
   "outputs": [],
   "source": [
    "# Install Tensorflow\n",
    "# Install Keras\n",
    "# Importing the Keras libraries and packages\n",
    "import keras\n",
    "from keras.models import Sequential\n",
    "from keras.layers import Dense"
   ]
  },
  {
   "cell_type": "markdown",
   "metadata": {},
   "source": [
    "Построим нейронную сеть прямой передачи сигнала: \n",
    "Так как мы имеем дело с моделью классификации, то необходимо создавать сужающую структуру. Поэтому т.к. параметры мною были выбраны 5 параметров классификации, но та входном слое НС будем иметь 5 нейронов, а на первом слое возьмем количество меньшее, равное 4. используем функцию активации \"relu\".\n",
    "На втором слое возьмем 1 нейрон, так как мы имеем всего два класса (число выходов в начем случае = 2-1). Будем использовать сигмоидальную функцию активации, так как она изменяется в диапазоне от 0 до 1, что соответствует нашей эндогенной переменной.\n",
    "Стоит отметить, что такие настройки НС были окончательно взяты после ряда подборов значений, и изменений точности модели."
   ]
  },
  {
   "cell_type": "code",
   "execution_count": 1542,
   "metadata": {},
   "outputs": [
    {
     "name": "stderr",
     "output_type": "stream",
     "text": [
      "C:\\Users\\User\\anaconda3\\envs\\tensorflow_env\\lib\\site-packages\\ipykernel_launcher.py:5: UserWarning: Update your `Dense` call to the Keras 2 API: `Dense(activation=\"relu\", input_dim=7, units=7, kernel_initializer=\"uniform\")`\n",
      "  \"\"\"\n",
      "C:\\Users\\User\\anaconda3\\envs\\tensorflow_env\\lib\\site-packages\\ipykernel_launcher.py:8: UserWarning: Update your `Dense` call to the Keras 2 API: `Dense(activation=\"sigmoid\", units=1, kernel_initializer=\"uniform\")`\n",
      "  \n"
     ]
    }
   ],
   "source": [
    "# Initialising the ANN\n",
    "cnn = Sequential()\n",
    "\n",
    "# Adding the input layer and the first hidden layer\n",
    "cnn.add(Dense(output_dim = 7, init = 'uniform', activation = 'relu', input_dim = 7))\n",
    "\n",
    "# Adding the output layer\n",
    "cnn.add(Dense(output_dim = 1, init = 'uniform', activation = 'sigmoid'))\n",
    "\n",
    "# Compiling the ANN\n",
    "cnn.compile(optimizer = 'adam', loss = 'binary_crossentropy', metrics = ['accuracy'])"
   ]
  },
  {
   "cell_type": "markdown",
   "metadata": {},
   "source": [
    "Обучаем модель партиями по 8 объектов в течении 100 эпох."
   ]
  },
  {
   "cell_type": "code",
   "execution_count": 1543,
   "metadata": {},
   "outputs": [
    {
     "name": "stderr",
     "output_type": "stream",
     "text": [
      "C:\\Users\\User\\anaconda3\\envs\\tensorflow_env\\lib\\site-packages\\ipykernel_launcher.py:2: UserWarning: The `nb_epoch` argument in `fit` has been renamed `epochs`.\n",
      "  \n"
     ]
    },
    {
     "name": "stdout",
     "output_type": "stream",
     "text": [
      "Train on 800 samples, validate on 200 samples\n",
      "Epoch 1/100\n",
      "800/800 [==============================] - 0s 341us/step - loss: 0.6897 - accuracy: 0.7462 - val_loss: 0.6856 - val_accuracy: 0.7800\n",
      "Epoch 2/100\n",
      "800/800 [==============================] - 0s 49us/step - loss: 0.6835 - accuracy: 0.7462 - val_loss: 0.6775 - val_accuracy: 0.7800\n",
      "Epoch 3/100\n",
      "800/800 [==============================] - 0s 55us/step - loss: 0.6754 - accuracy: 0.7462 - val_loss: 0.6670 - val_accuracy: 0.7800\n",
      "Epoch 4/100\n",
      "800/800 [==============================] - 0s 57us/step - loss: 0.6651 - accuracy: 0.7462 - val_loss: 0.6540 - val_accuracy: 0.7800\n",
      "Epoch 5/100\n",
      "800/800 [==============================] - 0s 50us/step - loss: 0.6523 - accuracy: 0.7462 - val_loss: 0.6384 - val_accuracy: 0.7800\n",
      "Epoch 6/100\n",
      "800/800 [==============================] - 0s 65us/step - loss: 0.6371 - accuracy: 0.7462 - val_loss: 0.6195 - val_accuracy: 0.7800\n",
      "Epoch 7/100\n",
      "800/800 [==============================] - 0s 56us/step - loss: 0.6190 - accuracy: 0.7462 - val_loss: 0.5986 - val_accuracy: 0.7800\n",
      "Epoch 8/100\n",
      "800/800 [==============================] - 0s 52us/step - loss: 0.5996 - accuracy: 0.7462 - val_loss: 0.5761 - val_accuracy: 0.7800\n",
      "Epoch 9/100\n",
      "800/800 [==============================] - 0s 55us/step - loss: 0.5787 - accuracy: 0.7462 - val_loss: 0.5532 - val_accuracy: 0.7800\n",
      "Epoch 10/100\n",
      "800/800 [==============================] - 0s 57us/step - loss: 0.5578 - accuracy: 0.7462 - val_loss: 0.5306 - val_accuracy: 0.7800\n",
      "Epoch 11/100\n",
      "800/800 [==============================] - 0s 59us/step - loss: 0.5376 - accuracy: 0.7462 - val_loss: 0.5085 - val_accuracy: 0.7800\n",
      "Epoch 12/100\n",
      "800/800 [==============================] - 0s 59us/step - loss: 0.5187 - accuracy: 0.7462 - val_loss: 0.4874 - val_accuracy: 0.7800\n",
      "Epoch 13/100\n",
      "800/800 [==============================] - 0s 61us/step - loss: 0.5001 - accuracy: 0.7462 - val_loss: 0.4684 - val_accuracy: 0.7800\n",
      "Epoch 14/100\n",
      "800/800 [==============================] - 0s 57us/step - loss: 0.4838 - accuracy: 0.7462 - val_loss: 0.4509 - val_accuracy: 0.7800\n",
      "Epoch 15/100\n",
      "800/800 [==============================] - 0s 59us/step - loss: 0.4688 - accuracy: 0.7462 - val_loss: 0.4350 - val_accuracy: 0.7800\n",
      "Epoch 16/100\n",
      "800/800 [==============================] - 0s 54us/step - loss: 0.4554 - accuracy: 0.7462 - val_loss: 0.4205 - val_accuracy: 0.7800\n",
      "Epoch 17/100\n",
      "800/800 [==============================] - 0s 57us/step - loss: 0.4433 - accuracy: 0.7462 - val_loss: 0.4075 - val_accuracy: 0.7800\n",
      "Epoch 18/100\n",
      "800/800 [==============================] - 0s 56us/step - loss: 0.4326 - accuracy: 0.7462 - val_loss: 0.3958 - val_accuracy: 0.7800\n",
      "Epoch 19/100\n",
      "800/800 [==============================] - 0s 129us/step - loss: 0.4228 - accuracy: 0.7462 - val_loss: 0.3858 - val_accuracy: 0.7800\n",
      "Epoch 20/100\n",
      "800/800 [==============================] - 0s 55us/step - loss: 0.4149 - accuracy: 0.7462 - val_loss: 0.3768 - val_accuracy: 0.7800\n",
      "Epoch 21/100\n",
      "800/800 [==============================] - 0s 52us/step - loss: 0.4072 - accuracy: 0.7462 - val_loss: 0.3689 - val_accuracy: 0.7800\n",
      "Epoch 22/100\n",
      "800/800 [==============================] - 0s 52us/step - loss: 0.4010 - accuracy: 0.7462 - val_loss: 0.3621 - val_accuracy: 0.7800\n",
      "Epoch 23/100\n",
      "800/800 [==============================] - 0s 52us/step - loss: 0.3956 - accuracy: 0.7462 - val_loss: 0.3560 - val_accuracy: 0.7800\n",
      "Epoch 24/100\n",
      "800/800 [==============================] - 0s 59us/step - loss: 0.3907 - accuracy: 0.7462 - val_loss: 0.3507 - val_accuracy: 0.7800\n",
      "Epoch 25/100\n",
      "800/800 [==============================] - 0s 55us/step - loss: 0.3864 - accuracy: 0.7462 - val_loss: 0.3461 - val_accuracy: 0.7800\n",
      "Epoch 26/100\n",
      "800/800 [==============================] - 0s 59us/step - loss: 0.3828 - accuracy: 0.7462 - val_loss: 0.3419 - val_accuracy: 0.7800\n",
      "Epoch 27/100\n",
      "800/800 [==============================] - 0s 51us/step - loss: 0.3796 - accuracy: 0.7462 - val_loss: 0.3384 - val_accuracy: 0.7800\n",
      "Epoch 28/100\n",
      "800/800 [==============================] - 0s 56us/step - loss: 0.3767 - accuracy: 0.7462 - val_loss: 0.3355 - val_accuracy: 0.7800\n",
      "Epoch 29/100\n",
      "800/800 [==============================] - 0s 62us/step - loss: 0.3743 - accuracy: 0.7462 - val_loss: 0.3326 - val_accuracy: 0.7800\n",
      "Epoch 30/100\n",
      "800/800 [==============================] - 0s 65us/step - loss: 0.3720 - accuracy: 0.7462 - val_loss: 0.3304 - val_accuracy: 0.7800\n",
      "Epoch 31/100\n",
      "800/800 [==============================] - 0s 52us/step - loss: 0.3702 - accuracy: 0.7462 - val_loss: 0.3283 - val_accuracy: 0.7800\n",
      "Epoch 32/100\n",
      "800/800 [==============================] - 0s 60us/step - loss: 0.3683 - accuracy: 0.7462 - val_loss: 0.3265 - val_accuracy: 0.7800\n",
      "Epoch 33/100\n",
      "800/800 [==============================] - 0s 61us/step - loss: 0.3669 - accuracy: 0.7462 - val_loss: 0.3247 - val_accuracy: 0.7800\n",
      "Epoch 34/100\n",
      "800/800 [==============================] - 0s 51us/step - loss: 0.3654 - accuracy: 0.7462 - val_loss: 0.3231 - val_accuracy: 0.7800\n",
      "Epoch 35/100\n",
      "800/800 [==============================] - 0s 59us/step - loss: 0.3640 - accuracy: 0.7462 - val_loss: 0.3217 - val_accuracy: 0.7800\n",
      "Epoch 36/100\n",
      "800/800 [==============================] - 0s 59us/step - loss: 0.3628 - accuracy: 0.7462 - val_loss: 0.3204 - val_accuracy: 0.7800\n",
      "Epoch 37/100\n",
      "800/800 [==============================] - 0s 50us/step - loss: 0.3618 - accuracy: 0.7462 - val_loss: 0.3192 - val_accuracy: 0.7800\n",
      "Epoch 38/100\n",
      "800/800 [==============================] - 0s 47us/step - loss: 0.3608 - accuracy: 0.7462 - val_loss: 0.3182 - val_accuracy: 0.7800\n",
      "Epoch 39/100\n",
      "800/800 [==============================] - 0s 51us/step - loss: 0.3597 - accuracy: 0.7462 - val_loss: 0.3174 - val_accuracy: 0.7800\n",
      "Epoch 40/100\n",
      "800/800 [==============================] - 0s 44us/step - loss: 0.3588 - accuracy: 0.7462 - val_loss: 0.3165 - val_accuracy: 0.7800\n",
      "Epoch 41/100\n",
      "800/800 [==============================] - 0s 47us/step - loss: 0.3580 - accuracy: 0.7462 - val_loss: 0.3155 - val_accuracy: 0.7800\n",
      "Epoch 42/100\n",
      "800/800 [==============================] - 0s 51us/step - loss: 0.3572 - accuracy: 0.7462 - val_loss: 0.3149 - val_accuracy: 0.7800\n",
      "Epoch 43/100\n",
      "800/800 [==============================] - 0s 67us/step - loss: 0.3564 - accuracy: 0.7462 - val_loss: 0.3141 - val_accuracy: 0.7800\n",
      "Epoch 44/100\n",
      "800/800 [==============================] - 0s 55us/step - loss: 0.3557 - accuracy: 0.7462 - val_loss: 0.3135 - val_accuracy: 0.7800\n",
      "Epoch 45/100\n",
      "800/800 [==============================] - 0s 61us/step - loss: 0.3550 - accuracy: 0.7462 - val_loss: 0.3128 - val_accuracy: 0.7800\n",
      "Epoch 46/100\n",
      "800/800 [==============================] - 0s 56us/step - loss: 0.3543 - accuracy: 0.7462 - val_loss: 0.3123 - val_accuracy: 0.7800\n",
      "Epoch 47/100\n",
      "800/800 [==============================] - 0s 33us/step - loss: 0.3536 - accuracy: 0.7462 - val_loss: 0.3117 - val_accuracy: 0.7800\n",
      "Epoch 48/100\n",
      "800/800 [==============================] - 0s 32us/step - loss: 0.3530 - accuracy: 0.7462 - val_loss: 0.3109 - val_accuracy: 0.7800\n",
      "Epoch 49/100\n",
      "800/800 [==============================] - 0s 48us/step - loss: 0.3523 - accuracy: 0.7462 - val_loss: 0.3104 - val_accuracy: 0.7800\n",
      "Epoch 50/100\n",
      "800/800 [==============================] - 0s 51us/step - loss: 0.3517 - accuracy: 0.7462 - val_loss: 0.3100 - val_accuracy: 0.7800\n",
      "Epoch 51/100\n",
      "800/800 [==============================] - 0s 62us/step - loss: 0.3512 - accuracy: 0.7462 - val_loss: 0.3096 - val_accuracy: 0.7800\n",
      "Epoch 52/100\n",
      "800/800 [==============================] - 0s 61us/step - loss: 0.3505 - accuracy: 0.7462 - val_loss: 0.3091 - val_accuracy: 0.7800\n",
      "Epoch 53/100\n",
      "800/800 [==============================] - 0s 57us/step - loss: 0.3500 - accuracy: 0.7462 - val_loss: 0.3084 - val_accuracy: 0.7800\n",
      "Epoch 54/100\n",
      "800/800 [==============================] - 0s 30us/step - loss: 0.3495 - accuracy: 0.8300 - val_loss: 0.3080 - val_accuracy: 0.8700\n",
      "Epoch 55/100\n",
      "800/800 [==============================] - 0s 39us/step - loss: 0.3489 - accuracy: 0.8650 - val_loss: 0.3075 - val_accuracy: 0.8700\n",
      "Epoch 56/100\n",
      "800/800 [==============================] - 0s 39us/step - loss: 0.3483 - accuracy: 0.8700 - val_loss: 0.3070 - val_accuracy: 0.8650\n",
      "Epoch 57/100\n"
     ]
    },
    {
     "name": "stdout",
     "output_type": "stream",
     "text": [
      "800/800 [==============================] - 0s 47us/step - loss: 0.3478 - accuracy: 0.8750 - val_loss: 0.3066 - val_accuracy: 0.8700\n",
      "Epoch 58/100\n",
      "800/800 [==============================] - 0s 39us/step - loss: 0.3473 - accuracy: 0.8750 - val_loss: 0.3063 - val_accuracy: 0.8700\n",
      "Epoch 59/100\n",
      "800/800 [==============================] - 0s 59us/step - loss: 0.3468 - accuracy: 0.8725 - val_loss: 0.3059 - val_accuracy: 0.8700\n",
      "Epoch 60/100\n",
      "800/800 [==============================] - 0s 28us/step - loss: 0.3462 - accuracy: 0.8712 - val_loss: 0.3054 - val_accuracy: 0.8700\n",
      "Epoch 61/100\n",
      "800/800 [==============================] - 0s 20us/step - loss: 0.3458 - accuracy: 0.8750 - val_loss: 0.3052 - val_accuracy: 0.8750\n",
      "Epoch 62/100\n",
      "800/800 [==============================] - 0s 20us/step - loss: 0.3453 - accuracy: 0.8763 - val_loss: 0.3048 - val_accuracy: 0.8750\n",
      "Epoch 63/100\n",
      "800/800 [==============================] - 0s 47us/step - loss: 0.3448 - accuracy: 0.8750 - val_loss: 0.3045 - val_accuracy: 0.8700\n",
      "Epoch 64/100\n",
      "800/800 [==============================] - 0s 39us/step - loss: 0.3444 - accuracy: 0.8750 - val_loss: 0.3042 - val_accuracy: 0.8700\n",
      "Epoch 65/100\n",
      "800/800 [==============================] - 0s 39us/step - loss: 0.3438 - accuracy: 0.8763 - val_loss: 0.3038 - val_accuracy: 0.8700\n",
      "Epoch 66/100\n",
      "800/800 [==============================] - 0s 47us/step - loss: 0.3434 - accuracy: 0.8750 - val_loss: 0.3034 - val_accuracy: 0.8650\n",
      "Epoch 67/100\n",
      "800/800 [==============================] - 0s 39us/step - loss: 0.3429 - accuracy: 0.8737 - val_loss: 0.3030 - val_accuracy: 0.8700\n",
      "Epoch 68/100\n",
      "800/800 [==============================] - 0s 39us/step - loss: 0.3425 - accuracy: 0.8712 - val_loss: 0.3026 - val_accuracy: 0.8650\n",
      "Epoch 69/100\n",
      "800/800 [==============================] - 0s 28us/step - loss: 0.3421 - accuracy: 0.8737 - val_loss: 0.3025 - val_accuracy: 0.8650\n",
      "Epoch 70/100\n",
      "800/800 [==============================] - 0s 49us/step - loss: 0.3416 - accuracy: 0.8763 - val_loss: 0.3021 - val_accuracy: 0.8700\n",
      "Epoch 71/100\n",
      "800/800 [==============================] - 0s 60us/step - loss: 0.3414 - accuracy: 0.8763 - val_loss: 0.3019 - val_accuracy: 0.8650\n",
      "Epoch 72/100\n",
      "800/800 [==============================] - 0s 65us/step - loss: 0.3408 - accuracy: 0.8775 - val_loss: 0.3017 - val_accuracy: 0.8700\n",
      "Epoch 73/100\n",
      "800/800 [==============================] - 0s 55us/step - loss: 0.3404 - accuracy: 0.8763 - val_loss: 0.3012 - val_accuracy: 0.8700\n",
      "Epoch 74/100\n",
      "800/800 [==============================] - 0s 56us/step - loss: 0.3399 - accuracy: 0.8750 - val_loss: 0.3009 - val_accuracy: 0.8700\n",
      "Epoch 75/100\n",
      "800/800 [==============================] - 0s 51us/step - loss: 0.3395 - accuracy: 0.8750 - val_loss: 0.3006 - val_accuracy: 0.8700\n",
      "Epoch 76/100\n",
      "800/800 [==============================] - 0s 56us/step - loss: 0.3391 - accuracy: 0.8737 - val_loss: 0.3003 - val_accuracy: 0.8700\n",
      "Epoch 77/100\n",
      "800/800 [==============================] - 0s 61us/step - loss: 0.3388 - accuracy: 0.8712 - val_loss: 0.2998 - val_accuracy: 0.8700\n",
      "Epoch 78/100\n",
      "800/800 [==============================] - 0s 72us/step - loss: 0.3383 - accuracy: 0.8712 - val_loss: 0.2997 - val_accuracy: 0.8700\n",
      "Epoch 79/100\n",
      "800/800 [==============================] - 0s 109us/step - loss: 0.3380 - accuracy: 0.8712 - val_loss: 0.2994 - val_accuracy: 0.8750\n",
      "Epoch 80/100\n",
      "800/800 [==============================] - 0s 69us/step - loss: 0.3375 - accuracy: 0.8725 - val_loss: 0.2991 - val_accuracy: 0.8750\n",
      "Epoch 81/100\n",
      "800/800 [==============================] - 0s 56us/step - loss: 0.3372 - accuracy: 0.8725 - val_loss: 0.2988 - val_accuracy: 0.8700\n",
      "Epoch 82/100\n",
      "800/800 [==============================] - 0s 50us/step - loss: 0.3367 - accuracy: 0.8712 - val_loss: 0.2985 - val_accuracy: 0.8750\n",
      "Epoch 83/100\n",
      "800/800 [==============================] - 0s 49us/step - loss: 0.3364 - accuracy: 0.8725 - val_loss: 0.2982 - val_accuracy: 0.8750\n",
      "Epoch 84/100\n",
      "800/800 [==============================] - 0s 50us/step - loss: 0.3361 - accuracy: 0.8725 - val_loss: 0.2979 - val_accuracy: 0.8750\n",
      "Epoch 85/100\n",
      "800/800 [==============================] - 0s 50us/step - loss: 0.3356 - accuracy: 0.8725 - val_loss: 0.2976 - val_accuracy: 0.8750\n",
      "Epoch 86/100\n",
      "800/800 [==============================] - 0s 54us/step - loss: 0.3353 - accuracy: 0.8737 - val_loss: 0.2973 - val_accuracy: 0.8800\n",
      "Epoch 87/100\n",
      "800/800 [==============================] - 0s 50us/step - loss: 0.3350 - accuracy: 0.8737 - val_loss: 0.2971 - val_accuracy: 0.8800\n",
      "Epoch 88/100\n",
      "800/800 [==============================] - 0s 50us/step - loss: 0.3346 - accuracy: 0.8737 - val_loss: 0.2967 - val_accuracy: 0.8800\n",
      "Epoch 89/100\n",
      "800/800 [==============================] - 0s 56us/step - loss: 0.3343 - accuracy: 0.8737 - val_loss: 0.2964 - val_accuracy: 0.8800\n",
      "Epoch 90/100\n",
      "800/800 [==============================] - 0s 59us/step - loss: 0.3339 - accuracy: 0.8737 - val_loss: 0.2961 - val_accuracy: 0.8800\n",
      "Epoch 91/100\n",
      "800/800 [==============================] - 0s 56us/step - loss: 0.3336 - accuracy: 0.8725 - val_loss: 0.2959 - val_accuracy: 0.8800\n",
      "Epoch 92/100\n",
      "800/800 [==============================] - 0s 61us/step - loss: 0.3333 - accuracy: 0.8725 - val_loss: 0.2956 - val_accuracy: 0.8800\n",
      "Epoch 93/100\n",
      "800/800 [==============================] - 0s 52us/step - loss: 0.3332 - accuracy: 0.8700 - val_loss: 0.2955 - val_accuracy: 0.8800\n",
      "Epoch 94/100\n",
      "800/800 [==============================] - 0s 47us/step - loss: 0.3327 - accuracy: 0.8712 - val_loss: 0.2953 - val_accuracy: 0.8800\n",
      "Epoch 95/100\n",
      "800/800 [==============================] - 0s 49us/step - loss: 0.3322 - accuracy: 0.8712 - val_loss: 0.2950 - val_accuracy: 0.8850\n",
      "Epoch 96/100\n",
      "800/800 [==============================] - 0s 50us/step - loss: 0.3320 - accuracy: 0.8700 - val_loss: 0.2947 - val_accuracy: 0.8850\n",
      "Epoch 97/100\n",
      "800/800 [==============================] - 0s 60us/step - loss: 0.3316 - accuracy: 0.8700 - val_loss: 0.2946 - val_accuracy: 0.8850\n",
      "Epoch 98/100\n",
      "800/800 [==============================] - 0s 54us/step - loss: 0.3313 - accuracy: 0.8700 - val_loss: 0.2943 - val_accuracy: 0.8850\n",
      "Epoch 99/100\n",
      "800/800 [==============================] - 0s 55us/step - loss: 0.3310 - accuracy: 0.8700 - val_loss: 0.2941 - val_accuracy: 0.8850\n",
      "Epoch 100/100\n",
      "800/800 [==============================] - 0s 50us/step - loss: 0.3306 - accuracy: 0.8700 - val_loss: 0.2939 - val_accuracy: 0.8850\n"
     ]
    }
   ],
   "source": [
    "# Fitting the ANN to the Training set\n",
    "history = cnn.fit(bas_X_train, y_train, batch_size = 64, nb_epoch = 100, validation_data=(bas_X_test, y_test))"
   ]
  },
  {
   "cell_type": "markdown",
   "metadata": {},
   "source": [
    "Построим График, который демонстрирует уменьшение потерь по выборкам."
   ]
  },
  {
   "cell_type": "code",
   "execution_count": 1544,
   "metadata": {},
   "outputs": [
    {
     "data": {
      "image/png": "[encoded data removed]",
      "text/plain": [
       "<Figure size 432x288 with 1 Axes>"
      ]
     },
     "metadata": {
      "needs_background": "light"
     },
     "output_type": "display_data"
    }
   ],
   "source": [
    "# Plotting loss & accuracy\n",
    "plt.figure()\n",
    "plt.plot(history.history['loss'])\n",
    "plt.plot(history.history['val_loss'])\n",
    "plt.title('model loss')\n",
    "plt.ylabel('loss')\n",
    "plt.xlabel('epoch')\n",
    "plt.legend(['train', 'test'], loc='best')\n",
    "plt.show()"
   ]
  },
  {
   "cell_type": "markdown",
   "metadata": {},
   "source": [
    "Произведем прогноз на тестовой выборке, задав порог = 0,35 (подобран в ходе экспериментов)"
   ]
  },
  {
   "cell_type": "code",
   "execution_count": 1566,
   "metadata": {},
   "outputs": [],
   "source": [
    "# Predicting the Test set results\n",
    "y_pred = cnn.predict(bas_X_test)\n",
    "y_pred = (y_pred > 0.61)"
   ]
  },
  {
   "cell_type": "code",
   "execution_count": 1567,
   "metadata": {},
   "outputs": [
    {
     "name": "stdout",
     "output_type": "stream",
     "text": [
      "[[ 38   6]\n",
      " [ 13 143]]\n"
     ]
    }
   ],
   "source": [
    "# Making the Confusion Matrix\n",
    "from sklearn.metrics import confusion_matrix\n",
    "cm = confusion_matrix(y_test, y_pred)\n",
    "print(cm)"
   ]
  },
  {
   "cell_type": "code",
   "execution_count": 1568,
   "metadata": {},
   "outputs": [
    {
     "data": {
      "text/plain": [
       "0.905"
      ]
     },
     "execution_count": 1568,
     "metadata": {},
     "output_type": "execute_result"
    }
   ],
   "source": [
    "Accurary_rate = (143+38)/(200)\n",
    "Accurary_rate"
   ]
  },
  {
   "cell_type": "code",
   "execution_count": 1569,
   "metadata": {},
   "outputs": [
    {
     "data": {
      "text/plain": [
       "0.095"
      ]
     },
     "execution_count": 1569,
     "metadata": {},
     "output_type": "execute_result"
    }
   ],
   "source": [
    "Error_rate = (6+13)/(200)\n",
    "Error_rate"
   ]
  },
  {
   "cell_type": "code",
   "execution_count": 1570,
   "metadata": {},
   "outputs": [
    {
     "data": {
      "text/plain": [
       "0.9166666666666666"
      ]
     },
     "execution_count": 1570,
     "metadata": {},
     "output_type": "execute_result"
    }
   ],
   "source": [
    "Se = 143/(143+13)\n",
    "Se"
   ]
  },
  {
   "cell_type": "code",
   "execution_count": 1571,
   "metadata": {},
   "outputs": [
    {
     "data": {
      "text/plain": [
       "0.8636363636363636"
      ]
     },
     "execution_count": 1571,
     "metadata": {},
     "output_type": "execute_result"
    }
   ],
   "source": [
    "Sp = 38/(38+6)\n",
    "Sp"
   ]
  },
  {
   "cell_type": "markdown",
   "metadata": {},
   "source": [
    "# КЛАСТЕРИЗАЦИЯ"
   ]
  },
  {
   "cell_type": "markdown",
   "metadata": {},
   "source": [
    "# K-Means Clustering"
   ]
  },
  {
   "cell_type": "code",
   "execution_count": 1689,
   "metadata": {},
   "outputs": [
    {
     "data": {
      "text/plain": [
       "Index(['months_as_customer', 'age', 'policy_state', 'policy_csl',\n",
       "       'policy_deductable', 'policy_annual_premium', 'umbrella_limit',\n",
       "       'insured_sex', 'insured_education_level', 'insured_occupation',\n",
       "       'insured_hobbies', 'insured_relationship', 'capital-gains',\n",
       "       'capital-loss', 'incident_type', 'collision_type', 'incident_severity',\n",
       "       'authorities_contacted', 'incident_state', 'incident_city',\n",
       "       'incident_hour_of_the_day', 'number_of_vehicles_involved',\n",
       "       'property_damage', 'bodily_injuries', 'witnesses',\n",
       "       'police_report_available', 'total_claim_amount', 'injury_claim',\n",
       "       'property_claim', 'vehicle_claim', 'auto_make', 'auto_model',\n",
       "       'auto_year', 'fraud_reported'],\n",
       "      dtype='object')"
      ]
     },
     "execution_count": 1689,
     "metadata": {},
     "output_type": "execute_result"
    }
   ],
   "source": [
    "df.columns"
   ]
  },
  {
   "cell_type": "code",
   "execution_count": 1690,
   "metadata": {},
   "outputs": [
    {
     "data": {
      "text/html": [
       "<div>\n",
       "<style scoped>\n",
       "    .dataframe tbody tr th:only-of-type {\n",
       "        vertical-align: middle;\n",
       "    }\n",
       "\n",
       "    .dataframe tbody tr th {\n",
       "        vertical-align: top;\n",
       "    }\n",
       "\n",
       "    .dataframe thead th {\n",
       "        text-align: right;\n",
       "    }\n",
       "</style>\n",
       "<table border=\"1\" class=\"dataframe\">\n",
       "  <thead>\n",
       "    <tr style=\"text-align: right;\">\n",
       "      <th></th>\n",
       "      <th>months_as_customer</th>\n",
       "      <th>age</th>\n",
       "      <th>policy_state</th>\n",
       "      <th>policy_csl</th>\n",
       "      <th>policy_deductable</th>\n",
       "      <th>policy_annual_premium</th>\n",
       "      <th>umbrella_limit</th>\n",
       "      <th>insured_sex</th>\n",
       "      <th>insured_education_level</th>\n",
       "      <th>insured_occupation</th>\n",
       "      <th>...</th>\n",
       "      <th>witnesses</th>\n",
       "      <th>police_report_available</th>\n",
       "      <th>total_claim_amount</th>\n",
       "      <th>injury_claim</th>\n",
       "      <th>property_claim</th>\n",
       "      <th>vehicle_claim</th>\n",
       "      <th>auto_make</th>\n",
       "      <th>auto_model</th>\n",
       "      <th>auto_year</th>\n",
       "      <th>fraud_reported</th>\n",
       "    </tr>\n",
       "  </thead>\n",
       "  <tbody>\n",
       "    <tr>\n",
       "      <th>0</th>\n",
       "      <td>1.0</td>\n",
       "      <td>1.0</td>\n",
       "      <td>0.0</td>\n",
       "      <td>0.0</td>\n",
       "      <td>0.0</td>\n",
       "      <td>1.0</td>\n",
       "      <td>0.0</td>\n",
       "      <td>0.0</td>\n",
       "      <td>0.0</td>\n",
       "      <td>0.0</td>\n",
       "      <td>...</td>\n",
       "      <td>1.0</td>\n",
       "      <td>1.0</td>\n",
       "      <td>1.0</td>\n",
       "      <td>0.0</td>\n",
       "      <td>1.0</td>\n",
       "      <td>1.0</td>\n",
       "      <td>1.0</td>\n",
       "      <td>0.0</td>\n",
       "      <td>1.0</td>\n",
       "      <td>0.0</td>\n",
       "    </tr>\n",
       "    <tr>\n",
       "      <th>1</th>\n",
       "      <td>0.0</td>\n",
       "      <td>1.0</td>\n",
       "      <td>0.0</td>\n",
       "      <td>0.0</td>\n",
       "      <td>1.0</td>\n",
       "      <td>0.0</td>\n",
       "      <td>1.0</td>\n",
       "      <td>0.0</td>\n",
       "      <td>0.0</td>\n",
       "      <td>1.0</td>\n",
       "      <td>...</td>\n",
       "      <td>0.0</td>\n",
       "      <td>0.0</td>\n",
       "      <td>0.0</td>\n",
       "      <td>0.0</td>\n",
       "      <td>0.0</td>\n",
       "      <td>0.0</td>\n",
       "      <td>0.0</td>\n",
       "      <td>0.0</td>\n",
       "      <td>0.0</td>\n",
       "      <td>0.0</td>\n",
       "    </tr>\n",
       "    <tr>\n",
       "      <th>2</th>\n",
       "      <td>0.0</td>\n",
       "      <td>0.0</td>\n",
       "      <td>0.0</td>\n",
       "      <td>0.0</td>\n",
       "      <td>1.0</td>\n",
       "      <td>1.0</td>\n",
       "      <td>1.0</td>\n",
       "      <td>1.0</td>\n",
       "      <td>0.0</td>\n",
       "      <td>0.0</td>\n",
       "      <td>...</td>\n",
       "      <td>1.0</td>\n",
       "      <td>0.0</td>\n",
       "      <td>0.0</td>\n",
       "      <td>0.0</td>\n",
       "      <td>0.0</td>\n",
       "      <td>0.0</td>\n",
       "      <td>0.0</td>\n",
       "      <td>0.0</td>\n",
       "      <td>0.0</td>\n",
       "      <td>1.0</td>\n",
       "    </tr>\n",
       "    <tr>\n",
       "      <th>3</th>\n",
       "      <td>1.0</td>\n",
       "      <td>0.0</td>\n",
       "      <td>1.0</td>\n",
       "      <td>0.0</td>\n",
       "      <td>1.0</td>\n",
       "      <td>1.0</td>\n",
       "      <td>1.0</td>\n",
       "      <td>1.0</td>\n",
       "      <td>0.0</td>\n",
       "      <td>1.0</td>\n",
       "      <td>...</td>\n",
       "      <td>1.0</td>\n",
       "      <td>0.0</td>\n",
       "      <td>1.0</td>\n",
       "      <td>0.0</td>\n",
       "      <td>0.0</td>\n",
       "      <td>1.0</td>\n",
       "      <td>0.0</td>\n",
       "      <td>0.0</td>\n",
       "      <td>0.0</td>\n",
       "      <td>0.0</td>\n",
       "    </tr>\n",
       "    <tr>\n",
       "      <th>4</th>\n",
       "      <td>0.0</td>\n",
       "      <td>1.0</td>\n",
       "      <td>1.0</td>\n",
       "      <td>1.0</td>\n",
       "      <td>0.0</td>\n",
       "      <td>1.0</td>\n",
       "      <td>1.0</td>\n",
       "      <td>0.0</td>\n",
       "      <td>1.0</td>\n",
       "      <td>0.0</td>\n",
       "      <td>...</td>\n",
       "      <td>0.0</td>\n",
       "      <td>0.0</td>\n",
       "      <td>0.0</td>\n",
       "      <td>0.0</td>\n",
       "      <td>0.0</td>\n",
       "      <td>0.0</td>\n",
       "      <td>1.0</td>\n",
       "      <td>1.0</td>\n",
       "      <td>0.0</td>\n",
       "      <td>1.0</td>\n",
       "    </tr>\n",
       "    <tr>\n",
       "      <th>...</th>\n",
       "      <td>...</td>\n",
       "      <td>...</td>\n",
       "      <td>...</td>\n",
       "      <td>...</td>\n",
       "      <td>...</td>\n",
       "      <td>...</td>\n",
       "      <td>...</td>\n",
       "      <td>...</td>\n",
       "      <td>...</td>\n",
       "      <td>...</td>\n",
       "      <td>...</td>\n",
       "      <td>...</td>\n",
       "      <td>...</td>\n",
       "      <td>...</td>\n",
       "      <td>...</td>\n",
       "      <td>...</td>\n",
       "      <td>...</td>\n",
       "      <td>...</td>\n",
       "      <td>...</td>\n",
       "      <td>...</td>\n",
       "      <td>...</td>\n",
       "    </tr>\n",
       "    <tr>\n",
       "      <th>995</th>\n",
       "      <td>0.0</td>\n",
       "      <td>0.0</td>\n",
       "      <td>0.0</td>\n",
       "      <td>1.0</td>\n",
       "      <td>0.0</td>\n",
       "      <td>1.0</td>\n",
       "      <td>0.0</td>\n",
       "      <td>1.0</td>\n",
       "      <td>1.0</td>\n",
       "      <td>0.0</td>\n",
       "      <td>...</td>\n",
       "      <td>0.0</td>\n",
       "      <td>0.0</td>\n",
       "      <td>1.0</td>\n",
       "      <td>1.0</td>\n",
       "      <td>0.0</td>\n",
       "      <td>1.0</td>\n",
       "      <td>0.0</td>\n",
       "      <td>1.0</td>\n",
       "      <td>0.0</td>\n",
       "      <td>1.0</td>\n",
       "    </tr>\n",
       "    <tr>\n",
       "      <th>996</th>\n",
       "      <td>1.0</td>\n",
       "      <td>0.0</td>\n",
       "      <td>1.0</td>\n",
       "      <td>0.0</td>\n",
       "      <td>0.0</td>\n",
       "      <td>1.0</td>\n",
       "      <td>0.0</td>\n",
       "      <td>1.0</td>\n",
       "      <td>0.0</td>\n",
       "      <td>1.0</td>\n",
       "      <td>...</td>\n",
       "      <td>1.0</td>\n",
       "      <td>0.0</td>\n",
       "      <td>1.0</td>\n",
       "      <td>1.0</td>\n",
       "      <td>1.0</td>\n",
       "      <td>1.0</td>\n",
       "      <td>0.0</td>\n",
       "      <td>0.0</td>\n",
       "      <td>0.0</td>\n",
       "      <td>1.0</td>\n",
       "    </tr>\n",
       "    <tr>\n",
       "      <th>997</th>\n",
       "      <td>0.0</td>\n",
       "      <td>0.0</td>\n",
       "      <td>0.0</td>\n",
       "      <td>0.0</td>\n",
       "      <td>0.0</td>\n",
       "      <td>1.0</td>\n",
       "      <td>0.0</td>\n",
       "      <td>1.0</td>\n",
       "      <td>1.0</td>\n",
       "      <td>1.0</td>\n",
       "      <td>...</td>\n",
       "      <td>1.0</td>\n",
       "      <td>1.0</td>\n",
       "      <td>1.0</td>\n",
       "      <td>0.0</td>\n",
       "      <td>0.0</td>\n",
       "      <td>1.0</td>\n",
       "      <td>1.0</td>\n",
       "      <td>0.0</td>\n",
       "      <td>1.0</td>\n",
       "      <td>1.0</td>\n",
       "    </tr>\n",
       "    <tr>\n",
       "      <th>998</th>\n",
       "      <td>1.0</td>\n",
       "      <td>1.0</td>\n",
       "      <td>1.0</td>\n",
       "      <td>1.0</td>\n",
       "      <td>1.0</td>\n",
       "      <td>1.0</td>\n",
       "      <td>1.0</td>\n",
       "      <td>0.0</td>\n",
       "      <td>1.0</td>\n",
       "      <td>1.0</td>\n",
       "      <td>...</td>\n",
       "      <td>0.0</td>\n",
       "      <td>1.0</td>\n",
       "      <td>0.0</td>\n",
       "      <td>0.0</td>\n",
       "      <td>0.0</td>\n",
       "      <td>0.0</td>\n",
       "      <td>0.0</td>\n",
       "      <td>0.0</td>\n",
       "      <td>1.0</td>\n",
       "      <td>1.0</td>\n",
       "    </tr>\n",
       "    <tr>\n",
       "      <th>999</th>\n",
       "      <td>1.0</td>\n",
       "      <td>1.0</td>\n",
       "      <td>0.0</td>\n",
       "      <td>0.0</td>\n",
       "      <td>0.0</td>\n",
       "      <td>0.0</td>\n",
       "      <td>0.0</td>\n",
       "      <td>1.0</td>\n",
       "      <td>1.0</td>\n",
       "      <td>0.0</td>\n",
       "      <td>...</td>\n",
       "      <td>1.0</td>\n",
       "      <td>0.0</td>\n",
       "      <td>0.0</td>\n",
       "      <td>0.0</td>\n",
       "      <td>0.0</td>\n",
       "      <td>0.0</td>\n",
       "      <td>0.0</td>\n",
       "      <td>0.0</td>\n",
       "      <td>0.0</td>\n",
       "      <td>1.0</td>\n",
       "    </tr>\n",
       "  </tbody>\n",
       "</table>\n",
       "<p>1000 rows × 34 columns</p>\n",
       "</div>"
      ],
      "text/plain": [
       "     months_as_customer  age  policy_state  policy_csl  policy_deductable  \\\n",
       "0                   1.0  1.0           0.0         0.0                0.0   \n",
       "1                   0.0  1.0           0.0         0.0                1.0   \n",
       "2                   0.0  0.0           0.0         0.0                1.0   \n",
       "3                   1.0  0.0           1.0         0.0                1.0   \n",
       "4                   0.0  1.0           1.0         1.0                0.0   \n",
       "..                  ...  ...           ...         ...                ...   \n",
       "995                 0.0  0.0           0.0         1.0                0.0   \n",
       "996                 1.0  0.0           1.0         0.0                0.0   \n",
       "997                 0.0  0.0           0.0         0.0                0.0   \n",
       "998                 1.0  1.0           1.0         1.0                1.0   \n",
       "999                 1.0  1.0           0.0         0.0                0.0   \n",
       "\n",
       "     policy_annual_premium  umbrella_limit  insured_sex  \\\n",
       "0                      1.0             0.0          0.0   \n",
       "1                      0.0             1.0          0.0   \n",
       "2                      1.0             1.0          1.0   \n",
       "3                      1.0             1.0          1.0   \n",
       "4                      1.0             1.0          0.0   \n",
       "..                     ...             ...          ...   \n",
       "995                    1.0             0.0          1.0   \n",
       "996                    1.0             0.0          1.0   \n",
       "997                    1.0             0.0          1.0   \n",
       "998                    1.0             1.0          0.0   \n",
       "999                    0.0             0.0          1.0   \n",
       "\n",
       "     insured_education_level  insured_occupation  ...  witnesses  \\\n",
       "0                        0.0                 0.0  ...        1.0   \n",
       "1                        0.0                 1.0  ...        0.0   \n",
       "2                        0.0                 0.0  ...        1.0   \n",
       "3                        0.0                 1.0  ...        1.0   \n",
       "4                        1.0                 0.0  ...        0.0   \n",
       "..                       ...                 ...  ...        ...   \n",
       "995                      1.0                 0.0  ...        0.0   \n",
       "996                      0.0                 1.0  ...        1.0   \n",
       "997                      1.0                 1.0  ...        1.0   \n",
       "998                      1.0                 1.0  ...        0.0   \n",
       "999                      1.0                 0.0  ...        1.0   \n",
       "\n",
       "     police_report_available  total_claim_amount  injury_claim  \\\n",
       "0                        1.0                 1.0           0.0   \n",
       "1                        0.0                 0.0           0.0   \n",
       "2                        0.0                 0.0           0.0   \n",
       "3                        0.0                 1.0           0.0   \n",
       "4                        0.0                 0.0           0.0   \n",
       "..                       ...                 ...           ...   \n",
       "995                      0.0                 1.0           1.0   \n",
       "996                      0.0                 1.0           1.0   \n",
       "997                      1.0                 1.0           0.0   \n",
       "998                      1.0                 0.0           0.0   \n",
       "999                      0.0                 0.0           0.0   \n",
       "\n",
       "     property_claim  vehicle_claim  auto_make  auto_model  auto_year  \\\n",
       "0               1.0            1.0        1.0         0.0        1.0   \n",
       "1               0.0            0.0        0.0         0.0        0.0   \n",
       "2               0.0            0.0        0.0         0.0        0.0   \n",
       "3               0.0            1.0        0.0         0.0        0.0   \n",
       "4               0.0            0.0        1.0         1.0        0.0   \n",
       "..              ...            ...        ...         ...        ...   \n",
       "995             0.0            1.0        0.0         1.0        0.0   \n",
       "996             1.0            1.0        0.0         0.0        0.0   \n",
       "997             0.0            1.0        1.0         0.0        1.0   \n",
       "998             0.0            0.0        0.0         0.0        1.0   \n",
       "999             0.0            0.0        0.0         0.0        0.0   \n",
       "\n",
       "     fraud_reported  \n",
       "0               0.0  \n",
       "1               0.0  \n",
       "2               1.0  \n",
       "3               0.0  \n",
       "4               1.0  \n",
       "..              ...  \n",
       "995             1.0  \n",
       "996             1.0  \n",
       "997             1.0  \n",
       "998             1.0  \n",
       "999             1.0  \n",
       "\n",
       "[1000 rows x 34 columns]"
      ]
     },
     "execution_count": 1690,
     "metadata": {},
     "output_type": "execute_result"
    }
   ],
   "source": [
    "# Feature Scaling\n",
    "from sklearn.preprocessing import MinMaxScaler\n",
    "sc = MinMaxScaler().fit(df)\n",
    "df = sc.transform(df)\n",
    "pd.DataFrame(df, columns = ['months_as_customer', 'age', 'policy_state', 'policy_csl',\n",
    "       'policy_deductable', 'policy_annual_premium', 'umbrella_limit',\n",
    "       'insured_sex', 'insured_education_level', 'insured_occupation',\n",
    "       'insured_hobbies', 'insured_relationship', 'capital-gains',\n",
    "       'capital-loss', 'incident_type', 'collision_type', 'incident_severity',\n",
    "       'authorities_contacted', 'incident_state', 'incident_city',\n",
    "       'incident_hour_of_the_day', 'number_of_vehicles_involved',\n",
    "       'property_damage', 'bodily_injuries', 'witnesses',\n",
    "       'police_report_available', 'total_claim_amount', 'injury_claim',\n",
    "       'property_claim', 'vehicle_claim', 'auto_make', 'auto_model',\n",
    "       'auto_year', 'fraud_reported']).round()"
   ]
  },
  {
   "cell_type": "code",
   "execution_count": 1691,
   "metadata": {},
   "outputs": [
    {
     "data": {
      "image/png": "[encoded data removed]",
      "text/plain": [
       "<Figure size 432x288 with 1 Axes>"
      ]
     },
     "metadata": {
      "needs_background": "light"
     },
     "output_type": "display_data"
    }
   ],
   "source": [
    "# Using the elbow method to find the optimal number of clusters\n",
    "from sklearn.cluster import KMeans\n",
    "wcss = []\n",
    "for i in range(1, 11):\n",
    "    kmeans = KMeans(n_clusters = i, init = 'k-means++', random_state = 0)\n",
    "    kmeans.fit(df)\n",
    "    wcss.append(kmeans.inertia_)\n",
    "plt.plot(range(1, 11), wcss)\n",
    "plt.title('The Elbow Method')\n",
    "plt.xlabel('Number of clusters')\n",
    "plt.ylabel('WCSS')\n",
    "plt.show()"
   ]
  },
  {
   "cell_type": "code",
   "execution_count": 1692,
   "metadata": {},
   "outputs": [
    {
     "data": {
      "image/png": "[encoded data removed]",
      "text/plain": [
       "<Figure size 432x288 with 1 Axes>"
      ]
     },
     "metadata": {
      "needs_background": "light"
     },
     "output_type": "display_data"
    },
    {
     "name": "stdout",
     "output_type": "stream",
     "text": [
      "2:0.1558960399096853\n",
      "3:0.1127699878473283\n",
      "4:0.08878331596498931\n",
      "5:0.07873745354773284\n",
      "6:0.08428776767860532\n",
      "7:0.07186037029104264\n"
     ]
    }
   ],
   "source": [
    "# Using the silhouette method to find the optimal number of clusters\n",
    "from sklearn.metrics import silhouette_score\n",
    "\n",
    "sil = []\n",
    "\n",
    "for k in range(2, 8):\n",
    "  kmeans = KMeans(n_clusters = k).fit(df)  \n",
    "  preds = kmeans.fit_predict(df)\n",
    "  sil.append(silhouette_score(df, preds, metric = 'euclidean'))\n",
    "\n",
    "\n",
    "plt.plot(range(2, 8), sil)\n",
    "plt.title('Silhouette Method')\n",
    "plt.xlabel('Number of clusters')\n",
    "plt.ylabel('Sil')\n",
    "plt.show()\n",
    "\n",
    "for i in range(len(sil)):\n",
    " print(str(i+2) +\":\"+ str(sil[i]))"
   ]
  },
  {
   "cell_type": "code",
   "execution_count": 1693,
   "metadata": {},
   "outputs": [
    {
     "data": {
      "text/html": [
       "<div>\n",
       "<style scoped>\n",
       "    .dataframe tbody tr th:only-of-type {\n",
       "        vertical-align: middle;\n",
       "    }\n",
       "\n",
       "    .dataframe tbody tr th {\n",
       "        vertical-align: top;\n",
       "    }\n",
       "\n",
       "    .dataframe thead th {\n",
       "        text-align: right;\n",
       "    }\n",
       "</style>\n",
       "<table border=\"1\" class=\"dataframe\">\n",
       "  <thead>\n",
       "    <tr style=\"text-align: right;\">\n",
       "      <th></th>\n",
       "      <th>months_as_customer</th>\n",
       "      <th>age</th>\n",
       "      <th>policy_state</th>\n",
       "      <th>policy_csl</th>\n",
       "      <th>policy_deductable</th>\n",
       "      <th>policy_annual_premium</th>\n",
       "      <th>umbrella_limit</th>\n",
       "      <th>insured_sex</th>\n",
       "      <th>insured_education_level</th>\n",
       "      <th>insured_occupation</th>\n",
       "      <th>...</th>\n",
       "      <th>witnesses</th>\n",
       "      <th>police_report_available</th>\n",
       "      <th>total_claim_amount</th>\n",
       "      <th>injury_claim</th>\n",
       "      <th>property_claim</th>\n",
       "      <th>vehicle_claim</th>\n",
       "      <th>auto_make</th>\n",
       "      <th>auto_model</th>\n",
       "      <th>auto_year</th>\n",
       "      <th>fraud_reported</th>\n",
       "    </tr>\n",
       "  </thead>\n",
       "  <tbody>\n",
       "    <tr>\n",
       "      <th>0</th>\n",
       "      <td>0.0</td>\n",
       "      <td>0.0</td>\n",
       "      <td>0.0</td>\n",
       "      <td>0.0</td>\n",
       "      <td>0.0</td>\n",
       "      <td>1.0</td>\n",
       "      <td>0.0</td>\n",
       "      <td>1.0</td>\n",
       "      <td>0.0</td>\n",
       "      <td>1.0</td>\n",
       "      <td>...</td>\n",
       "      <td>0.0</td>\n",
       "      <td>0.0</td>\n",
       "      <td>1.0</td>\n",
       "      <td>0.0</td>\n",
       "      <td>0.0</td>\n",
       "      <td>1.0</td>\n",
       "      <td>1.0</td>\n",
       "      <td>1.0</td>\n",
       "      <td>1.0</td>\n",
       "      <td>1.0</td>\n",
       "    </tr>\n",
       "    <tr>\n",
       "      <th>1</th>\n",
       "      <td>0.0</td>\n",
       "      <td>0.0</td>\n",
       "      <td>0.0</td>\n",
       "      <td>0.0</td>\n",
       "      <td>0.0</td>\n",
       "      <td>0.0</td>\n",
       "      <td>0.0</td>\n",
       "      <td>1.0</td>\n",
       "      <td>0.0</td>\n",
       "      <td>1.0</td>\n",
       "      <td>...</td>\n",
       "      <td>1.0</td>\n",
       "      <td>0.0</td>\n",
       "      <td>1.0</td>\n",
       "      <td>0.0</td>\n",
       "      <td>0.0</td>\n",
       "      <td>1.0</td>\n",
       "      <td>0.0</td>\n",
       "      <td>0.0</td>\n",
       "      <td>0.0</td>\n",
       "      <td>0.0</td>\n",
       "    </tr>\n",
       "    <tr>\n",
       "      <th>2</th>\n",
       "      <td>0.0</td>\n",
       "      <td>0.0</td>\n",
       "      <td>0.0</td>\n",
       "      <td>0.0</td>\n",
       "      <td>0.0</td>\n",
       "      <td>0.0</td>\n",
       "      <td>0.0</td>\n",
       "      <td>1.0</td>\n",
       "      <td>0.0</td>\n",
       "      <td>1.0</td>\n",
       "      <td>...</td>\n",
       "      <td>1.0</td>\n",
       "      <td>0.0</td>\n",
       "      <td>0.0</td>\n",
       "      <td>0.0</td>\n",
       "      <td>0.0</td>\n",
       "      <td>0.0</td>\n",
       "      <td>1.0</td>\n",
       "      <td>1.0</td>\n",
       "      <td>0.0</td>\n",
       "      <td>1.0</td>\n",
       "    </tr>\n",
       "  </tbody>\n",
       "</table>\n",
       "<p>3 rows × 34 columns</p>\n",
       "</div>"
      ],
      "text/plain": [
       "   months_as_customer  age  policy_state  policy_csl  policy_deductable  \\\n",
       "0                 0.0  0.0           0.0         0.0                0.0   \n",
       "1                 0.0  0.0           0.0         0.0                0.0   \n",
       "2                 0.0  0.0           0.0         0.0                0.0   \n",
       "\n",
       "   policy_annual_premium  umbrella_limit  insured_sex  \\\n",
       "0                    1.0             0.0          1.0   \n",
       "1                    0.0             0.0          1.0   \n",
       "2                    0.0             0.0          1.0   \n",
       "\n",
       "   insured_education_level  insured_occupation  ...  witnesses  \\\n",
       "0                      0.0                 1.0  ...        0.0   \n",
       "1                      0.0                 1.0  ...        1.0   \n",
       "2                      0.0                 1.0  ...        1.0   \n",
       "\n",
       "   police_report_available  total_claim_amount  injury_claim  property_claim  \\\n",
       "0                      0.0                 1.0           0.0             0.0   \n",
       "1                      0.0                 1.0           0.0             0.0   \n",
       "2                      0.0                 0.0           0.0             0.0   \n",
       "\n",
       "   vehicle_claim  auto_make  auto_model  auto_year  fraud_reported  \n",
       "0            1.0        1.0         1.0        1.0             1.0  \n",
       "1            1.0        0.0         0.0        0.0             0.0  \n",
       "2            0.0        1.0         1.0        0.0             1.0  \n",
       "\n",
       "[3 rows x 34 columns]"
      ]
     },
     "execution_count": 1693,
     "metadata": {},
     "output_type": "execute_result"
    }
   ],
   "source": [
    "# Fitting K-Means to the dataset\n",
    "km = KMeans(n_clusters = 3, init = 'k-means++', random_state = 0).fit_predict(df)\n",
    "kms = KMeans(n_clusters = 3, random_state = 0).fit(df)\n",
    "pd.DataFrame(kms.cluster_centers_, columns = ['months_as_customer', 'age', 'policy_state', 'policy_csl',\n",
    "       'policy_deductable', 'policy_annual_premium', 'umbrella_limit',\n",
    "       'insured_sex', 'insured_education_level', 'insured_occupation',\n",
    "       'insured_hobbies', 'insured_relationship', 'capital-gains',\n",
    "       'capital-loss', 'incident_type', 'collision_type', 'incident_severity',\n",
    "       'authorities_contacted', 'incident_state', 'incident_city',\n",
    "       'incident_hour_of_the_day', 'number_of_vehicles_involved',\n",
    "       'property_damage', 'bodily_injuries', 'witnesses',\n",
    "       'police_report_available', 'total_claim_amount', 'injury_claim',\n",
    "       'property_claim', 'vehicle_claim', 'auto_make', 'auto_model',\n",
    "       'auto_year', 'fraud_reported']).round()"
   ]
  },
  {
   "cell_type": "code",
   "execution_count": 1698,
   "metadata": {},
   "outputs": [],
   "source": [
    "# Less features\n",
    "X = df[:, [5,10,15,24,26,29,30,31,32,33]]"
   ]
  },
  {
   "cell_type": "code",
   "execution_count": 1701,
   "metadata": {},
   "outputs": [
    {
     "data": {
      "text/html": [
       "<div>\n",
       "<style scoped>\n",
       "    .dataframe tbody tr th:only-of-type {\n",
       "        vertical-align: middle;\n",
       "    }\n",
       "\n",
       "    .dataframe tbody tr th {\n",
       "        vertical-align: top;\n",
       "    }\n",
       "\n",
       "    .dataframe thead th {\n",
       "        text-align: right;\n",
       "    }\n",
       "</style>\n",
       "<table border=\"1\" class=\"dataframe\">\n",
       "  <thead>\n",
       "    <tr style=\"text-align: right;\">\n",
       "      <th></th>\n",
       "      <th>policy_annual_premium</th>\n",
       "      <th>insured_hobbies</th>\n",
       "      <th>collision_type</th>\n",
       "      <th>witnesses</th>\n",
       "      <th>total_claim_amount</th>\n",
       "      <th>vehicle_claim</th>\n",
       "      <th>auto_make</th>\n",
       "      <th>auto_model</th>\n",
       "      <th>auto_year</th>\n",
       "      <th>fraud_reported</th>\n",
       "    </tr>\n",
       "  </thead>\n",
       "  <tbody>\n",
       "    <tr>\n",
       "      <th>0</th>\n",
       "      <td>1.0</td>\n",
       "      <td>1.0</td>\n",
       "      <td>0.0</td>\n",
       "      <td>0.0</td>\n",
       "      <td>1.0</td>\n",
       "      <td>1.0</td>\n",
       "      <td>1.0</td>\n",
       "      <td>1.0</td>\n",
       "      <td>1.0</td>\n",
       "      <td>1.0</td>\n",
       "    </tr>\n",
       "    <tr>\n",
       "      <th>1</th>\n",
       "      <td>0.0</td>\n",
       "      <td>1.0</td>\n",
       "      <td>1.0</td>\n",
       "      <td>1.0</td>\n",
       "      <td>0.0</td>\n",
       "      <td>0.0</td>\n",
       "      <td>1.0</td>\n",
       "      <td>1.0</td>\n",
       "      <td>0.0</td>\n",
       "      <td>1.0</td>\n",
       "    </tr>\n",
       "    <tr>\n",
       "      <th>2</th>\n",
       "      <td>0.0</td>\n",
       "      <td>1.0</td>\n",
       "      <td>0.0</td>\n",
       "      <td>1.0</td>\n",
       "      <td>1.0</td>\n",
       "      <td>1.0</td>\n",
       "      <td>0.0</td>\n",
       "      <td>0.0</td>\n",
       "      <td>0.0</td>\n",
       "      <td>0.0</td>\n",
       "    </tr>\n",
       "  </tbody>\n",
       "</table>\n",
       "</div>"
      ],
      "text/plain": [
       "   policy_annual_premium  insured_hobbies  collision_type  witnesses  \\\n",
       "0                    1.0              1.0             0.0        0.0   \n",
       "1                    0.0              1.0             1.0        1.0   \n",
       "2                    0.0              1.0             0.0        1.0   \n",
       "\n",
       "   total_claim_amount  vehicle_claim  auto_make  auto_model  auto_year  \\\n",
       "0                 1.0            1.0        1.0         1.0        1.0   \n",
       "1                 0.0            0.0        1.0         1.0        0.0   \n",
       "2                 1.0            1.0        0.0         0.0        0.0   \n",
       "\n",
       "   fraud_reported  \n",
       "0             1.0  \n",
       "1             1.0  \n",
       "2             0.0  "
      ]
     },
     "execution_count": 1701,
     "metadata": {},
     "output_type": "execute_result"
    }
   ],
   "source": [
    "# Fitting K-Means to the dataset\n",
    "km = KMeans(n_clusters = 3, init = 'k-means++', random_state = 0).fit_predict(X)\n",
    "kms = KMeans(n_clusters = 3, random_state = 0).fit(X)\n",
    "pd.DataFrame(kms.cluster_centers_, columns = ['policy_annual_premium','insured_hobbies','collision_type','witnesses',\n",
    "                                              'total_claim_amount',\n",
    "                                              'vehicle_claim', 'auto_make', 'auto_model','auto_year', 'fraud_reported']).round()"
   ]
  },
  {
   "cell_type": "markdown",
   "metadata": {},
   "source": [
    "# SOM"
   ]
  },
  {
   "cell_type": "code",
   "execution_count": 1742,
   "metadata": {},
   "outputs": [
    {
     "name": "stdout",
     "output_type": "stream",
     "text": [
      "Periodic Boundary Conditions active.\n",
      "The weights will be initialised randomly.\n",
      "Training SOM... done!\n"
     ]
    }
   ],
   "source": [
    "import SimpSOM as sps\n",
    "np.random.seed(605891282)\n",
    "net = sps.somNet(10, 20, X, PBC=True)\n",
    "net.train(0.01, 10000)\n",
    "#net.save(‘filename_weights’)"
   ]
  },
  {
   "cell_type": "code",
   "execution_count": 1739,
   "metadata": {},
   "outputs": [
    {
     "data": {
      "image/png": "[encoded data removed]",
      "text/plain": [
       "<Figure size 432x288 with 1 Axes>"
      ]
     },
     "metadata": {
      "needs_background": "light"
     },
     "output_type": "display_data"
    }
   ],
   "source": [
    "prj=np.array(net.project(X))\n",
    "plt.scatter(prj.T[0],prj.T[1])\n",
    "plt.show()"
   ]
  },
  {
   "cell_type": "code",
   "execution_count": 1743,
   "metadata": {},
   "outputs": [],
   "source": [
    "# Fitting kmeans to SOM\n",
    "from sklearn.cluster import KMeans\n",
    "kmeans = KMeans(n_clusters=3, random_state=0).fit(prj)"
   ]
  },
  {
   "cell_type": "code",
   "execution_count": 1744,
   "metadata": {},
   "outputs": [
    {
     "data": {
      "text/plain": [
       "0.7580864292546114"
      ]
     },
     "execution_count": 1744,
     "metadata": {},
     "output_type": "execute_result"
    }
   ],
   "source": [
    "# Comparing Clustering Algorithms\n",
    "from sklearn.metrics.cluster import adjusted_rand_score\n",
    "adjusted_rand_score(km,kmeans.labels_)"
   ]
  },
  {
   "cell_type": "markdown",
   "metadata": {},
   "source": [
    "# Hierarchical Clustering"
   ]
  },
  {
   "cell_type": "code",
   "execution_count": 1745,
   "metadata": {},
   "outputs": [
    {
     "data": {
      "image/png": "[encoded data removed]",
      "text/plain": [
       "<Figure size 432x288 with 1 Axes>"
      ]
     },
     "metadata": {
      "needs_background": "light"
     },
     "output_type": "display_data"
    }
   ],
   "source": [
    "# Using the dendrogram to find the optimal number of clusters\n",
    "import scipy.cluster.hierarchy as sch\n",
    "dendrogram = sch.dendrogram(sch.linkage(X, method = 'ward'))\n",
    "plt.title('Dendrogram')\n",
    "plt.xlabel('Customers')\n",
    "plt.ylabel('Euclidean distances')\n",
    "plt.show()"
   ]
  },
  {
   "cell_type": "code",
   "execution_count": 1746,
   "metadata": {},
   "outputs": [],
   "source": [
    "# Fitting Hierarchical Clustering to the dataset\n",
    "from sklearn.cluster import AgglomerativeClustering\n",
    "hc = AgglomerativeClustering(n_clusters = 3, affinity = 'euclidean', linkage = 'ward').fit_predict(df)"
   ]
  },
  {
   "cell_type": "code",
   "execution_count": 1747,
   "metadata": {},
   "outputs": [
    {
     "data": {
      "text/plain": [
       "0.6456685558729993"
      ]
     },
     "execution_count": 1747,
     "metadata": {},
     "output_type": "execute_result"
    }
   ],
   "source": [
    "# Comparing Clustering Algorithms\n",
    "from sklearn.metrics.cluster import adjusted_rand_score\n",
    "adjusted_rand_score(hc,kmeans.labels_)"
   ]
  },
  {
   "cell_type": "code",
   "execution_count": 1748,
   "metadata": {},
   "outputs": [
    {
     "data": {
      "text/plain": [
       "0.8543623853497468"
      ]
     },
     "execution_count": 1748,
     "metadata": {},
     "output_type": "execute_result"
    }
   ],
   "source": [
    "# Comparing Clustering Algorithms\n",
    "from sklearn.metrics.cluster import adjusted_rand_score\n",
    "adjusted_rand_score(hc,km)"
   ]
  }
 ],
 "metadata": {
  "kernelspec": {
   "display_name": "Python 3",
   "language": "python",
   "name": "python3"
  },
  "language_info": {
   "codemirror_mode": {
    "name": "ipython",
    "version": 3
   },
   "file_extension": ".py",
   "mimetype": "text/x-python",
   "name": "python",
   "nbconvert_exporter": "python",
   "pygments_lexer": "ipython3",
   "version": "3.6.12"
  }
 },
 "nbformat": 4,
 "nbformat_minor": 4
}
